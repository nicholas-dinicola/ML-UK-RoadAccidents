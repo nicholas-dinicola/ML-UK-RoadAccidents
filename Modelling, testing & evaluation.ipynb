{
 "cells": [
  {
   "cell_type": "markdown",
   "id": "exterior-stylus",
   "metadata": {},
   "source": [
    "# **Modelling, testing & Evaluation**"
   ]
  },
  {
   "cell_type": "markdown",
   "id": "municipal-elder",
   "metadata": {},
   "source": [
    "In this part, I am going to tune and build a few algorithms to predict the Accident Severity in the UK in order to improve the road safety in the country. "
   ]
  },
  {
   "cell_type": "markdown",
   "id": "protective-lending",
   "metadata": {},
   "source": [
    "First of all we are going to import all the libraries and modules we will use during the analys. "
   ]
  },
  {
   "cell_type": "code",
   "execution_count": 1,
   "id": "broad-federation",
   "metadata": {},
   "outputs": [],
   "source": [
    "import pandas as pd \n",
    "import numpy as np \n",
    "import matplotlib.pyplot as plt \n",
    "%matplotlib inline \n",
    "import seaborn as sns \n",
    "import time \n",
    "import os\n",
    "from joblib import dump\n",
    "from joblib import load\n",
    "\n",
    "from imblearn.pipeline import Pipeline\n",
    "from sklearn.model_selection import GridSearchCV, RandomizedSearchCV\n",
    "from imblearn.over_sampling import SMOTE\n",
    "from sklearn.feature_selection import SelectFromModel\n",
    "from sklearn.metrics import precision_recall_fscore_support, plot_confusion_matrix, plot_precision_recall_curve\n",
    "\n",
    "from sklearn.linear_model import LogisticRegression\n",
    "from sklearn.ensemble import RandomForestClassifier\n",
    "from xgboost import XGBClassifier"
   ]
  },
  {
   "cell_type": "markdown",
   "id": "blank-israeli",
   "metadata": {},
   "source": [
    "We can now read the training and testing set, which have been cleaned and transformed in the first part of the project. "
   ]
  },
  {
   "cell_type": "code",
   "execution_count": 2,
   "id": "excess-hotel",
   "metadata": {},
   "outputs": [],
   "source": [
    "#load the training set \n",
    "train_set = pd.read_csv(\"final_trainset.csv\")\n",
    "\n",
    "#load the testing set \n",
    "test_set = pd.read_csv(\"final_testset.csv\")"
   ]
  },
  {
   "cell_type": "code",
   "execution_count": 3,
   "id": "rocky-target",
   "metadata": {},
   "outputs": [
    {
     "name": "stdout",
     "output_type": "stream",
     "text": [
      "train shape: (93978, 35)\n",
      "test shape: (23495, 35)\n"
     ]
    }
   ],
   "source": [
    "#print the shape of training and testing set \n",
    "print(f\"train shape: {train_set.shape}\\ntest shape: {test_set.shape}\")"
   ]
  },
  {
   "cell_type": "code",
   "execution_count": 4,
   "id": "driven-pittsburgh",
   "metadata": {},
   "outputs": [
    {
     "data": {
      "text/html": [
       "<style  type=\"text/css\" >\n",
       "</style><table id=\"T_f71e9_\" ><thead>    <tr>        <th class=\"blank level0\" ></th>        <th class=\"col_heading level0 col0\" >Location_Easting_OSGR</th>        <th class=\"col_heading level0 col1\" >Location_Northing_OSGR</th>        <th class=\"col_heading level0 col2\" >Longitude</th>        <th class=\"col_heading level0 col3\" >Latitude</th>        <th class=\"col_heading level0 col4\" >Number_of_Vehicles</th>        <th class=\"col_heading level0 col5\" >Speed_limit</th>        <th class=\"col_heading level0 col6\" >high_winds</th>        <th class=\"col_heading level0 col7\" >Monday</th>        <th class=\"col_heading level0 col8\" >Saturday</th>        <th class=\"col_heading level0 col9\" >Sunday</th>        <th class=\"col_heading level0 col10\" >Thursday</th>        <th class=\"col_heading level0 col11\" >Tuesday</th>        <th class=\"col_heading level0 col12\" >Wednsday</th>        <th class=\"col_heading level0 col13\" >One way street</th>        <th class=\"col_heading level0 col14\" >Roundabout</th>        <th class=\"col_heading level0 col15\" >Single carriageway</th>        <th class=\"col_heading level0 col16\" >Slip road</th>        <th class=\"col_heading level0 col17\" >Darkness - No lighting</th>        <th class=\"col_heading level0 col18\" >Daylight</th>        <th class=\"col_heading level0 col19\" >Snow</th>        <th class=\"col_heading level0 col20\" >Water</th>        <th class=\"col_heading level0 col21\" >None</th>        <th class=\"col_heading level0 col22\" >Road Defect</th>        <th class=\"col_heading level0 col23\" >Urban</th>        <th class=\"col_heading level0 col24\" >Spring</th>        <th class=\"col_heading level0 col25\" >Summer</th>        <th class=\"col_heading level0 col26\" >Winter</th>        <th class=\"col_heading level0 col27\" >Morning</th>        <th class=\"col_heading level0 col28\" >Night</th>        <th class=\"col_heading level0 col29\" >Road Hazard</th>        <th class=\"col_heading level0 col30\" >Fog or mist</th>        <th class=\"col_heading level0 col31\" >Other</th>        <th class=\"col_heading level0 col32\" >Raining</th>        <th class=\"col_heading level0 col33\" >Snowing</th>        <th class=\"col_heading level0 col34\" >Accident_Severity</th>    </tr></thead><tbody>\n",
       "                <tr>\n",
       "                        <th id=\"T_f71e9_level0_row0\" class=\"row_heading level0 row0\" >0</th>\n",
       "                        <td id=\"T_f71e9_row0_col0\" class=\"data row0 col0\" >-1.442574</td>\n",
       "                        <td id=\"T_f71e9_row0_col1\" class=\"data row0 col1\" >2.079796</td>\n",
       "                        <td id=\"T_f71e9_row0_col2\" class=\"data row0 col2\" >-1.556315</td>\n",
       "                        <td id=\"T_f71e9_row0_col3\" class=\"data row0 col3\" >2.064596</td>\n",
       "                        <td id=\"T_f71e9_row0_col4\" class=\"data row0 col4\" >-1.000000</td>\n",
       "                        <td id=\"T_f71e9_row0_col5\" class=\"data row0 col5\" >0.000000</td>\n",
       "                        <td id=\"T_f71e9_row0_col6\" class=\"data row0 col6\" >True</td>\n",
       "                        <td id=\"T_f71e9_row0_col7\" class=\"data row0 col7\" >0.000000</td>\n",
       "                        <td id=\"T_f71e9_row0_col8\" class=\"data row0 col8\" >0.000000</td>\n",
       "                        <td id=\"T_f71e9_row0_col9\" class=\"data row0 col9\" >0.000000</td>\n",
       "                        <td id=\"T_f71e9_row0_col10\" class=\"data row0 col10\" >0.000000</td>\n",
       "                        <td id=\"T_f71e9_row0_col11\" class=\"data row0 col11\" >0.000000</td>\n",
       "                        <td id=\"T_f71e9_row0_col12\" class=\"data row0 col12\" >1.000000</td>\n",
       "                        <td id=\"T_f71e9_row0_col13\" class=\"data row0 col13\" >0.000000</td>\n",
       "                        <td id=\"T_f71e9_row0_col14\" class=\"data row0 col14\" >0.000000</td>\n",
       "                        <td id=\"T_f71e9_row0_col15\" class=\"data row0 col15\" >1.000000</td>\n",
       "                        <td id=\"T_f71e9_row0_col16\" class=\"data row0 col16\" >0.000000</td>\n",
       "                        <td id=\"T_f71e9_row0_col17\" class=\"data row0 col17\" >1.000000</td>\n",
       "                        <td id=\"T_f71e9_row0_col18\" class=\"data row0 col18\" >0.000000</td>\n",
       "                        <td id=\"T_f71e9_row0_col19\" class=\"data row0 col19\" >0.000000</td>\n",
       "                        <td id=\"T_f71e9_row0_col20\" class=\"data row0 col20\" >1.000000</td>\n",
       "                        <td id=\"T_f71e9_row0_col21\" class=\"data row0 col21\" >1.000000</td>\n",
       "                        <td id=\"T_f71e9_row0_col22\" class=\"data row0 col22\" >0.000000</td>\n",
       "                        <td id=\"T_f71e9_row0_col23\" class=\"data row0 col23\" >1.000000</td>\n",
       "                        <td id=\"T_f71e9_row0_col24\" class=\"data row0 col24\" >0.000000</td>\n",
       "                        <td id=\"T_f71e9_row0_col25\" class=\"data row0 col25\" >0.000000</td>\n",
       "                        <td id=\"T_f71e9_row0_col26\" class=\"data row0 col26\" >1.000000</td>\n",
       "                        <td id=\"T_f71e9_row0_col27\" class=\"data row0 col27\" >1.000000</td>\n",
       "                        <td id=\"T_f71e9_row0_col28\" class=\"data row0 col28\" >0.000000</td>\n",
       "                        <td id=\"T_f71e9_row0_col29\" class=\"data row0 col29\" >0.000000</td>\n",
       "                        <td id=\"T_f71e9_row0_col30\" class=\"data row0 col30\" >0.000000</td>\n",
       "                        <td id=\"T_f71e9_row0_col31\" class=\"data row0 col31\" >0.000000</td>\n",
       "                        <td id=\"T_f71e9_row0_col32\" class=\"data row0 col32\" >1.000000</td>\n",
       "                        <td id=\"T_f71e9_row0_col33\" class=\"data row0 col33\" >0.000000</td>\n",
       "                        <td id=\"T_f71e9_row0_col34\" class=\"data row0 col34\" >Slight</td>\n",
       "            </tr>\n",
       "            <tr>\n",
       "                        <th id=\"T_f71e9_level0_row1\" class=\"row_heading level0 row1\" >1</th>\n",
       "                        <td id=\"T_f71e9_row1_col0\" class=\"data row1 col0\" >0.370081</td>\n",
       "                        <td id=\"T_f71e9_row1_col1\" class=\"data row1 col1\" >1.005455</td>\n",
       "                        <td id=\"T_f71e9_row1_col2\" class=\"data row1 col2\" >0.398955</td>\n",
       "                        <td id=\"T_f71e9_row1_col3\" class=\"data row1 col3\" >1.001380</td>\n",
       "                        <td id=\"T_f71e9_row1_col4\" class=\"data row1 col4\" >-1.000000</td>\n",
       "                        <td id=\"T_f71e9_row1_col5\" class=\"data row1 col5\" >-1.000000</td>\n",
       "                        <td id=\"T_f71e9_row1_col6\" class=\"data row1 col6\" >False</td>\n",
       "                        <td id=\"T_f71e9_row1_col7\" class=\"data row1 col7\" >0.000000</td>\n",
       "                        <td id=\"T_f71e9_row1_col8\" class=\"data row1 col8\" >1.000000</td>\n",
       "                        <td id=\"T_f71e9_row1_col9\" class=\"data row1 col9\" >0.000000</td>\n",
       "                        <td id=\"T_f71e9_row1_col10\" class=\"data row1 col10\" >0.000000</td>\n",
       "                        <td id=\"T_f71e9_row1_col11\" class=\"data row1 col11\" >0.000000</td>\n",
       "                        <td id=\"T_f71e9_row1_col12\" class=\"data row1 col12\" >0.000000</td>\n",
       "                        <td id=\"T_f71e9_row1_col13\" class=\"data row1 col13\" >0.000000</td>\n",
       "                        <td id=\"T_f71e9_row1_col14\" class=\"data row1 col14\" >0.000000</td>\n",
       "                        <td id=\"T_f71e9_row1_col15\" class=\"data row1 col15\" >1.000000</td>\n",
       "                        <td id=\"T_f71e9_row1_col16\" class=\"data row1 col16\" >0.000000</td>\n",
       "                        <td id=\"T_f71e9_row1_col17\" class=\"data row1 col17\" >0.000000</td>\n",
       "                        <td id=\"T_f71e9_row1_col18\" class=\"data row1 col18\" >0.000000</td>\n",
       "                        <td id=\"T_f71e9_row1_col19\" class=\"data row1 col19\" >0.000000</td>\n",
       "                        <td id=\"T_f71e9_row1_col20\" class=\"data row1 col20\" >0.000000</td>\n",
       "                        <td id=\"T_f71e9_row1_col21\" class=\"data row1 col21\" >1.000000</td>\n",
       "                        <td id=\"T_f71e9_row1_col22\" class=\"data row1 col22\" >0.000000</td>\n",
       "                        <td id=\"T_f71e9_row1_col23\" class=\"data row1 col23\" >1.000000</td>\n",
       "                        <td id=\"T_f71e9_row1_col24\" class=\"data row1 col24\" >0.000000</td>\n",
       "                        <td id=\"T_f71e9_row1_col25\" class=\"data row1 col25\" >1.000000</td>\n",
       "                        <td id=\"T_f71e9_row1_col26\" class=\"data row1 col26\" >0.000000</td>\n",
       "                        <td id=\"T_f71e9_row1_col27\" class=\"data row1 col27\" >0.000000</td>\n",
       "                        <td id=\"T_f71e9_row1_col28\" class=\"data row1 col28\" >1.000000</td>\n",
       "                        <td id=\"T_f71e9_row1_col29\" class=\"data row1 col29\" >0.000000</td>\n",
       "                        <td id=\"T_f71e9_row1_col30\" class=\"data row1 col30\" >0.000000</td>\n",
       "                        <td id=\"T_f71e9_row1_col31\" class=\"data row1 col31\" >0.000000</td>\n",
       "                        <td id=\"T_f71e9_row1_col32\" class=\"data row1 col32\" >0.000000</td>\n",
       "                        <td id=\"T_f71e9_row1_col33\" class=\"data row1 col33\" >0.000000</td>\n",
       "                        <td id=\"T_f71e9_row1_col34\" class=\"data row1 col34\" >Slight</td>\n",
       "            </tr>\n",
       "            <tr>\n",
       "                        <th id=\"T_f71e9_level0_row2\" class=\"row_heading level0 row2\" >2</th>\n",
       "                        <td id=\"T_f71e9_row2_col0\" class=\"data row2 col0\" >-0.698771</td>\n",
       "                        <td id=\"T_f71e9_row2_col1\" class=\"data row2 col1\" >-0.202495</td>\n",
       "                        <td id=\"T_f71e9_row2_col2\" class=\"data row2 col2\" >-0.706757</td>\n",
       "                        <td id=\"T_f71e9_row2_col3\" class=\"data row2 col3\" >-0.194844</td>\n",
       "                        <td id=\"T_f71e9_row2_col4\" class=\"data row2 col4\" >-1.000000</td>\n",
       "                        <td id=\"T_f71e9_row2_col5\" class=\"data row2 col5\" >0.000000</td>\n",
       "                        <td id=\"T_f71e9_row2_col6\" class=\"data row2 col6\" >False</td>\n",
       "                        <td id=\"T_f71e9_row2_col7\" class=\"data row2 col7\" >0.000000</td>\n",
       "                        <td id=\"T_f71e9_row2_col8\" class=\"data row2 col8\" >0.000000</td>\n",
       "                        <td id=\"T_f71e9_row2_col9\" class=\"data row2 col9\" >0.000000</td>\n",
       "                        <td id=\"T_f71e9_row2_col10\" class=\"data row2 col10\" >0.000000</td>\n",
       "                        <td id=\"T_f71e9_row2_col11\" class=\"data row2 col11\" >0.000000</td>\n",
       "                        <td id=\"T_f71e9_row2_col12\" class=\"data row2 col12\" >1.000000</td>\n",
       "                        <td id=\"T_f71e9_row2_col13\" class=\"data row2 col13\" >0.000000</td>\n",
       "                        <td id=\"T_f71e9_row2_col14\" class=\"data row2 col14\" >0.000000</td>\n",
       "                        <td id=\"T_f71e9_row2_col15\" class=\"data row2 col15\" >1.000000</td>\n",
       "                        <td id=\"T_f71e9_row2_col16\" class=\"data row2 col16\" >0.000000</td>\n",
       "                        <td id=\"T_f71e9_row2_col17\" class=\"data row2 col17\" >0.000000</td>\n",
       "                        <td id=\"T_f71e9_row2_col18\" class=\"data row2 col18\" >1.000000</td>\n",
       "                        <td id=\"T_f71e9_row2_col19\" class=\"data row2 col19\" >0.000000</td>\n",
       "                        <td id=\"T_f71e9_row2_col20\" class=\"data row2 col20\" >0.000000</td>\n",
       "                        <td id=\"T_f71e9_row2_col21\" class=\"data row2 col21\" >1.000000</td>\n",
       "                        <td id=\"T_f71e9_row2_col22\" class=\"data row2 col22\" >0.000000</td>\n",
       "                        <td id=\"T_f71e9_row2_col23\" class=\"data row2 col23\" >1.000000</td>\n",
       "                        <td id=\"T_f71e9_row2_col24\" class=\"data row2 col24\" >0.000000</td>\n",
       "                        <td id=\"T_f71e9_row2_col25\" class=\"data row2 col25\" >0.000000</td>\n",
       "                        <td id=\"T_f71e9_row2_col26\" class=\"data row2 col26\" >1.000000</td>\n",
       "                        <td id=\"T_f71e9_row2_col27\" class=\"data row2 col27\" >1.000000</td>\n",
       "                        <td id=\"T_f71e9_row2_col28\" class=\"data row2 col28\" >0.000000</td>\n",
       "                        <td id=\"T_f71e9_row2_col29\" class=\"data row2 col29\" >0.000000</td>\n",
       "                        <td id=\"T_f71e9_row2_col30\" class=\"data row2 col30\" >0.000000</td>\n",
       "                        <td id=\"T_f71e9_row2_col31\" class=\"data row2 col31\" >0.000000</td>\n",
       "                        <td id=\"T_f71e9_row2_col32\" class=\"data row2 col32\" >0.000000</td>\n",
       "                        <td id=\"T_f71e9_row2_col33\" class=\"data row2 col33\" >0.000000</td>\n",
       "                        <td id=\"T_f71e9_row2_col34\" class=\"data row2 col34\" >Slight</td>\n",
       "            </tr>\n",
       "            <tr>\n",
       "                        <th id=\"T_f71e9_level0_row3\" class=\"row_heading level0 row3\" >3</th>\n",
       "                        <td id=\"T_f71e9_row3_col0\" class=\"data row3 col0\" >0.560456</td>\n",
       "                        <td id=\"T_f71e9_row3_col1\" class=\"data row3 col1\" >-0.225449</td>\n",
       "                        <td id=\"T_f71e9_row3_col2\" class=\"data row3 col2\" >0.545707</td>\n",
       "                        <td id=\"T_f71e9_row3_col3\" class=\"data row3 col3\" >-0.225843</td>\n",
       "                        <td id=\"T_f71e9_row3_col4\" class=\"data row3 col4\" >1.000000</td>\n",
       "                        <td id=\"T_f71e9_row3_col5\" class=\"data row3 col5\" >-1.000000</td>\n",
       "                        <td id=\"T_f71e9_row3_col6\" class=\"data row3 col6\" >False</td>\n",
       "                        <td id=\"T_f71e9_row3_col7\" class=\"data row3 col7\" >1.000000</td>\n",
       "                        <td id=\"T_f71e9_row3_col8\" class=\"data row3 col8\" >0.000000</td>\n",
       "                        <td id=\"T_f71e9_row3_col9\" class=\"data row3 col9\" >0.000000</td>\n",
       "                        <td id=\"T_f71e9_row3_col10\" class=\"data row3 col10\" >0.000000</td>\n",
       "                        <td id=\"T_f71e9_row3_col11\" class=\"data row3 col11\" >0.000000</td>\n",
       "                        <td id=\"T_f71e9_row3_col12\" class=\"data row3 col12\" >0.000000</td>\n",
       "                        <td id=\"T_f71e9_row3_col13\" class=\"data row3 col13\" >0.000000</td>\n",
       "                        <td id=\"T_f71e9_row3_col14\" class=\"data row3 col14\" >0.000000</td>\n",
       "                        <td id=\"T_f71e9_row3_col15\" class=\"data row3 col15\" >1.000000</td>\n",
       "                        <td id=\"T_f71e9_row3_col16\" class=\"data row3 col16\" >0.000000</td>\n",
       "                        <td id=\"T_f71e9_row3_col17\" class=\"data row3 col17\" >0.000000</td>\n",
       "                        <td id=\"T_f71e9_row3_col18\" class=\"data row3 col18\" >1.000000</td>\n",
       "                        <td id=\"T_f71e9_row3_col19\" class=\"data row3 col19\" >0.000000</td>\n",
       "                        <td id=\"T_f71e9_row3_col20\" class=\"data row3 col20\" >0.000000</td>\n",
       "                        <td id=\"T_f71e9_row3_col21\" class=\"data row3 col21\" >1.000000</td>\n",
       "                        <td id=\"T_f71e9_row3_col22\" class=\"data row3 col22\" >0.000000</td>\n",
       "                        <td id=\"T_f71e9_row3_col23\" class=\"data row3 col23\" >1.000000</td>\n",
       "                        <td id=\"T_f71e9_row3_col24\" class=\"data row3 col24\" >0.000000</td>\n",
       "                        <td id=\"T_f71e9_row3_col25\" class=\"data row3 col25\" >1.000000</td>\n",
       "                        <td id=\"T_f71e9_row3_col26\" class=\"data row3 col26\" >0.000000</td>\n",
       "                        <td id=\"T_f71e9_row3_col27\" class=\"data row3 col27\" >0.000000</td>\n",
       "                        <td id=\"T_f71e9_row3_col28\" class=\"data row3 col28\" >0.000000</td>\n",
       "                        <td id=\"T_f71e9_row3_col29\" class=\"data row3 col29\" >0.000000</td>\n",
       "                        <td id=\"T_f71e9_row3_col30\" class=\"data row3 col30\" >0.000000</td>\n",
       "                        <td id=\"T_f71e9_row3_col31\" class=\"data row3 col31\" >0.000000</td>\n",
       "                        <td id=\"T_f71e9_row3_col32\" class=\"data row3 col32\" >0.000000</td>\n",
       "                        <td id=\"T_f71e9_row3_col33\" class=\"data row3 col33\" >0.000000</td>\n",
       "                        <td id=\"T_f71e9_row3_col34\" class=\"data row3 col34\" >Slight</td>\n",
       "            </tr>\n",
       "            <tr>\n",
       "                        <th id=\"T_f71e9_level0_row4\" class=\"row_heading level0 row4\" >4</th>\n",
       "                        <td id=\"T_f71e9_row4_col0\" class=\"data row4 col0\" >0.373136</td>\n",
       "                        <td id=\"T_f71e9_row4_col1\" class=\"data row4 col1\" >0.722523</td>\n",
       "                        <td id=\"T_f71e9_row4_col2\" class=\"data row4 col2\" >0.391836</td>\n",
       "                        <td id=\"T_f71e9_row4_col3\" class=\"data row4 col3\" >0.720016</td>\n",
       "                        <td id=\"T_f71e9_row4_col4\" class=\"data row4 col4\" >-1.000000</td>\n",
       "                        <td id=\"T_f71e9_row4_col5\" class=\"data row4 col5\" >3.000000</td>\n",
       "                        <td id=\"T_f71e9_row4_col6\" class=\"data row4 col6\" >False</td>\n",
       "                        <td id=\"T_f71e9_row4_col7\" class=\"data row4 col7\" >0.000000</td>\n",
       "                        <td id=\"T_f71e9_row4_col8\" class=\"data row4 col8\" >0.000000</td>\n",
       "                        <td id=\"T_f71e9_row4_col9\" class=\"data row4 col9\" >0.000000</td>\n",
       "                        <td id=\"T_f71e9_row4_col10\" class=\"data row4 col10\" >0.000000</td>\n",
       "                        <td id=\"T_f71e9_row4_col11\" class=\"data row4 col11\" >1.000000</td>\n",
       "                        <td id=\"T_f71e9_row4_col12\" class=\"data row4 col12\" >0.000000</td>\n",
       "                        <td id=\"T_f71e9_row4_col13\" class=\"data row4 col13\" >0.000000</td>\n",
       "                        <td id=\"T_f71e9_row4_col14\" class=\"data row4 col14\" >0.000000</td>\n",
       "                        <td id=\"T_f71e9_row4_col15\" class=\"data row4 col15\" >1.000000</td>\n",
       "                        <td id=\"T_f71e9_row4_col16\" class=\"data row4 col16\" >0.000000</td>\n",
       "                        <td id=\"T_f71e9_row4_col17\" class=\"data row4 col17\" >0.000000</td>\n",
       "                        <td id=\"T_f71e9_row4_col18\" class=\"data row4 col18\" >1.000000</td>\n",
       "                        <td id=\"T_f71e9_row4_col19\" class=\"data row4 col19\" >0.000000</td>\n",
       "                        <td id=\"T_f71e9_row4_col20\" class=\"data row4 col20\" >1.000000</td>\n",
       "                        <td id=\"T_f71e9_row4_col21\" class=\"data row4 col21\" >1.000000</td>\n",
       "                        <td id=\"T_f71e9_row4_col22\" class=\"data row4 col22\" >0.000000</td>\n",
       "                        <td id=\"T_f71e9_row4_col23\" class=\"data row4 col23\" >0.000000</td>\n",
       "                        <td id=\"T_f71e9_row4_col24\" class=\"data row4 col24\" >0.000000</td>\n",
       "                        <td id=\"T_f71e9_row4_col25\" class=\"data row4 col25\" >1.000000</td>\n",
       "                        <td id=\"T_f71e9_row4_col26\" class=\"data row4 col26\" >0.000000</td>\n",
       "                        <td id=\"T_f71e9_row4_col27\" class=\"data row4 col27\" >0.000000</td>\n",
       "                        <td id=\"T_f71e9_row4_col28\" class=\"data row4 col28\" >0.000000</td>\n",
       "                        <td id=\"T_f71e9_row4_col29\" class=\"data row4 col29\" >0.000000</td>\n",
       "                        <td id=\"T_f71e9_row4_col30\" class=\"data row4 col30\" >0.000000</td>\n",
       "                        <td id=\"T_f71e9_row4_col31\" class=\"data row4 col31\" >0.000000</td>\n",
       "                        <td id=\"T_f71e9_row4_col32\" class=\"data row4 col32\" >1.000000</td>\n",
       "                        <td id=\"T_f71e9_row4_col33\" class=\"data row4 col33\" >0.000000</td>\n",
       "                        <td id=\"T_f71e9_row4_col34\" class=\"data row4 col34\" >Slight</td>\n",
       "            </tr>\n",
       "            <tr>\n",
       "                        <th id=\"T_f71e9_level0_row5\" class=\"row_heading level0 row5\" >5</th>\n",
       "                        <td id=\"T_f71e9_row5_col0\" class=\"data row5 col0\" >-0.849369</td>\n",
       "                        <td id=\"T_f71e9_row5_col1\" class=\"data row5 col1\" >1.609635</td>\n",
       "                        <td id=\"T_f71e9_row5_col2\" class=\"data row5 col2\" >-0.892327</td>\n",
       "                        <td id=\"T_f71e9_row5_col3\" class=\"data row5 col3\" >1.606573</td>\n",
       "                        <td id=\"T_f71e9_row5_col4\" class=\"data row5 col4\" >0.000000</td>\n",
       "                        <td id=\"T_f71e9_row5_col5\" class=\"data row5 col5\" >0.000000</td>\n",
       "                        <td id=\"T_f71e9_row5_col6\" class=\"data row5 col6\" >False</td>\n",
       "                        <td id=\"T_f71e9_row5_col7\" class=\"data row5 col7\" >0.000000</td>\n",
       "                        <td id=\"T_f71e9_row5_col8\" class=\"data row5 col8\" >0.000000</td>\n",
       "                        <td id=\"T_f71e9_row5_col9\" class=\"data row5 col9\" >1.000000</td>\n",
       "                        <td id=\"T_f71e9_row5_col10\" class=\"data row5 col10\" >0.000000</td>\n",
       "                        <td id=\"T_f71e9_row5_col11\" class=\"data row5 col11\" >0.000000</td>\n",
       "                        <td id=\"T_f71e9_row5_col12\" class=\"data row5 col12\" >0.000000</td>\n",
       "                        <td id=\"T_f71e9_row5_col13\" class=\"data row5 col13\" >0.000000</td>\n",
       "                        <td id=\"T_f71e9_row5_col14\" class=\"data row5 col14\" >0.000000</td>\n",
       "                        <td id=\"T_f71e9_row5_col15\" class=\"data row5 col15\" >1.000000</td>\n",
       "                        <td id=\"T_f71e9_row5_col16\" class=\"data row5 col16\" >0.000000</td>\n",
       "                        <td id=\"T_f71e9_row5_col17\" class=\"data row5 col17\" >0.000000</td>\n",
       "                        <td id=\"T_f71e9_row5_col18\" class=\"data row5 col18\" >1.000000</td>\n",
       "                        <td id=\"T_f71e9_row5_col19\" class=\"data row5 col19\" >0.000000</td>\n",
       "                        <td id=\"T_f71e9_row5_col20\" class=\"data row5 col20\" >1.000000</td>\n",
       "                        <td id=\"T_f71e9_row5_col21\" class=\"data row5 col21\" >1.000000</td>\n",
       "                        <td id=\"T_f71e9_row5_col22\" class=\"data row5 col22\" >0.000000</td>\n",
       "                        <td id=\"T_f71e9_row5_col23\" class=\"data row5 col23\" >1.000000</td>\n",
       "                        <td id=\"T_f71e9_row5_col24\" class=\"data row5 col24\" >0.000000</td>\n",
       "                        <td id=\"T_f71e9_row5_col25\" class=\"data row5 col25\" >1.000000</td>\n",
       "                        <td id=\"T_f71e9_row5_col26\" class=\"data row5 col26\" >0.000000</td>\n",
       "                        <td id=\"T_f71e9_row5_col27\" class=\"data row5 col27\" >1.000000</td>\n",
       "                        <td id=\"T_f71e9_row5_col28\" class=\"data row5 col28\" >0.000000</td>\n",
       "                        <td id=\"T_f71e9_row5_col29\" class=\"data row5 col29\" >0.000000</td>\n",
       "                        <td id=\"T_f71e9_row5_col30\" class=\"data row5 col30\" >0.000000</td>\n",
       "                        <td id=\"T_f71e9_row5_col31\" class=\"data row5 col31\" >0.000000</td>\n",
       "                        <td id=\"T_f71e9_row5_col32\" class=\"data row5 col32\" >1.000000</td>\n",
       "                        <td id=\"T_f71e9_row5_col33\" class=\"data row5 col33\" >0.000000</td>\n",
       "                        <td id=\"T_f71e9_row5_col34\" class=\"data row5 col34\" >Serious</td>\n",
       "            </tr>\n",
       "    </tbody></table>"
      ],
      "text/plain": [
       "<pandas.io.formats.style.Styler at 0x7fdb1e897550>"
      ]
     },
     "execution_count": 4,
     "metadata": {},
     "output_type": "execute_result"
    }
   ],
   "source": [
    "#chech the dataset \n",
    "train_set.loc[:5,].style"
   ]
  },
  {
   "cell_type": "markdown",
   "id": "national-index",
   "metadata": {},
   "source": [
    "Before proceding with the models' building we need to set up what will be our predictors and target features. Hence, we create two subsets both for training and testing the predictive models, in which we will have our predictors and our taget variable seperated."
   ]
  },
  {
   "cell_type": "markdown",
   "id": "seven-factory",
   "metadata": {},
   "source": [
    "Also, we will not look at the test set until the evaluation stage. "
   ]
  },
  {
   "cell_type": "code",
   "execution_count": 5,
   "id": "characteristic-amazon",
   "metadata": {},
   "outputs": [],
   "source": [
    "#Create X and y from the training set \n",
    "X_train = train_set.drop(\"Accident_Severity\", axis = 1)\n",
    "y_train = train_set[\"Accident_Severity\"].copy()\n",
    "\n",
    "#Create X and y from the testing set \n",
    "X_test = test_set.drop(\"Accident_Severity\", axis = 1)\n",
    "y_test = test_set[\"Accident_Severity\"].copy()"
   ]
  },
  {
   "cell_type": "code",
   "execution_count": 6,
   "id": "dangerous-assembly",
   "metadata": {},
   "outputs": [
    {
     "name": "stdout",
     "output_type": "stream",
     "text": [
      "Predictors: (93978, 34)\n",
      "Target Variable: (93978,)\n"
     ]
    }
   ],
   "source": [
    "print(f\"Predictors: {X_train.shape}\\nTarget Variable: {y_train.shape}\")"
   ]
  },
  {
   "cell_type": "markdown",
   "id": "downtown-feeding",
   "metadata": {},
   "source": [
    "## Contruction of Predictive Features - Feature Selection "
   ]
  },
  {
   "cell_type": "markdown",
   "id": "cellular-hopkins",
   "metadata": {},
   "source": [
    "The training set has got 34 features, so we can try to extract the most important features in predicting our target variable instead of using all of them. Doing so, we will simplify the model as weel as filtering out the least important features related to our target variable. "
   ]
  },
  {
   "cell_type": "markdown",
   "id": "heavy-lease",
   "metadata": {},
   "source": [
    "### Embedded Method "
   ]
  },
  {
   "cell_type": "markdown",
   "id": "fixed-underwear",
   "metadata": {},
   "source": [
    "Embedded methods focus on which features best contribute to the accuracy of the model while the model is being created. These kinds of methods have built-in feature importance evaluation mechanism, and include feature selection inside the training process. \n",
    "\n",
    "In scikit-learn, there is a class named as SelectFromModel for implementing embedded methods for feature selection.\n",
    "\n",
    "The algorithm we are going to use is the Random Forest Classifier and since our target has inbalanced classes, we will set the `class_weight` parameter to \"balanced\". Doing so, the algorithm itself will assign weights to each classes in order to make them balanced. "
   ]
  },
  {
   "cell_type": "code",
   "execution_count": 11,
   "id": "adolescent-exemption",
   "metadata": {},
   "outputs": [
    {
     "name": "stdout",
     "output_type": "stream",
     "text": [
      "Took 139.09525680541992 seconds\n"
     ]
    }
   ],
   "source": [
    "rfc = RandomForestClassifier(class_weight=\"balanced\", random_state=42, n_jobs=-1)\n",
    "\n",
    "param_grid = {\n",
    "        'n_estimators': [100, 200, 500],\n",
    "        'max_depth': [5, None]\n",
    "}\n",
    "\n",
    "\n",
    "# we'll use 10-fold cross-validation\n",
    "rfc_grid_search = GridSearchCV(rfc, param_grid, cv=5, \n",
    "                              scoring='accuracy',return_train_score=True, n_jobs=-1)\n",
    "\n",
    "start = time.time()\n",
    "rfc_grid_search.fit(X_train, y_train)\n",
    "end = time.time() - start\n",
    "print(f\"Took {end} seconds\")"
   ]
  },
  {
   "cell_type": "code",
   "execution_count": 12,
   "id": "suspended-barcelona",
   "metadata": {},
   "outputs": [
    {
     "data": {
      "text/plain": [
       "RandomForestClassifier(class_weight='balanced', n_estimators=500, n_jobs=-1,\n",
       "                       random_state=42)"
      ]
     },
     "execution_count": 12,
     "metadata": {},
     "output_type": "execute_result"
    }
   ],
   "source": [
    "#Best estimators from the grid search \n",
    "rfc_grid_search.best_estimator_"
   ]
  },
  {
   "cell_type": "code",
   "execution_count": 13,
   "id": "public-shark",
   "metadata": {},
   "outputs": [
    {
     "data": {
      "text/plain": [
       "0.7803528607316051"
      ]
     },
     "execution_count": 13,
     "metadata": {},
     "output_type": "execute_result"
    }
   ],
   "source": [
    "#check the average accuracy over the five k-fold \n",
    "rfc_grid_search.best_score_"
   ]
  },
  {
   "cell_type": "markdown",
   "id": "cooked-chuck",
   "metadata": {},
   "source": [
    "The best tuned model in the gridsearch achieved an accuracy of **78.03%**"
   ]
  },
  {
   "cell_type": "markdown",
   "id": "fatty-thomson",
   "metadata": {},
   "source": [
    "The Random Forest itself is able to retrieve the importance of each features used within the model. We can check this out using the attribute `feature_importances_`"
   ]
  },
  {
   "cell_type": "code",
   "execution_count": 14,
   "id": "affecting-pierre",
   "metadata": {},
   "outputs": [
    {
     "name": "stdout",
     "output_type": "stream",
     "text": [
      "Location_Northing_OSGR: 0.15383945878340258\n",
      "Latitude: 0.15336917486224783\n",
      "Longitude: 0.1509861389968168\n",
      "Location_Easting_OSGR: 0.15066790450207862\n",
      "Speed_limit: 0.05547394685413158\n",
      "Number_of_Vehicles: 0.04235002043853137\n",
      "Urban: 0.021919707504145014\n",
      "Water: 0.018521364288798612\n",
      "Spring: 0.017556660768707766\n",
      "Summer: 0.017305405457335735\n",
      "Winter: 0.017287891535003066\n",
      "Morning: 0.015900014463931755\n",
      "Single carriageway: 0.015153215793314127\n",
      "Night: 0.01492171437128286\n",
      "Wednsday: 0.014846406462398376\n",
      "Saturday: 0.014660705616174495\n",
      "Thursday: 0.014546614496035093\n",
      "Tuesday: 0.014286090961892657\n",
      "Sunday: 0.014056281825067891\n",
      "Daylight: 0.012899569296700945\n",
      "Monday: 0.012888801741315112\n",
      "Raining: 0.012393684452587272\n",
      "Darkness - No lighting: 0.009743897981085855\n",
      "Roundabout: 0.006444687865473881\n",
      "high_winds: 0.005454421147402635\n",
      "Road Defect: 0.004355242035898601\n",
      "Other: 0.0042263415094134366\n",
      "None: 0.0034370928204272622\n",
      "Slip road: 0.0029654466216081114\n",
      "One way street: 0.002618521000968236\n",
      "Road Hazard: 0.0020957398501322156\n",
      "Fog or mist: 0.0014246266120469457\n",
      "Snowing: 0.000971925046201662\n",
      "Snow: 0.00043128403744177135\n"
     ]
    }
   ],
   "source": [
    "# put them into a separate variable for convenience\n",
    "feature_importances = rfc_grid_search.best_estimator_.feature_importances_\n",
    "\n",
    "# the order of the features in `feature_importances` is the same as in the Xtrain dataframe,\n",
    "# so we can \"zip\" the two and print in the descending order:\n",
    "\n",
    "for k, v in sorted(zip(feature_importances, X_train.columns), reverse=True):\n",
    "    print(f\"{v}: {k}\")"
   ]
  },
  {
   "cell_type": "markdown",
   "id": "noted-monkey",
   "metadata": {},
   "source": [
    "Since the model took a while to be trained, we can save it in memory. "
   ]
  },
  {
   "cell_type": "code",
   "execution_count": null,
   "id": "diverse-shelf",
   "metadata": {},
   "outputs": [],
   "source": [
    "# create a folder where all trained models will be kept\n",
    "if not os.path.exists(\"models\"):\n",
    "    os.makedirs(\"models\")\n",
    "\n",
    "#Save the model\n",
    "dump(rfc_grid_search.best_estimator_, 'models/rf-clf.joblib')"
   ]
  },
  {
   "cell_type": "code",
   "execution_count": 7,
   "id": "molecular-assault",
   "metadata": {},
   "outputs": [],
   "source": [
    "#load the model \n",
    "rfc = load('models/rf-clf.joblib')"
   ]
  },
  {
   "cell_type": "markdown",
   "id": "general-shadow",
   "metadata": {},
   "source": [
    "We can now use the embedded method to select the most important features in our training. The threshold has been set up as the \"median\", thereby we are expecting to get the **17 most important features.**"
   ]
  },
  {
   "cell_type": "code",
   "execution_count": 8,
   "id": "wired-authorization",
   "metadata": {},
   "outputs": [
    {
     "name": "stdout",
     "output_type": "stream",
     "text": [
      "Selected features: \n",
      "Index(['Location_Easting_OSGR', 'Location_Northing_OSGR', 'Longitude',\n",
      "       'Latitude', 'Number_of_Vehicles', 'Speed_limit', 'Saturday', 'Thursday',\n",
      "       'Wednsday', 'Single carriageway', 'Water', 'Urban', 'Spring', 'Summer',\n",
      "       'Winter', 'Morning', 'Night'],\n",
      "      dtype='object')\n",
      "\n",
      "Number of features: 17\n"
     ]
    }
   ],
   "source": [
    "#instatate the method\n",
    "sel_sfm = SelectFromModel(rfc, prefit=True, threshold=\"median\")\n",
    "\n",
    "#acces the selected features \n",
    "sel_sfm_index = sel_sfm.get_support()\n",
    "\n",
    "#select all the selected features from the original dataset for the training \n",
    "X_train_sfm = X_train.iloc[:, sel_sfm_index]\n",
    "\n",
    "#print the selected features \n",
    "print(f\"Selected features: \\n{X_train_sfm.columns}\")\n",
    "\n",
    "#number of features \n",
    "print(f\"\\nNumber of features: {len(X_train_sfm.columns)}\")"
   ]
  },
  {
   "cell_type": "markdown",
   "id": "bulgarian-appendix",
   "metadata": {},
   "source": [
    "We are going to extract those features from the testing set as well. "
   ]
  },
  {
   "cell_type": "code",
   "execution_count": 9,
   "id": "apparent-lecture",
   "metadata": {},
   "outputs": [
    {
     "name": "stdout",
     "output_type": "stream",
     "text": [
      "Selected features: \n",
      "Index(['Location_Easting_OSGR', 'Location_Northing_OSGR', 'Longitude',\n",
      "       'Latitude', 'Number_of_Vehicles', 'Speed_limit', 'Saturday', 'Thursday',\n",
      "       'Wednsday', 'Single carriageway', 'Water', 'Urban', 'Spring', 'Summer',\n",
      "       'Winter', 'Morning', 'Night'],\n",
      "      dtype='object')\n",
      "\n",
      "Number of features: 17\n"
     ]
    }
   ],
   "source": [
    "#select all the selected features from the original dataset  for the testing set as well \n",
    "X_test_sfm = X_test.iloc[:, sel_sfm_index]\n",
    "\n",
    "#print the selected features \n",
    "print(f\"Selected features: \\n{X_test_sfm.columns}\")\n",
    "\n",
    "#number of features \n",
    "print(f\"\\nNumber of features: {len(X_test_sfm.columns)}\")"
   ]
  },
  {
   "cell_type": "markdown",
   "id": "understood-pocket",
   "metadata": {},
   "source": [
    "## Baseline method"
   ]
  },
  {
   "cell_type": "markdown",
   "id": "raising-herald",
   "metadata": {},
   "source": [
    "We'll use a majority class classifier as a baseline, i.e., we will find out what is the most common class label in the training set and always output it as a prediction."
   ]
  },
  {
   "cell_type": "code",
   "execution_count": 7,
   "id": "concerned-costa",
   "metadata": {},
   "outputs": [
    {
     "data": {
      "text/plain": [
       "Slight     73922\n",
       "Serious    18730\n",
       "Fatal       1326\n",
       "Name: Accident_Severity, dtype: int64"
      ]
     },
     "execution_count": 7,
     "metadata": {},
     "output_type": "execute_result"
    }
   ],
   "source": [
    "#Check the number of instances belonging to each class\n",
    "train_set[\"Accident_Severity\"].value_counts()"
   ]
  },
  {
   "cell_type": "code",
   "execution_count": 8,
   "id": "bridal-portugal",
   "metadata": {},
   "outputs": [
    {
     "data": {
      "text/plain": [
       "93978"
      ]
     },
     "execution_count": 8,
     "metadata": {},
     "output_type": "execute_result"
    }
   ],
   "source": [
    "#Total number of instances in the training set \n",
    "train_set.shape[0]"
   ]
  },
  {
   "cell_type": "markdown",
   "id": "conceptual-mountain",
   "metadata": {},
   "source": [
    "The baseline classifier will output \"Slight\" for all predictions. We will use macro-averaging in this project (precision, recall and F-score are evaluated in each class separately and then averaged across classes). So if we can calculate the baseline classifier to all of the training set."
   ]
  },
  {
   "cell_type": "code",
   "execution_count": 9,
   "id": "afraid-fiction",
   "metadata": {},
   "outputs": [
    {
     "name": "stdout",
     "output_type": "stream",
     "text": [
      "Precision: 0.787\n",
      "Recall: 1.0\n",
      "F-score: 0.881\n"
     ]
    }
   ],
   "source": [
    "#true positives divided by total number of elements labelled as belonging to the positive class\n",
    "slight_precision = round(train_set[\"Accident_Severity\"].value_counts()[0]/train_set.shape[0], 3) \n",
    "\n",
    "#true positives divided by the total number of elements that actually belong to the positive class\n",
    "slight_recall = round(train_set[\"Accident_Severity\"].value_counts()[0]/train_set[\"Accident_Severity\"].value_counts()[0],3) \n",
    "\n",
    "slight_fscore = round(2/(1/slight_precision + 1/slight_recall), 3) \n",
    "\n",
    "print(f\"Precision: {slight_precision}\")\n",
    "print(f\"Recall: {slight_recall}\")\n",
    "print(f\"F-score: {slight_fscore}\")"
   ]
  },
  {
   "cell_type": "code",
   "execution_count": 10,
   "id": "accompanied-joyce",
   "metadata": {},
   "outputs": [
    {
     "name": "stdout",
     "output_type": "stream",
     "text": [
      "Average Precision: 0.262\n",
      "Average Recall: 0.333\n",
      "Average F-score: 0.294\n"
     ]
    }
   ],
   "source": [
    "print(f\"Average Precision: {round(np.mean([slight_precision, 0, 0]), 3)}\")\n",
    "print(f\"Average Recall: {round(np.mean([slight_recall, 0, 0]), 3)}\")\n",
    "print(f\"Average F-score: {round(np.mean([slight_fscore, 0, 0]), 3)}\")"
   ]
  },
  {
   "cell_type": "markdown",
   "id": "compliant-princess",
   "metadata": {},
   "source": [
    "For the \"Slight\" label, the accuracy measures will be:\n",
    "\n",
    "* Precision: 73922/93978 = 0.787\n",
    "\n",
    "* Recall: 73922/73922 = 1.0\n",
    "\n",
    "* F-score: 2/(1/precision + 1/recall) = 0.881\n",
    "\n",
    "For the \"Serious\" label, it will be:\n",
    "\n",
    "* Precision: 0.0/0.0 = 0.0\n",
    "\n",
    "* Recall: 0.0/18730 = 0.0\n",
    "\n",
    "* F-score: 0.0\n",
    "\n",
    "For the \"Fatal\" label, it will be:\n",
    "\n",
    "* Precision: 0.0/0.0 = 0.0\n",
    "\n",
    "* Recall: 0.0/1326 = 0.0\n",
    "\n",
    "* F-score: 0.0\n",
    "\n",
    "The averages of the three classes, i.e. the eventual baseline scores:\n",
    "\n",
    "* **Precision: 0.262**\n",
    "\n",
    "* **Recall: 0.333**\n",
    "\n",
    "* **F-score: 0.294**"
   ]
  },
  {
   "cell_type": "markdown",
   "id": "british-average",
   "metadata": {},
   "source": [
    "## Hyperparameter tuning"
   ]
  },
  {
   "cell_type": "markdown",
   "id": "tested-justice",
   "metadata": {},
   "source": [
    "We are now going to tune hyperparameters for different models on the training set, to get the best possible model to use on the testing set. "
   ]
  },
  {
   "cell_type": "markdown",
   "id": "outdoor-devices",
   "metadata": {},
   "source": [
    "### Logistic Regression - Class Weights"
   ]
  },
  {
   "cell_type": "markdown",
   "id": "amended-franklin",
   "metadata": {},
   "source": [
    "The first model will be a Logistic Regression. Since we are dealing with an imbalanced class problem, I am going to balance each classes applying weights to them. Also, we are going to tune the regularisation parameter C using the L2 penalty. "
   ]
  },
  {
   "cell_type": "code",
   "execution_count": 21,
   "id": "looking-lesbian",
   "metadata": {},
   "outputs": [
    {
     "name": "stdout",
     "output_type": "stream",
     "text": [
      "Took 10.528551816940308 seconds\n"
     ]
    }
   ],
   "source": [
    "#instantiate the logistic regresison \n",
    "lr = LogisticRegression(penalty = 'l2', class_weight='balanced', multi_class='multinomial', random_state=42, n_jobs=-1)\n",
    "\n",
    "#set the parameter we want to tune \n",
    "param_grid = {\n",
    "            'C': [0.01, 0.1, 0.5, 1]\n",
    "}\n",
    "\n",
    "#instantiate the gridsearch cv using 5 k-folds \n",
    "lr_wt_grid = GridSearchCV(lr, param_grid, cv=5, \n",
    "                           scoring='f1_macro',return_train_score=True, n_jobs=-1)\n",
    "\n",
    "#Fit the model \n",
    "start = time.time()\n",
    "lr_wt_grid.fit(X_train_sfm, y_train)\n",
    "end = time.time() - start\n",
    "print(f\"Took {end} seconds\")"
   ]
  },
  {
   "cell_type": "markdown",
   "id": "pleased-idaho",
   "metadata": {},
   "source": [
    "The model best value for C appears to be 0.01, achieving a F-score of approximately **0.3314.**"
   ]
  },
  {
   "cell_type": "code",
   "execution_count": 22,
   "id": "fifth-roberts",
   "metadata": {},
   "outputs": [
    {
     "data": {
      "text/plain": [
       "{'C': 0.01}"
      ]
     },
     "execution_count": 22,
     "metadata": {},
     "output_type": "execute_result"
    }
   ],
   "source": [
    "lr_wt_grid.best_params_"
   ]
  },
  {
   "cell_type": "code",
   "execution_count": 23,
   "id": "falling-inspector",
   "metadata": {},
   "outputs": [
    {
     "data": {
      "text/plain": [
       "0.3313937205537968"
      ]
     },
     "execution_count": 23,
     "metadata": {},
     "output_type": "execute_result"
    }
   ],
   "source": [
    "lr_wt_grid.best_score_"
   ]
  },
  {
   "cell_type": "markdown",
   "id": "structural-violin",
   "metadata": {},
   "source": [
    "Since the model took a considerable amoun of time to be trained, we can save it on memory. "
   ]
  },
  {
   "cell_type": "code",
   "execution_count": 32,
   "id": "excessive-segment",
   "metadata": {},
   "outputs": [
    {
     "data": {
      "text/plain": [
       "['models/cw-lr.joblib']"
      ]
     },
     "execution_count": 32,
     "metadata": {},
     "output_type": "execute_result"
    }
   ],
   "source": [
    "dump(lr_wt_grid.best_estimator_, 'models/cw-lr.joblib')"
   ]
  },
  {
   "cell_type": "markdown",
   "id": "minimal-buying",
   "metadata": {},
   "source": [
    "### Random Forest - Class Weights "
   ]
  },
  {
   "cell_type": "markdown",
   "id": "brief-magic",
   "metadata": {},
   "source": [
    "We can now perform a Decision Tree Classifier to predict the Accident Severity. \n",
    "\n",
    "Furthermore, we know from the Random Forest Classifier GrisdSearch CV used in the embedded method, that the best `n_estimators` hyperparameter was the maximum we specified within the GridSearch CV, 500 trees. \n",
    "\n",
    "Hence, we might want to try to test if the model will pick up even a higher number of estimators. Following, the same happend for the `max_depth` hyperparameter, which between 5 and none, it chose none. \n",
    "\n",
    "Let's try to use this information in the next Random Forest Classifier.  "
   ]
  },
  {
   "cell_type": "code",
   "execution_count": 51,
   "id": "strong-health",
   "metadata": {},
   "outputs": [
    {
     "name": "stdout",
     "output_type": "stream",
     "text": [
      "Took 1420.0020368099213 seconds\n"
     ]
    }
   ],
   "source": [
    "#Instantiate the model setting the weights\n",
    "rfc_cw = RandomForestClassifier(class_weight=\"balanced\", random_state=42, n_jobs=-1, bootstrap=True)\n",
    "\n",
    "#Hyperparameters grid to be tuned\n",
    "param_grid = {\n",
    "        'n_estimators': [500, 600, 700],\n",
    "        'max_depth': [10, 15, None], \n",
    "        'criterion': [\"gini\", \"entropy\"]\n",
    "}\n",
    "\n",
    "\n",
    "# we'll use 5-fold cross-validation\n",
    "rfc_cw_grid = GridSearchCV(rfc_cw, param_grid, cv=5, \n",
    "                              scoring='f1_macro',return_train_score=True, n_jobs=-1)\n",
    "\n",
    "#Fit the model \n",
    "start = time.time()\n",
    "rfc_cw_grid.fit(X_train_sfm, y_train)\n",
    "end = time.time() - start\n",
    "print(f\"Took {end} seconds\")"
   ]
  },
  {
   "cell_type": "markdown",
   "id": "talented-sauce",
   "metadata": {},
   "source": [
    "The best model parameteres are: `criterion` = 'entropy', `max_depth` = 15 and `n_estimators` = 700. The F-score achieved using this model is approximately **0.3843**, which is higher than both the baseline and the Logistic Regression. Hence for now, this is the best model we got. "
   ]
  },
  {
   "cell_type": "code",
   "execution_count": 52,
   "id": "adjacent-restriction",
   "metadata": {},
   "outputs": [
    {
     "data": {
      "text/plain": [
       "{'criterion': 'entropy', 'max_depth': 15, 'n_estimators': 700}"
      ]
     },
     "execution_count": 52,
     "metadata": {},
     "output_type": "execute_result"
    }
   ],
   "source": [
    "rfc_cw_grid.best_params_"
   ]
  },
  {
   "cell_type": "code",
   "execution_count": 53,
   "id": "lonely-order",
   "metadata": {},
   "outputs": [
    {
     "data": {
      "text/plain": [
       "0.3842298735514074"
      ]
     },
     "execution_count": 53,
     "metadata": {},
     "output_type": "execute_result"
    }
   ],
   "source": [
    "rfc_cw_grid.best_score_"
   ]
  },
  {
   "cell_type": "markdown",
   "id": "peaceful-timber",
   "metadata": {},
   "source": [
    "We can also check the performance on the cross validation training and testing set from the gridsearchCV alongside each of the hyperparameters combination we wanted to try out. "
   ]
  },
  {
   "cell_type": "code",
   "execution_count": 54,
   "id": "assumed-mirror",
   "metadata": {},
   "outputs": [
    {
     "name": "stdout",
     "output_type": "stream",
     "text": [
      "0.31878189718237426 0.9999888472743279 {'criterion': 'gini', 'max_depth': None, 'n_estimators': 700}\n",
      "0.3187885019681308 0.9999888472743279 {'criterion': 'gini', 'max_depth': None, 'n_estimators': 600}\n",
      "0.3189153758592646 0.9999888472743279 {'criterion': 'gini', 'max_depth': None, 'n_estimators': 500}\n",
      "0.3202838313685664 0.9999888472743279 {'criterion': 'entropy', 'max_depth': None, 'n_estimators': 700}\n",
      "0.3206175092620052 0.9999888472743279 {'criterion': 'entropy', 'max_depth': None, 'n_estimators': 600}\n",
      "0.3206739604872486 0.9999888472743279 {'criterion': 'entropy', 'max_depth': None, 'n_estimators': 500}\n",
      "0.37238310605774577 0.44612243330994883 {'criterion': 'entropy', 'max_depth': 10, 'n_estimators': 500}\n",
      "0.37264103745981464 0.44583544675188963 {'criterion': 'entropy', 'max_depth': 10, 'n_estimators': 600}\n",
      "0.37265634174118545 0.44609940045692864 {'criterion': 'entropy', 'max_depth': 10, 'n_estimators': 700}\n",
      "0.3748711185330901 0.4569823105579257 {'criterion': 'gini', 'max_depth': 10, 'n_estimators': 500}\n",
      "0.3750884392922687 0.4567425731456164 {'criterion': 'gini', 'max_depth': 10, 'n_estimators': 600}\n",
      "0.37534188195076357 0.4566260874757052 {'criterion': 'gini', 'max_depth': 10, 'n_estimators': 700}\n",
      "0.37969554119521653 0.809902573529089 {'criterion': 'gini', 'max_depth': 15, 'n_estimators': 700}\n",
      "0.3803520026195539 0.809358565810488 {'criterion': 'gini', 'max_depth': 15, 'n_estimators': 600}\n",
      "0.380818944316255 0.8086145574410193 {'criterion': 'gini', 'max_depth': 15, 'n_estimators': 500}\n",
      "0.3832298724745168 0.7761781181820335 {'criterion': 'entropy', 'max_depth': 15, 'n_estimators': 500}\n",
      "0.383514431008923 0.7767808142063055 {'criterion': 'entropy', 'max_depth': 15, 'n_estimators': 600}\n",
      "0.3842298735514074 0.7766593462267721 {'criterion': 'entropy', 'max_depth': 15, 'n_estimators': 700}\n"
     ]
    }
   ],
   "source": [
    "val_scores = rfc_cw_grid.cv_results_[\"mean_test_score\"]\n",
    "train_scores = rfc_cw_grid.cv_results_[\"mean_train_score\"]\n",
    "params = rfc_cw_grid.cv_results_[\"params\"]\n",
    "\n",
    "for val_score, train_score, param in sorted(zip(val_scores, train_scores, params)):\n",
    "    print(val_score, train_score, param)"
   ]
  },
  {
   "cell_type": "markdown",
   "id": "coupled-twenty",
   "metadata": {},
   "source": [
    "As we might have expected, the Random Forest Classifier tends to overfit the training set, losing the ability to generalise on unseen data. This happened especially with high number of estimators as well as allowing the tree to grow with any restiction. Indeed, we have reached the higher F-score using 15 for `max_depth` and 700 as `n_estimators`. However, the F-score it is only 0.384 while the baseline the baseline one is 0.294. It is, indeed, a better result but we might want to get a better result from the modl.  "
   ]
  },
  {
   "cell_type": "markdown",
   "id": "liberal-vacation",
   "metadata": {},
   "source": [
    "We can also check what are most important features for the algorithm in predicting the accident severity. "
   ]
  },
  {
   "cell_type": "code",
   "execution_count": 19,
   "id": "eligible-grain",
   "metadata": {},
   "outputs": [
    {
     "name": "stdout",
     "output_type": "stream",
     "text": [
      "Location_Northing_OSGR: 0.1630370759851003\n",
      "Latitude: 0.16288174956028617\n",
      "Location_Easting_OSGR: 0.1586143236212207\n",
      "Longitude: 0.15820184753761043\n",
      "Speed_limit: 0.08372663594117816\n",
      "Number_of_Vehicles: 0.06004902537950708\n",
      "Tuesday: 0.0329875178195316\n",
      "Slip road: 0.023569846734940884\n",
      "Thursday: 0.02130693344565921\n",
      "Sunday: 0.019108817710322606\n",
      "One way street: 0.017963498889757075\n",
      "Roundabout: 0.017458941944746367\n",
      "Wednsday: 0.016544800105960395\n",
      "high_winds: 0.016441746954827124\n",
      "Saturday: 0.016239795382477214\n",
      "Single carriageway: 0.01599607780346415\n",
      "Monday: 0.015871365183410577\n"
     ]
    }
   ],
   "source": [
    "# put them into a separate variable for convenience\n",
    "feature_importances =  rfc_cw_grid.feature_importances_\n",
    "\n",
    "# the order of the features in `feature_importances` is the same as in the Xtrain dataframe,\n",
    "# so we can \"zip\" the two and print in the descending order:\n",
    "\n",
    "for k, v in sorted(zip(feature_importances, X_train.columns), reverse=True):\n",
    "    print(f\"{v}: {k}\")"
   ]
  },
  {
   "cell_type": "markdown",
   "id": "heard-samba",
   "metadata": {},
   "source": [
    "Let's create a bat plot for the feature importance using `Seaborn` to better visualise them. "
   ]
  },
  {
   "cell_type": "code",
   "execution_count": 20,
   "id": "mature-hindu",
   "metadata": {},
   "outputs": [
    {
     "data": {
      "image/png": "[encoded data removed]",
      "text/plain": [
       "<Figure size 720x504 with 1 Axes>"
      ]
     },
     "metadata": {
      "needs_background": "light"
     },
     "output_type": "display_data"
    }
   ],
   "source": [
    "#Dataframe containing features in the training set and the mmodel feature imporacnce\n",
    "tmp = pd.DataFrame({'Feature': X_train_sfm, 'Feature importance': rfc_cw_grid.feature_importances_})\n",
    "\n",
    "#fort the feature importance in descending order \n",
    "tmp = tmp.sort_values(by='Feature importance',ascending=False)\n",
    "\n",
    "#create the bar plot \n",
    "plt.figure(figsize = (10,7))\n",
    "plt.title('Features importance',fontsize=16)\n",
    "s = sns.barplot(x='Feature',y='Feature importance',data=tmp)\n",
    "s.set_xticklabels(s.get_xticklabels(),rotation=90)\n",
    "plt.show()   "
   ]
  },
  {
   "cell_type": "markdown",
   "id": "choice-beatles",
   "metadata": {},
   "source": [
    "Every location measure appears to be quite important for the model in predicting the accident severity as well as the speed limit and the number of vehicles involved in the accident. On the other hand, the days of the week do not seem to be relevant."
   ]
  },
  {
   "cell_type": "code",
   "execution_count": 55,
   "id": "written-savings",
   "metadata": {},
   "outputs": [
    {
     "data": {
      "text/plain": [
       "['models/cw-rf-clf.joblib']"
      ]
     },
     "execution_count": 55,
     "metadata": {},
     "output_type": "execute_result"
    }
   ],
   "source": [
    "#save the model \n",
    "dump(rfc_cw_grid.best_estimator_, 'models/cw-rf-clf.joblib')"
   ]
  },
  {
   "cell_type": "markdown",
   "id": "fatal-apartment",
   "metadata": {},
   "source": [
    "Due to the fact that from the gridsearch the best `n_estimators` chose was the highest we specified, might be worth to try out a new gridsearchCV looking for an even higher number of trees. However, due to the fact that the Random Forest Classifier we have just tuned took around 23 minutes to be trained, we are going to perform two separate gridsearch to make the process a little bit faster. "
   ]
  },
  {
   "cell_type": "code",
   "execution_count": 25,
   "id": "satellite-joining",
   "metadata": {},
   "outputs": [
    {
     "name": "stdout",
     "output_type": "stream",
     "text": [
      "Took 345.1145529747009 seconds\n"
     ]
    }
   ],
   "source": [
    "#Instantiate the model setting the weights\n",
    "rfc_cw2 = RandomForestClassifier(class_weight=\"balanced\", random_state=42, n_jobs=-1, bootstrap=True)\n",
    "\n",
    "#Hyperparameters grid to be tuned\n",
    "param_grid = {\n",
    "        'n_estimators': [700, 800],\n",
    "        'max_depth': [15, 20], \n",
    "        'criterion': [\"entropy\"]\n",
    "}\n",
    "\n",
    "\n",
    "# we'll use 5-fold cross-validation\n",
    "rfc_cw_grid2 = GridSearchCV(rfc_cw2, param_grid, cv=5, \n",
    "                              scoring='f1_macro',return_train_score=True, n_jobs=-1)\n",
    "\n",
    "#Fit the model \n",
    "start = time.time()\n",
    "rfc_cw_grid2.fit(X_train_sfm, y_train)\n",
    "end = time.time() - start\n",
    "print(f\"Took {end} seconds\")"
   ]
  },
  {
   "cell_type": "markdown",
   "id": "latest-butter",
   "metadata": {},
   "source": [
    "We can again, check the best parameteres and the best score. Interestingly, the model achieved a higher F-score than before of approximately **0.3848** increasing the number of trees in the random forest up to 800. "
   ]
  },
  {
   "cell_type": "code",
   "execution_count": 26,
   "id": "composite-pound",
   "metadata": {},
   "outputs": [
    {
     "data": {
      "text/plain": [
       "{'criterion': 'entropy', 'max_depth': 15, 'n_estimators': 800}"
      ]
     },
     "execution_count": 26,
     "metadata": {},
     "output_type": "execute_result"
    }
   ],
   "source": [
    "#best parameters\n",
    "rfc_cw_grid2.best_params_"
   ]
  },
  {
   "cell_type": "code",
   "execution_count": 27,
   "id": "martial-financing",
   "metadata": {},
   "outputs": [
    {
     "data": {
      "text/plain": [
       "0.38479224170967263"
      ]
     },
     "execution_count": 27,
     "metadata": {},
     "output_type": "execute_result"
    }
   ],
   "source": [
    "#best score\n",
    "rfc_cw_grid2.best_score_"
   ]
  },
  {
   "cell_type": "markdown",
   "id": "laughing-package",
   "metadata": {},
   "source": [
    "Let's save the model in memory. "
   ]
  },
  {
   "cell_type": "code",
   "execution_count": 31,
   "id": "optional-albania",
   "metadata": {},
   "outputs": [
    {
     "data": {
      "text/plain": [
       "['models/cw-rf-clf2.joblib']"
      ]
     },
     "execution_count": 31,
     "metadata": {},
     "output_type": "execute_result"
    }
   ],
   "source": [
    "#save the model\n",
    "dump(rfc_cw_grid2, 'models/cw-rf-clf2.joblib')"
   ]
  },
  {
   "cell_type": "markdown",
   "id": "abandoned-microwave",
   "metadata": {},
   "source": [
    "Since 800 number of trees was againg the highest possible number of estimators we specified in the gridsearch, let's try out a new one increasing the number of trees up to 1000. However, the last model chose a maximum depth of 15 instead of 20, thereby this might be a sign of overfitting, thereby let's also specify a lower maximum depth value in the new gridsearch."
   ]
  },
  {
   "cell_type": "code",
   "execution_count": 28,
   "id": "accepting-providence",
   "metadata": {},
   "outputs": [
    {
     "name": "stdout",
     "output_type": "stream",
     "text": [
      "Took 479.9558758735657 seconds\n"
     ]
    }
   ],
   "source": [
    "#Instantiate the model setting the weights\n",
    "rfc_cw3 = RandomForestClassifier(class_weight=\"balanced\", random_state=42, n_jobs=-1, bootstrap=True)\n",
    "\n",
    "#Hyperparameters grid to be tuned\n",
    "param_grid = {\n",
    "        'n_estimators': [800, 900, 1000],\n",
    "        'max_depth': [10, 15], \n",
    "        'criterion': [\"entropy\"]\n",
    "}\n",
    "\n",
    "\n",
    "# we'll use 5-fold cross-validation\n",
    "rfc_cw_grid3 = GridSearchCV(rfc_cw3, param_grid, cv=5, \n",
    "                              scoring='f1_macro',return_train_score=True, n_jobs=-1)\n",
    "\n",
    "#Fit the model \n",
    "start = time.time()\n",
    "rfc_cw_grid3.fit(X_train_sfm, y_train)\n",
    "end = time.time() - start\n",
    "print(f\"Took {end} seconds\")"
   ]
  },
  {
   "cell_type": "markdown",
   "id": "sticky-elite",
   "metadata": {},
   "source": [
    "The best model is the same we obtained before, hence our overfitting worries were correct. Thereby, let's stick with the second trained Random Forest Classifier, which is for now the best model we got. "
   ]
  },
  {
   "cell_type": "code",
   "execution_count": 29,
   "id": "champion-onion",
   "metadata": {},
   "outputs": [
    {
     "data": {
      "text/plain": [
       "{'criterion': 'entropy', 'max_depth': 15, 'n_estimators': 800}"
      ]
     },
     "execution_count": 29,
     "metadata": {},
     "output_type": "execute_result"
    }
   ],
   "source": [
    "#best parameters\n",
    "rfc_cw_grid3.best_params_"
   ]
  },
  {
   "cell_type": "markdown",
   "id": "paperback-jackson",
   "metadata": {},
   "source": [
    "### Random Forest - Oversampling"
   ]
  },
  {
   "cell_type": "markdown",
   "id": "solved-width",
   "metadata": {},
   "source": [
    "We can now try to use a different techinque than assiging weights to each classes, which is called **oversampling.** The idea behind this method is to increase the size proportion of the minority classes until they reach the same proportion as the majority class. \n",
    "\n",
    "However, due to the great number of instances in the training set and not having at disposal an enough powerful machine, we are going to split up the process of oversampling and model fitting. Hence, we will firstly balance the training set and then we will fit a random forest to the balanced data. "
   ]
  },
  {
   "cell_type": "code",
   "execution_count": 21,
   "id": "sharing-victoria",
   "metadata": {},
   "outputs": [
    {
     "data": {
      "text/plain": [
       "Slight     73922\n",
       "Serious    18730\n",
       "Fatal       1326\n",
       "Name: Accident_Severity, dtype: int64"
      ]
     },
     "execution_count": 21,
     "metadata": {},
     "output_type": "execute_result"
    }
   ],
   "source": [
    "#Check the majority class number of instances \n",
    "y_train.value_counts()"
   ]
  },
  {
   "cell_type": "code",
   "execution_count": 10,
   "id": "useful-barbados",
   "metadata": {},
   "outputs": [],
   "source": [
    "#instantiate SMOTE \n",
    "sm = SMOTE(sampling_strategy= {'Slight': 73922, 'Serious': 73922, 'Fatal': 73922}, random_state=42)\n",
    "\n",
    "#fitting and resample the training set \n",
    "X_train_sm, y_train_sm = sm.fit_resample(X_train_sfm, y_train)"
   ]
  },
  {
   "cell_type": "markdown",
   "id": "photographic-helena",
   "metadata": {},
   "source": [
    "Now that we have balanced the target variable, we can again perform a Random Forest Classifier, fitting the model on the balanced training set.\n",
    "\n",
    "Furthermore, we know from the previous trained random forests what might be the optimal set of hyperparameters, thereby we are going to move around 700 and 800 number of trees and between 10 and 20 maximum depth. "
   ]
  },
  {
   "cell_type": "code",
   "execution_count": 23,
   "id": "sized-custody",
   "metadata": {},
   "outputs": [
    {
     "name": "stdout",
     "output_type": "stream",
     "text": [
      "Took 1291.4732332229614 seconds\n"
     ]
    }
   ],
   "source": [
    "#Create a pipeline with SMOTE and the Random Forest Classifier \n",
    "oversamp_rfc =  RandomForestClassifier(criterion= \"entropy\", random_state=42, n_jobs=-1)\n",
    "\n",
    "#Set up the hyperparameter we want to tune \n",
    "param_grid = [\n",
    "    {\n",
    "        'n_estimators': [700, 800],\n",
    "        'max_depth': [10, 15, 20]\n",
    "    }]\n",
    "\n",
    "\n",
    "# we'll use 5-fold cross-validation\n",
    "oversamp_rfc_grid = GridSearchCV(oversamp_rfc, param_grid, cv=5, \n",
    "                              scoring='f1_macro',\n",
    "                              return_train_score=True, n_jobs=-1)\n",
    "#fit the model \n",
    "start = time.time()\n",
    "oversamp_rfc_grid.fit(X_train_sm, y_train_sm)\n",
    "end = time.time() - start\n",
    "print(f\"Took {end} seconds\")"
   ]
  },
  {
   "cell_type": "markdown",
   "id": "devoted-variance",
   "metadata": {},
   "source": [
    "The best hyperparameters combination found by the gridsearch are 700 number of estimators and a maximum depth of 20. With this model we were able to achieve a F-score of **0.81** wihch is considerably higher that what we got so far. "
   ]
  },
  {
   "cell_type": "code",
   "execution_count": 24,
   "id": "suburban-major",
   "metadata": {},
   "outputs": [
    {
     "data": {
      "text/plain": [
       "{'max_depth': 20, 'n_estimators': 700}"
      ]
     },
     "execution_count": 24,
     "metadata": {},
     "output_type": "execute_result"
    }
   ],
   "source": [
    "#best parameters\n",
    "oversamp_rfc_grid.best_params_"
   ]
  },
  {
   "cell_type": "code",
   "execution_count": 25,
   "id": "abroad-platinum",
   "metadata": {},
   "outputs": [
    {
     "data": {
      "text/plain": [
       "0.8146614181831987"
      ]
     },
     "execution_count": 25,
     "metadata": {},
     "output_type": "execute_result"
    }
   ],
   "source": [
    "#best score\n",
    "oversamp_rfc_grid.best_score_"
   ]
  },
  {
   "cell_type": "markdown",
   "id": "exterior-status",
   "metadata": {},
   "source": [
    "We can check what are the most important features for the model and plot them as done before. "
   ]
  },
  {
   "cell_type": "code",
   "execution_count": 55,
   "id": "welsh-shield",
   "metadata": {},
   "outputs": [
    {
     "name": "stdout",
     "output_type": "stream",
     "text": [
      "Location_Easting_OSGR: 0.1024859754975858\n",
      "Latitude: 0.10171551114758567\n",
      "Longitude: 0.10159603262184508\n",
      "Location_Northing_OSGR: 0.10095920603980064\n",
      "Speed_limit: 0.10030255188108254\n",
      "Number_of_Vehicles: 0.09529498711016475\n",
      "Tuesday: 0.048796610823678324\n",
      "Slip road: 0.0485551904820557\n",
      "Thursday: 0.04169802214328208\n",
      "Sunday: 0.0391269699475235\n",
      "Single carriageway: 0.03553671608160306\n",
      "high_winds: 0.0325330674234799\n",
      "Monday: 0.031906124637909504\n",
      "Saturday: 0.03064904787114564\n",
      "Roundabout: 0.029844487979556286\n",
      "One way street: 0.029785702341404693\n",
      "Wednsday: 0.029213795970296677\n"
     ]
    }
   ],
   "source": [
    "# put them into a separate variable for convenience\n",
    "feature_importances =  oversamp_rfc_grid.feature_importances_\n",
    "\n",
    "\n",
    "#print them in the descending order:\n",
    "for k, v in sorted(zip(feature_importances, X_train.columns), reverse=True):\n",
    "    print(f\"{v}: {k}\")"
   ]
  },
  {
   "cell_type": "code",
   "execution_count": 48,
   "id": "alternate-bronze",
   "metadata": {},
   "outputs": [
    {
     "data": {
      "image/png": "[encoded data removed]",
      "text/plain": [
       "<Figure size 720x504 with 1 Axes>"
      ]
     },
     "metadata": {
      "needs_background": "light"
     },
     "output_type": "display_data"
    }
   ],
   "source": [
    "#Dataframe containing features in the training set and the mmodel feature imporacnce\n",
    "tmp = pd.DataFrame({'Feature': X_train_sm, 'Feature importance': feature_importances})\n",
    "\n",
    "#fort the feature importance in descending order \n",
    "tmp = tmp.sort_values(by='Feature importance',ascending=False)\n",
    "\n",
    "#create the bar plot \n",
    "plt.figure(figsize = (10,7))\n",
    "plt.title('Features importance',fontsize=16)\n",
    "s = sns.barplot(x='Feature',y='Feature importance',data=tmp)\n",
    "s.set_xticklabels(s.get_xticklabels(),rotation=90)\n",
    "plt.show()   "
   ]
  },
  {
   "cell_type": "markdown",
   "id": "automated-liberal",
   "metadata": {},
   "source": [
    "The feature importance is pretty much the same with what we got from the previous model.\n",
    "Now, let's save the trained model in memory. "
   ]
  },
  {
   "cell_type": "code",
   "execution_count": 27,
   "id": "moral-robinson",
   "metadata": {},
   "outputs": [
    {
     "data": {
      "text/plain": [
       "['models/rfc-smote.joblib']"
      ]
     },
     "execution_count": 27,
     "metadata": {},
     "output_type": "execute_result"
    }
   ],
   "source": [
    "#Save the model into the folder     \n",
    "dump(oversamp_rfc_grid.best_estimator_, 'models/rfc-smote.joblib')"
   ]
  },
  {
   "cell_type": "markdown",
   "id": "graphic-conversation",
   "metadata": {},
   "source": [
    "### XGBOOST Classifier - Oversampling "
   ]
  },
  {
   "cell_type": "markdown",
   "id": "extra-tuner",
   "metadata": {},
   "source": [
    "The last model we are going to perform is a XGBOOST Clasifier which is an optimized distributed gradient boosting library designed to be highly efficient, flexible and portable. \n",
    "\n",
    "As for the previous model, we are going to train the XGBOOST Classifier on the transformed balananced training set. "
   ]
  },
  {
   "cell_type": "code",
   "execution_count": 24,
   "id": "square-chassis",
   "metadata": {},
   "outputs": [
    {
     "name": "stderr",
     "output_type": "stream",
     "text": [
      "/opt/anaconda3/envs/NicholasEnv/lib/python3.7/site-packages/xgboost/sklearn.py:888: UserWarning: The use of label encoder in XGBClassifier is deprecated and will be removed in a future release. To remove this warning, do the following: 1) Pass option use_label_encoder=False when constructing XGBClassifier object; and 2) Encode your labels (y) as integers starting with 0, i.e. 0, 1, 2, ..., [num_class - 1].\n",
      "  warnings.warn(label_encoder_deprecation_msg, UserWarning)\n"
     ]
    },
    {
     "name": "stdout",
     "output_type": "stream",
     "text": [
      "[19:04:31] WARNING: /Users/runner/miniforge3/conda-bld/xgboost-split_1614844528294/work/src/learner.cc:1061: Starting in XGBoost 1.3.0, the default evaluation metric used with the objective 'multi:softprob' was changed from 'merror' to 'mlogloss'. Explicitly set eval_metric if you'd like to restore the old behavior.\n",
      "Took 4485.5742337703705 seconds\n"
     ]
    }
   ],
   "source": [
    "#instantiate the model \n",
    "xgb_oversamp = XGBClassifier(random_state=42, n_jobs=-1)\n",
    "\n",
    "#set the hyperparameters to be tuned \n",
    "param_grid = [\n",
    "    {\n",
    "        \"max_depth\": [10, 15, 20, None],\n",
    "        \"min_child_weight\": [5, 10],\n",
    "        \"n_estimators\": [200, 400, 600]\n",
    "    }]\n",
    "\n",
    "\n",
    "# we'll use 5-fold cross-validation with a randomised 6 models \n",
    "xgb_oversamp_grid = RandomizedSearchCV(xgb_oversamp, param_grid, cv=5, n_iter=6,\n",
    "                              scoring='f1_macro',\n",
    "                              return_train_score=True, n_jobs=-1)\n",
    "\n",
    "#fit the model on the oversampled training set \n",
    "start = time.time()\n",
    "xgb_oversamp_grid.fit(X_train_sm, y_train_sm)\n",
    "end = time.time() - start\n",
    "print(f\"Took {end} seconds\")"
   ]
  },
  {
   "cell_type": "markdown",
   "id": "immediate-february",
   "metadata": {},
   "source": [
    "Below, we can see the best hyperparameters combination which has been able to achieve the best F-score of approximately **0.8098**, whihch again is higher that the one obtained assigning weights to the target classes but still lower than the one achieved by the previous model. "
   ]
  },
  {
   "cell_type": "code",
   "execution_count": 26,
   "id": "concrete-compiler",
   "metadata": {},
   "outputs": [
    {
     "data": {
      "text/plain": [
       "{'n_estimators': 600, 'min_child_weight': 5, 'max_depth': 15}"
      ]
     },
     "execution_count": 26,
     "metadata": {},
     "output_type": "execute_result"
    }
   ],
   "source": [
    "#best parameters \n",
    "xgb_oversamp_grid.best_params_"
   ]
  },
  {
   "cell_type": "code",
   "execution_count": 27,
   "id": "other-communication",
   "metadata": {},
   "outputs": [
    {
     "data": {
      "text/plain": [
       "0.8098421541619192"
      ]
     },
     "execution_count": 27,
     "metadata": {},
     "output_type": "execute_result"
    }
   ],
   "source": [
    "#best score obtained \n",
    "xgb_oversamp_grid.best_score_"
   ]
  },
  {
   "cell_type": "markdown",
   "id": "aging-herald",
   "metadata": {},
   "source": [
    "Again, we can check the feature importances also for the XGBOOST Classifier and notice that for this model the most important features actually changed as well as the least important once. For instance, we have aways had the location measuraments such as longitute and latitute at the top of the list, while now they are all at the bottom. On the other hand, the days of the week increased their importance, while other features such as the speed limit and number of vehicles kept their position high in the list. "
   ]
  },
  {
   "cell_type": "code",
   "execution_count": 57,
   "id": "earned-fruit",
   "metadata": {},
   "outputs": [
    {
     "data": {
      "text/plain": [
       "{'Speed_limit': 5.824494828049703,\n",
       " 'Single carriageway': 5.6534056461808495,\n",
       " 'Thursday': 5.316381273735141,\n",
       " 'Number_of_Vehicles': 5.222301180884463,\n",
       " 'Saturday': 4.926256030379843,\n",
       " 'Wednsday': 4.557409903749438,\n",
       " 'Night': 4.265127852719993,\n",
       " 'Urban': 4.154312967853216,\n",
       " 'Morning': 4.00187961941394,\n",
       " 'Water': 3.680801324562276,\n",
       " 'Summer': 3.027928343892655,\n",
       " 'Winter': 2.9851554997107845,\n",
       " 'Spring': 2.947420204858978,\n",
       " 'Location_Northing_OSGR': 1.2008407052212031,\n",
       " 'Location_Easting_OSGR': 1.17019346716191,\n",
       " 'Latitude': 1.0607460177977155,\n",
       " 'Longitude': 1.028538575499992}"
      ]
     },
     "execution_count": 57,
     "metadata": {},
     "output_type": "execute_result"
    }
   ],
   "source": [
    "#xgboost feature importance \n",
    "feature_importances = xgb_oversamp_grid.get_booster().get_score(importance_type=\"gain\")\n",
    "\n",
    "#print them along side the name of the feature\n",
    "{k: v for k, v in sorted(feature_importances.items(), key=lambda item: item[1], reverse=True)}"
   ]
  },
  {
   "cell_type": "code",
   "execution_count": 58,
   "id": "japanese-train",
   "metadata": {},
   "outputs": [
    {
     "data": {
      "image/png": "[encoded data removed]",
      "text/plain": [
       "<Figure size 720x504 with 1 Axes>"
      ]
     },
     "metadata": {
      "needs_background": "light"
     },
     "output_type": "display_data"
    }
   ],
   "source": [
    "#Dataframe containing features in the training set and the mmodel feature imporacnce\n",
    "tmp = pd.DataFrame({'Feature': X_train_sm, 'Feature importance': feature_importances})\n",
    "\n",
    "#fort the feature importance in descending order \n",
    "tmp = tmp.sort_values(by='Feature importance',ascending=False)\n",
    "\n",
    "#create the bar plot \n",
    "plt.figure(figsize = (10,7))\n",
    "plt.title('Features importance',fontsize=16)\n",
    "s = sns.barplot(x='Feature',y='Feature importance',data=tmp)\n",
    "s.set_xticklabels(s.get_xticklabels(),rotation=90)\n",
    "plt.show()   "
   ]
  },
  {
   "cell_type": "markdown",
   "id": "pregnant-resort",
   "metadata": {},
   "source": [
    "Let's save the model in memory. "
   ]
  },
  {
   "cell_type": "code",
   "execution_count": 28,
   "id": "finite-dispatch",
   "metadata": {},
   "outputs": [
    {
     "data": {
      "text/plain": [
       "['models/xgb-smote.joblib']"
      ]
     },
     "execution_count": 28,
     "metadata": {},
     "output_type": "execute_result"
    }
   ],
   "source": [
    "#Save the model into the folder     \n",
    "dump(xgb_oversamp_grid.best_estimator_, 'models/xgb-smote.joblib')"
   ]
  },
  {
   "cell_type": "markdown",
   "id": "annual-response",
   "metadata": {},
   "source": [
    "## Model evaluation"
   ]
  },
  {
   "cell_type": "markdown",
   "id": "exempt-outline",
   "metadata": {},
   "source": [
    "We got four models so far: a Logistic Regression, th esecond Random Forest Classifier trained assigning weights to the target classes, a Random forest Classifier trained using oversampling and a XGBOOST Classifier trained using oversampling. \n",
    "\n",
    "(Because of a low computer computational power, I have not been able to use undersampling neither inside or outside the pipeline). \n",
    "\n",
    "Hence, we can now use all of the trained models for predicting the accident severity from the testing set and see what are their performance on unseen data as well as confronting the results with the calculated baseline: \n",
    "\n",
    "* **Precision: 0.262**\n",
    "\n",
    "* **Recall: 0.333**\n",
    "\n",
    "* **F-score: 0.294**"
   ]
  },
  {
   "cell_type": "code",
   "execution_count": 11,
   "id": "metric-matter",
   "metadata": {},
   "outputs": [],
   "source": [
    "#logistic regression - class weights\n",
    "lr_wt_grid = load('models/cw-lr.joblib')\n",
    "\n",
    "#random forest classifier - class weights\n",
    "rfc_cw_grid2 = load('models/cw-rf-clf2.joblib')\n",
    "\n",
    "#random forest classifier - oversampling \n",
    "oversamp_rfc_grid = load('models/rfc-smote.joblib')\n",
    "\n",
    "#xgboost classifier - oversampling \n",
    "xgb_oversamp_grid = load('models/xgb-smote.joblib')"
   ]
  },
  {
   "cell_type": "code",
   "execution_count": 12,
   "id": "becoming-charles",
   "metadata": {},
   "outputs": [],
   "source": [
    "#Create a function to evalue the model using Precision, Recall and F1 macro score \n",
    "def get_evaluation (model, X_test, y_test):\n",
    "    \n",
    "    #make the predictions \n",
    "    y_hat = model.predict(X_test)\n",
    "\n",
    "    # macro-averaged precision, recall and f-score\n",
    "    p, r, f, s = precision_recall_fscore_support(y_test, y_hat, average=\"macro\")\n",
    "    print(f\"{model}:\\n\")\n",
    "    print(f\"Precision: {p}\")\n",
    "    print(f\"Recall: {r}\")\n",
    "    print(f\"F score: {f}\")"
   ]
  },
  {
   "cell_type": "markdown",
   "id": "corporate-superintendent",
   "metadata": {},
   "source": [
    "### Logist Regression - Class Weights - Evaluation "
   ]
  },
  {
   "cell_type": "markdown",
   "id": "nervous-yeast",
   "metadata": {},
   "source": [
    "The Logistic regression F-score on the testing set is similar with the one we got on the training set and overall better than the baseline. Although we can  see that the Recall is higher than the Precision, which might be considered as a good feature since we are predicting something quite important as the accident severity. "
   ]
  },
  {
   "cell_type": "code",
   "execution_count": 13,
   "id": "tracked-library",
   "metadata": {},
   "outputs": [
    {
     "name": "stdout",
     "output_type": "stream",
     "text": [
      "LogisticRegression(C=0.01, class_weight='balanced', multi_class='multinomial',\n",
      "                   n_jobs=-1, random_state=42):\n",
      "\n",
      "Precision: 0.371049143191434\n",
      "Recall: 0.47509848448100916\n",
      "F score: 0.3306207343199366\n"
     ]
    }
   ],
   "source": [
    "#predict the accident severity on the testing set and retrive the precision, recall and fscore \n",
    "get_evaluation(lr_wt_grid, X_test_sfm, y_test)"
   ]
  },
  {
   "cell_type": "markdown",
   "id": "valuable-career",
   "metadata": {},
   "source": [
    "Furthermore, from the confusion matrix it is visible how the model predicted a plenty number of times either as slight or serioius an accident that was actually fatal as well as slight an accident that was serious. "
   ]
  },
  {
   "cell_type": "code",
   "execution_count": 14,
   "id": "after-performer",
   "metadata": {},
   "outputs": [
    {
     "data": {
      "text/plain": [
       "<sklearn.metrics._plot.confusion_matrix.ConfusionMatrixDisplay at 0x7fda54cae950>"
      ]
     },
     "execution_count": 14,
     "metadata": {},
     "output_type": "execute_result"
    },
    {
     "data": {
      "image/png": "[encoded data removed]",
      "text/plain": [
       "<Figure size 432x288 with 2 Axes>"
      ]
     },
     "metadata": {
      "needs_background": "light"
     },
     "output_type": "display_data"
    }
   ],
   "source": [
    "#plot the confusion matrix\n",
    "plot_confusion_matrix(lr_wt_grid, X_test_sfm, y_test, cmap=plt.cm.Blues)"
   ]
  },
  {
   "cell_type": "markdown",
   "id": "prostate-clinton",
   "metadata": {},
   "source": [
    "### Random Forest - Class Weights - Evaluation "
   ]
  },
  {
   "cell_type": "markdown",
   "id": "honest-syndrome",
   "metadata": {},
   "source": [
    "The Random Forest model we used assigning class weights got again a similar perfornace as in the training set, which is higher than the baseline. Though, both of the F-score and precision are better than the ones for the Logistic Regression, the recall is quite lower. "
   ]
  },
  {
   "cell_type": "code",
   "execution_count": 15,
   "id": "objective-hearts",
   "metadata": {},
   "outputs": [
    {
     "name": "stdout",
     "output_type": "stream",
     "text": [
      "GridSearchCV(cv=5,\n",
      "             estimator=RandomForestClassifier(class_weight='balanced',\n",
      "                                              n_jobs=-1, random_state=42),\n",
      "             n_jobs=-1,\n",
      "             param_grid={'criterion': ['entropy'], 'max_depth': [15, 20],\n",
      "                         'n_estimators': [700, 800]},\n",
      "             return_train_score=True, scoring='f1_macro'):\n",
      "\n",
      "Precision: 0.38920371686458144\n",
      "Recall: 0.3991713468844791\n",
      "F score: 0.38911197948010984\n"
     ]
    }
   ],
   "source": [
    "#predict the accident severity on the testing set and retrive the precision, recall and fscore \n",
    "get_evaluation(rfc_cw_grid2, X_test_sfm, y_test)"
   ]
  },
  {
   "cell_type": "markdown",
   "id": "elementary-warner",
   "metadata": {},
   "source": [
    "We can have a better view of the performance of the model looking at the confusion matrix. Again, we can see how worst the recall is for this model compared with the previous one. Furthermore, the model appears to consused when an accident is serious and slight, in fact, comparing it with the Logistic Regression, it more times wrongly predictied an accident to be slight when it was actually serious. Same this happend when the accident was actaully Fatal.  "
   ]
  },
  {
   "cell_type": "code",
   "execution_count": 17,
   "id": "every-warehouse",
   "metadata": {},
   "outputs": [
    {
     "data": {
      "text/plain": [
       "<sklearn.metrics._plot.confusion_matrix.ConfusionMatrixDisplay at 0x7fd9e22e7790>"
      ]
     },
     "execution_count": 17,
     "metadata": {},
     "output_type": "execute_result"
    },
    {
     "data": {
      "image/png": "[encoded data removed]",
      "text/plain": [
       "<Figure size 432x288 with 2 Axes>"
      ]
     },
     "metadata": {
      "needs_background": "light"
     },
     "output_type": "display_data"
    }
   ],
   "source": [
    "#plot the confusion matrix\n",
    "plot_confusion_matrix(rfc_cw_grid2, X_test_sfm, y_test, cmap=plt.cm.Blues)"
   ]
  },
  {
   "cell_type": "markdown",
   "id": "nasty-feature",
   "metadata": {},
   "source": [
    "### Random Forest - Oversampling - Evaluation "
   ]
  },
  {
   "cell_type": "markdown",
   "id": "located-vacation",
   "metadata": {},
   "source": [
    "The Random Forest trained using the oversampling technique performed in a very similar way as the Random Forest with class weights, perhaps a little bit worst. In fact, while the recall is pretty much the same, it got a worst precision and F-score. "
   ]
  },
  {
   "cell_type": "code",
   "execution_count": 71,
   "id": "freelance-battlefield",
   "metadata": {},
   "outputs": [
    {
     "name": "stdout",
     "output_type": "stream",
     "text": [
      "RandomForestClassifier(criterion='entropy', max_depth=20, n_estimators=700,\n",
      "                       n_jobs=-1, random_state=42):\n",
      "\n",
      "Precision: 0.37505456546146637\n",
      "Recall: 0.3950566136329545\n",
      "F score: 0.3782061059686678\n"
     ]
    }
   ],
   "source": [
    "#predict the accident severity on the testing set and retrive the precision, recall and fscore \n",
    "get_evaluation(oversamp_rfc_grid, X_test_sfm, y_test)"
   ]
  },
  {
   "cell_type": "markdown",
   "id": "tested-symbol",
   "metadata": {},
   "source": [
    "Comparing this model confusion matrix with the previous one, we can actually see how this model and the previous one are very much similar between each other. Hence, training the same algorithm using oversampling and class weights gave very close results. "
   ]
  },
  {
   "cell_type": "code",
   "execution_count": 72,
   "id": "statutory-uganda",
   "metadata": {},
   "outputs": [
    {
     "data": {
      "text/plain": [
       "<sklearn.metrics._plot.confusion_matrix.ConfusionMatrixDisplay at 0x7fa511ed85d0>"
      ]
     },
     "execution_count": 72,
     "metadata": {},
     "output_type": "execute_result"
    },
    {
     "data": {
      "image/png": "[encoded data removed]",
      "text/plain": [
       "<Figure size 432x288 with 2 Axes>"
      ]
     },
     "metadata": {
      "needs_background": "light"
     },
     "output_type": "display_data"
    }
   ],
   "source": [
    "#plot the confusion matrix\n",
    "plot_confusion_matrix(oversamp_rfc_grid, X_test_sfm, y_test, cmap=plt.cm.Blues)"
   ]
  },
  {
   "cell_type": "markdown",
   "id": "everyday-sixth",
   "metadata": {},
   "source": [
    "### XGBOOST - Oversampling - Evaluation "
   ]
  },
  {
   "cell_type": "markdown",
   "id": "binding-nothing",
   "metadata": {},
   "source": [
    "Lastly, the XGBOOST tarined using oversampling techinque did not perform quite well, with all the three scores lower than the two Random Forests, and only the F-score higher than the Logistic Regression one, but with both precision and recall considerably lower. "
   ]
  },
  {
   "cell_type": "code",
   "execution_count": 73,
   "id": "approved-salvation",
   "metadata": {},
   "outputs": [
    {
     "name": "stdout",
     "output_type": "stream",
     "text": [
      "XGBClassifier(base_score=0.5, booster='gbtree', colsample_bylevel=1,\n",
      "              colsample_bynode=1, colsample_bytree=1, gamma=0, gpu_id=-1,\n",
      "              importance_type='gain', interaction_constraints='',\n",
      "              learning_rate=0.300000012, max_delta_step=0, max_depth=15,\n",
      "              min_child_weight=5, missing=nan, monotone_constraints='()',\n",
      "              n_estimators=600, n_jobs=-1, num_parallel_tree=1,\n",
      "              objective='multi:softprob', random_state=42, reg_alpha=0,\n",
      "              reg_lambda=1, scale_pos_weight=None, subsample=1,\n",
      "              tree_method='exact', validate_parameters=1, verbosity=None):\n",
      "\n",
      "Precision: 0.362010666597499\n",
      "Recall: 0.36383363763806104\n",
      "F score: 0.3626732511990907\n"
     ]
    }
   ],
   "source": [
    "#predict the accident severity on the testing set and retrive the precision, recall and fscore \n",
    "get_evaluation(xgb_oversamp_grid, X_test_sfm, y_test)"
   ]
  },
  {
   "cell_type": "markdown",
   "id": "blond-sperm",
   "metadata": {},
   "source": [
    "We can see the bad performance of the XGBOOST from the confusion matrix below. Furthermore, it is quite worrying to see that the model well predicted a fatal accident only 8 times out of 331, which represents only the 2.41% of the times. "
   ]
  },
  {
   "cell_type": "code",
   "execution_count": 74,
   "id": "cardiac-phone",
   "metadata": {},
   "outputs": [
    {
     "data": {
      "text/plain": [
       "<sklearn.metrics._plot.confusion_matrix.ConfusionMatrixDisplay at 0x7fa513466210>"
      ]
     },
     "execution_count": 74,
     "metadata": {},
     "output_type": "execute_result"
    },
    {
     "data": {
      "image/png": "[encoded data removed]",
      "text/plain": [
       "<Figure size 432x288 with 2 Axes>"
      ]
     },
     "metadata": {
      "needs_background": "light"
     },
     "output_type": "display_data"
    }
   ],
   "source": [
    "#plot the confusion matrix\n",
    "plot_confusion_matrix(xgb_oversamp_grid, X_test_sfm, y_test, cmap=plt.cm.Blues)"
   ]
  },
  {
   "cell_type": "markdown",
   "id": "boolean-midwest",
   "metadata": {},
   "source": [
    "## Discussion of evaluation results"
   ]
  },
  {
   "cell_type": "markdown",
   "id": "inclusive-island",
   "metadata": {},
   "source": [
    "From the models evaluation we have seen how all the four trained models performed on the testing set, and more or less we got similar results than the ones obtained using cross validation on the training set. \n",
    "\n",
    "Although we have not achieved great results, at least all the models achieved a better result than the baseline. However, if I had to choose the most appropriate model I would probably go for the Logistic Regression. \n",
    "\n",
    "In fact, since our business goal is to improve the road safety in the UK, we want the model to be as more conservative as possible, prefering a a high recall rather than a high precision and the Logistic Regression is the one that got the highest recall score by far with a value of 0.4750. \n",
    "\n",
    "Moreover, it has been the one that better understood when an accident was fatal. Also, even though other models have been better in understand if an accident was serious, if we summed up the times the Logistic Regression predicted either fatal or serious when an accident was actually serious, it would get the highest value. Hence, it is by far the most conservative model, whose is more incline to predict an accident as serious or fatal than the other models. Of course, this will lead to errors in predicting possible slight accident as more serious than they really might be, but as stated earlier, we want to be sure to improve as much as possible the road safety in the country and this represents the most severe way to achieve this. Though, since the F-score of the model is not that high, the algorithm will naturally lose some strength down the road, but this could be seen as an even stronger argument to prefer the Logistic Regression, since all the four models performed quite poorly."
   ]
  },
  {
   "cell_type": "markdown",
   "id": "rolled-miami",
   "metadata": {},
   "source": [
    "## Possible future improvements"
   ]
  },
  {
   "cell_type": "markdown",
   "id": "brilliant-california",
   "metadata": {},
   "source": [
    "In order to improve the model's performance we would need more data for the minority classes, fatal and serious. We could for instance use data for the previous years or waiting for the next year data. \n",
    "\n",
    "Despite of that, another improvement might be brought in by the use of a more powerfull machine where to train the algorithm on, in fact, we could not use very complex models such as either Artificial Neural Networks or Voting Ensemble algorithms, which are more capable to capture the very small details in the dataset, perhaps being able to better differentiate between the magority and the minority classes. \n",
    "\n",
    "Lastly, a possible improvement might be to imvestigate deeper on what are the causes of cars' accident in the UK, trying to include more features in the dataset, which might be able to better explain the target variable than now.  "
   ]
  },
  {
   "cell_type": "markdown",
   "id": "liked-decision",
   "metadata": {},
   "source": [
    "## Possible scenarios to deploy the models in real-world business scenarios"
   ]
  },
  {
   "cell_type": "markdown",
   "id": "moved-george",
   "metadata": {},
   "source": [
    "Consisent with the business goal of this project, a possible real-world business scenarios to use and deploy the model would be either for no-profit enities such as the Goverment, in order to improve the road safety in the country to increase the quality of life of their citizens, or for private companies and tech start-ups who might be offer this technology to the Goverment and be paid for it. In the latter case, the advange for the Goverment would be that it might not have the resources and capabilities to develop and mantain this kind of techonolgy, something that private entities have, thereby outsourcing would represent a valid alternative to take into account.  "
   ]
  }
 ],
 "metadata": {
  "kernelspec": {
   "display_name": "Python [conda env:NicholasEnv] *",
   "language": "python",
   "name": "conda-env-NicholasEnv-py"
  },
  "language_info": {
   "codemirror_mode": {
    "name": "ipython",
    "version": 3
   },
   "file_extension": ".py",
   "mimetype": "text/x-python",
   "name": "python",
   "nbconvert_exporter": "python",
   "pygments_lexer": "ipython3",
   "version": "3.7.10"
  },
  "toc-autonumbering": true,
  "toc-showcode": false,
  "toc-showmarkdowntxt": false
 },
 "nbformat": 4,
 "nbformat_minor": 5
}