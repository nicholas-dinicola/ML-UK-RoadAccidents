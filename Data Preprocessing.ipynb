{
 "cells": [
  {
   "cell_type": "markdown",
   "metadata": {
    "id": "Jgfxrd-wXCul"
   },
   "source": [
    "# **Business Objectives and Its Context**\n",
    "\n"
   ]
  },
  {
   "cell_type": "markdown",
   "metadata": {
    "id": "Uz8pmMr3Xnpe"
   },
   "source": [
    "The business objective is to help improving road safety in the UK, by developing a predictive model that is able to predict accident severity based on various external variables. We would be a government agency trying to find out where to deploy resources for in order to enhance road safety. \n",
    "\n",
    "We will use data from the UK Government website: https://data.gov.uk/dataset/cb7ae6f0-4be6-4935-9277-47e5ce24a11f/road-safety-data\n",
    "\n",
    "The website provides datasets regarding road safety in the UK, and we are going to use the containing data about accidents occured in 2019 given some external and internal factors. Due to the business objective and the context we have supposed to play in, we will only be using external factors data. Lastly, 2019 data are the latest available at this time. \n",
    "\n",
    "\n",
    "\n",
    " \n",
    "\n"
   ]
  },
  {
   "cell_type": "markdown",
   "metadata": {
    "id": "OkOHdh1kXdmo"
   },
   "source": [
    "\n",
    "# **Descriptive statistics on the dataset**\n"
   ]
  },
  {
   "cell_type": "markdown",
   "metadata": {
    "id": "UIhOgBo6N87u"
   },
   "source": [
    "Firstly, we need to read the dataset to start working on it. Notice that we have already selected specific variables amongst them all that will suit our analysis best. They are all referring to external factors to hold the assmption of our business objective. "
   ]
  },
  {
   "cell_type": "code",
   "execution_count": null,
   "metadata": {
    "id": "T98bw-nnW-oR"
   },
   "outputs": [],
   "source": [
    "#Import Libraries \n",
    "import pandas as pd \n",
    "import numpy as np\n",
    "import matplotlib.pyplot as plt\n",
    "import seaborn as sns\n",
    "import datetime\n",
    "from scipy import stats\n",
    "\n",
    "#Preprocessing \n",
    "from sklearn.model_selection import train_test_split \n",
    "from sklearn.preprocessing import RobustScaler, OneHotEncoder\n",
    "from sklearn.impute import SimpleImputer"
   ]
  },
  {
   "cell_type": "code",
   "execution_count": null,
   "metadata": {
    "id": "RkgucqTKZkRB"
   },
   "outputs": [],
   "source": [
    "#Store the dataset file in a variable \n",
    "file = \"Road Safety Data - Accidents 2019.csv\"\n",
    "\n",
    "#Select the columns to read from the original dataset \n",
    "columns = [\"Accident_Index\", \"Accident_Severity\", \"Road_Type\",\"Light_Conditions\",\"Speed_limit\",\"Road_Surface_Conditions\",\n",
    "           \"Special_Conditions_at_Site\",\"Carriageway_Hazards\",\"Urban_or_Rural_Area\",\"Number_of_Vehicles\",\"Latitude\",\"Longitude\",\n",
    "           \"Location_Easting_OSGR\",\"Location_Northing_OSGR\",\"Date\",\"Weather_Conditions\", \"Time\", \"Day_of_Week\"]\n",
    "\n",
    "#Read the dataset with pandas, set the accident index variable as index \n",
    "df = pd.read_csv(file, usecols=columns, low_memory=False).set_index(\"Accident_Index\")"
   ]
  },
  {
   "cell_type": "markdown",
   "metadata": {
    "id": "oDrG_m3IROlK"
   },
   "source": [
    "Let's have a glimpse of the dataset in respect of variable types, missing values, number of raws and columns and some descriptive statistics to get a better idea of the data"
   ]
  },
  {
   "cell_type": "code",
   "execution_count": null,
   "metadata": {
    "colab": {
     "base_uri": "https://localhost:8080/"
    },
    "id": "h_rSOWLDSjIh",
    "outputId": "48d40483-f29b-467e-f9c5-c5c9e5ca52f9"
   },
   "outputs": [
    {
     "data": {
      "text/plain": [
       "(117536, 17)"
      ]
     },
     "execution_count": 3,
     "metadata": {
      "tags": []
     },
     "output_type": "execute_result"
    }
   ],
   "source": [
    "#Number of instances and features in the dataset \n",
    "df.shape"
   ]
  },
  {
   "cell_type": "code",
   "execution_count": null,
   "metadata": {
    "colab": {
     "base_uri": "https://localhost:8080/"
    },
    "id": "TkPRFwCTNSEX",
    "outputId": "492a6b39-17d7-44e0-8d1f-bc91c6d3d283"
   },
   "outputs": [
    {
     "name": "stdout",
     "output_type": "stream",
     "text": [
      "<class 'pandas.core.frame.DataFrame'>\n",
      "Index: 117536 entries, 2019010128300 to 201998QC01004\n",
      "Data columns (total 17 columns):\n",
      " #   Column                      Non-Null Count   Dtype  \n",
      "---  ------                      --------------   -----  \n",
      " 0   Location_Easting_OSGR       117508 non-null  float64\n",
      " 1   Location_Northing_OSGR      117508 non-null  float64\n",
      " 2   Longitude                   117508 non-null  float64\n",
      " 3   Latitude                    117508 non-null  float64\n",
      " 4   Accident_Severity           117536 non-null  int64  \n",
      " 5   Number_of_Vehicles          117536 non-null  int64  \n",
      " 6   Date                        117536 non-null  object \n",
      " 7   Day_of_Week                 117536 non-null  int64  \n",
      " 8   Time                        117473 non-null  object \n",
      " 9   Road_Type                   117536 non-null  int64  \n",
      " 10  Speed_limit                 117536 non-null  int64  \n",
      " 11  Light_Conditions            117536 non-null  int64  \n",
      " 12  Weather_Conditions          117536 non-null  int64  \n",
      " 13  Road_Surface_Conditions     117536 non-null  int64  \n",
      " 14  Special_Conditions_at_Site  117536 non-null  int64  \n",
      " 15  Carriageway_Hazards         117536 non-null  int64  \n",
      " 16  Urban_or_Rural_Area         117536 non-null  int64  \n",
      "dtypes: float64(4), int64(11), object(2)\n",
      "memory usage: 16.1+ MB\n"
     ]
    }
   ],
   "source": [
    "#Get the variable type, columns names and number of rows \n",
    "df.info()"
   ]
  },
  {
   "cell_type": "code",
   "execution_count": null,
   "metadata": {
    "colab": {
     "base_uri": "https://localhost:8080/"
    },
    "id": "j9BCshLXNHks",
    "outputId": "a841b1e3-ce0d-48c7-8ea2-b1451780a652"
   },
   "outputs": [
    {
     "data": {
      "text/plain": [
       "Location_Easting_OSGR         28\n",
       "Location_Northing_OSGR        28\n",
       "Longitude                     28\n",
       "Latitude                      28\n",
       "Accident_Severity              0\n",
       "Number_of_Vehicles             0\n",
       "Date                           0\n",
       "Day_of_Week                    0\n",
       "Time                          63\n",
       "Road_Type                      0\n",
       "Speed_limit                    0\n",
       "Light_Conditions               0\n",
       "Weather_Conditions             0\n",
       "Road_Surface_Conditions        0\n",
       "Special_Conditions_at_Site     0\n",
       "Carriageway_Hazards            0\n",
       "Urban_or_Rural_Area            0\n",
       "dtype: int64"
      ]
     },
     "execution_count": 5,
     "metadata": {
      "tags": []
     },
     "output_type": "execute_result"
    }
   ],
   "source": [
    "#How many missing values in the dataset \n",
    "df.isnull().sum()"
   ]
  },
  {
   "cell_type": "code",
   "execution_count": null,
   "metadata": {
    "colab": {
     "base_uri": "https://localhost:8080/",
     "height": 410
    },
    "id": "CTU907AECNRs",
    "outputId": "e8feb677-7ff9-4b6d-a87c-8090ca6f3f64"
   },
   "outputs": [
    {
     "data": {
      "text/html": [
       "<div>\n",
       "<style scoped>\n",
       "    .dataframe tbody tr th:only-of-type {\n",
       "        vertical-align: middle;\n",
       "    }\n",
       "\n",
       "    .dataframe tbody tr th {\n",
       "        vertical-align: top;\n",
       "    }\n",
       "\n",
       "    .dataframe thead th {\n",
       "        text-align: right;\n",
       "    }\n",
       "</style>\n",
       "<table border=\"1\" class=\"dataframe\">\n",
       "  <thead>\n",
       "    <tr style=\"text-align: right;\">\n",
       "      <th></th>\n",
       "      <th>Location_Easting_OSGR</th>\n",
       "      <th>Location_Northing_OSGR</th>\n",
       "      <th>Longitude</th>\n",
       "      <th>Latitude</th>\n",
       "      <th>Accident_Severity</th>\n",
       "      <th>Number_of_Vehicles</th>\n",
       "      <th>Date</th>\n",
       "      <th>Day_of_Week</th>\n",
       "      <th>Time</th>\n",
       "      <th>Road_Type</th>\n",
       "      <th>Speed_limit</th>\n",
       "      <th>Light_Conditions</th>\n",
       "      <th>Weather_Conditions</th>\n",
       "      <th>Road_Surface_Conditions</th>\n",
       "      <th>Special_Conditions_at_Site</th>\n",
       "      <th>Carriageway_Hazards</th>\n",
       "      <th>Urban_or_Rural_Area</th>\n",
       "    </tr>\n",
       "    <tr>\n",
       "      <th>Accident_Index</th>\n",
       "      <th></th>\n",
       "      <th></th>\n",
       "      <th></th>\n",
       "      <th></th>\n",
       "      <th></th>\n",
       "      <th></th>\n",
       "      <th></th>\n",
       "      <th></th>\n",
       "      <th></th>\n",
       "      <th></th>\n",
       "      <th></th>\n",
       "      <th></th>\n",
       "      <th></th>\n",
       "      <th></th>\n",
       "      <th></th>\n",
       "      <th></th>\n",
       "      <th></th>\n",
       "    </tr>\n",
       "  </thead>\n",
       "  <tbody>\n",
       "    <tr>\n",
       "      <th>2019450877247</th>\n",
       "      <td>519286.0</td>\n",
       "      <td>153889.0</td>\n",
       "      <td>-0.291383</td>\n",
       "      <td>51.271674</td>\n",
       "      <td>3</td>\n",
       "      <td>2</td>\n",
       "      <td>13/09/2019</td>\n",
       "      <td>6</td>\n",
       "      <td>08:45</td>\n",
       "      <td>6</td>\n",
       "      <td>60</td>\n",
       "      <td>1</td>\n",
       "      <td>1</td>\n",
       "      <td>1</td>\n",
       "      <td>0</td>\n",
       "      <td>0</td>\n",
       "      <td>2</td>\n",
       "    </tr>\n",
       "    <tr>\n",
       "      <th>2019910887102</th>\n",
       "      <td>183082.0</td>\n",
       "      <td>827263.0</td>\n",
       "      <td>-5.600787</td>\n",
       "      <td>57.284298</td>\n",
       "      <td>2</td>\n",
       "      <td>1</td>\n",
       "      <td>11/10/2019</td>\n",
       "      <td>6</td>\n",
       "      <td>19:00</td>\n",
       "      <td>6</td>\n",
       "      <td>60</td>\n",
       "      <td>6</td>\n",
       "      <td>2</td>\n",
       "      <td>2</td>\n",
       "      <td>0</td>\n",
       "      <td>0</td>\n",
       "      <td>2</td>\n",
       "    </tr>\n",
       "    <tr>\n",
       "      <th>2019230924289</th>\n",
       "      <td>452820.0</td>\n",
       "      <td>274424.0</td>\n",
       "      <td>-1.225693</td>\n",
       "      <td>52.365347</td>\n",
       "      <td>3</td>\n",
       "      <td>2</td>\n",
       "      <td>17/11/2019</td>\n",
       "      <td>1</td>\n",
       "      <td>10:45</td>\n",
       "      <td>3</td>\n",
       "      <td>30</td>\n",
       "      <td>1</td>\n",
       "      <td>1</td>\n",
       "      <td>1</td>\n",
       "      <td>0</td>\n",
       "      <td>0</td>\n",
       "      <td>1</td>\n",
       "    </tr>\n",
       "    <tr>\n",
       "      <th>2019220841269</th>\n",
       "      <td>373314.0</td>\n",
       "      <td>309861.0</td>\n",
       "      <td>-2.396207</td>\n",
       "      <td>52.685792</td>\n",
       "      <td>1</td>\n",
       "      <td>1</td>\n",
       "      <td>19/05/2019</td>\n",
       "      <td>1</td>\n",
       "      <td>00:30</td>\n",
       "      <td>6</td>\n",
       "      <td>60</td>\n",
       "      <td>6</td>\n",
       "      <td>1</td>\n",
       "      <td>1</td>\n",
       "      <td>0</td>\n",
       "      <td>0</td>\n",
       "      <td>2</td>\n",
       "    </tr>\n",
       "    <tr>\n",
       "      <th>2019430123473</th>\n",
       "      <td>487598.0</td>\n",
       "      <td>234513.0</td>\n",
       "      <td>-0.725342</td>\n",
       "      <td>52.002166</td>\n",
       "      <td>3</td>\n",
       "      <td>1</td>\n",
       "      <td>23/04/2019</td>\n",
       "      <td>3</td>\n",
       "      <td>13:30</td>\n",
       "      <td>6</td>\n",
       "      <td>30</td>\n",
       "      <td>1</td>\n",
       "      <td>1</td>\n",
       "      <td>1</td>\n",
       "      <td>0</td>\n",
       "      <td>0</td>\n",
       "      <td>1</td>\n",
       "    </tr>\n",
       "    <tr>\n",
       "      <th>2019010158185</th>\n",
       "      <td>513629.0</td>\n",
       "      <td>172696.0</td>\n",
       "      <td>-0.366441</td>\n",
       "      <td>51.441869</td>\n",
       "      <td>3</td>\n",
       "      <td>2</td>\n",
       "      <td>17/01/2019</td>\n",
       "      <td>5</td>\n",
       "      <td>16:45</td>\n",
       "      <td>3</td>\n",
       "      <td>40</td>\n",
       "      <td>7</td>\n",
       "      <td>1</td>\n",
       "      <td>1</td>\n",
       "      <td>0</td>\n",
       "      <td>0</td>\n",
       "      <td>1</td>\n",
       "    </tr>\n",
       "    <tr>\n",
       "      <th>2019121900317</th>\n",
       "      <td>463226.0</td>\n",
       "      <td>450705.0</td>\n",
       "      <td>-1.038144</td>\n",
       "      <td>53.948611</td>\n",
       "      <td>3</td>\n",
       "      <td>3</td>\n",
       "      <td>04/02/2019</td>\n",
       "      <td>2</td>\n",
       "      <td>19:26</td>\n",
       "      <td>6</td>\n",
       "      <td>30</td>\n",
       "      <td>4</td>\n",
       "      <td>1</td>\n",
       "      <td>2</td>\n",
       "      <td>0</td>\n",
       "      <td>0</td>\n",
       "      <td>1</td>\n",
       "    </tr>\n",
       "    <tr>\n",
       "      <th>201906N262818</th>\n",
       "      <td>381177.0</td>\n",
       "      <td>404062.0</td>\n",
       "      <td>-2.285447</td>\n",
       "      <td>53.532888</td>\n",
       "      <td>2</td>\n",
       "      <td>1</td>\n",
       "      <td>06/10/2019</td>\n",
       "      <td>1</td>\n",
       "      <td>19:30</td>\n",
       "      <td>6</td>\n",
       "      <td>30</td>\n",
       "      <td>4</td>\n",
       "      <td>1</td>\n",
       "      <td>1</td>\n",
       "      <td>0</td>\n",
       "      <td>0</td>\n",
       "      <td>1</td>\n",
       "    </tr>\n",
       "    <tr>\n",
       "      <th>2019320164883</th>\n",
       "      <td>526767.0</td>\n",
       "      <td>323996.0</td>\n",
       "      <td>-0.121198</td>\n",
       "      <td>52.798660</td>\n",
       "      <td>3</td>\n",
       "      <td>3</td>\n",
       "      <td>01/04/2019</td>\n",
       "      <td>2</td>\n",
       "      <td>12:30</td>\n",
       "      <td>6</td>\n",
       "      <td>40</td>\n",
       "      <td>1</td>\n",
       "      <td>1</td>\n",
       "      <td>1</td>\n",
       "      <td>0</td>\n",
       "      <td>0</td>\n",
       "      <td>2</td>\n",
       "    </tr>\n",
       "    <tr>\n",
       "      <th>2019430150926</th>\n",
       "      <td>486674.0</td>\n",
       "      <td>194345.0</td>\n",
       "      <td>-0.748840</td>\n",
       "      <td>51.641242</td>\n",
       "      <td>3</td>\n",
       "      <td>2</td>\n",
       "      <td>17/05/2019</td>\n",
       "      <td>6</td>\n",
       "      <td>14:20</td>\n",
       "      <td>6</td>\n",
       "      <td>30</td>\n",
       "      <td>1</td>\n",
       "      <td>1</td>\n",
       "      <td>1</td>\n",
       "      <td>0</td>\n",
       "      <td>0</td>\n",
       "      <td>1</td>\n",
       "    </tr>\n",
       "  </tbody>\n",
       "</table>\n",
       "</div>"
      ],
      "text/plain": [
       "                Location_Easting_OSGR  ...  Urban_or_Rural_Area\n",
       "Accident_Index                         ...                     \n",
       "2019450877247                519286.0  ...                    2\n",
       "2019910887102                183082.0  ...                    2\n",
       "2019230924289                452820.0  ...                    1\n",
       "2019220841269                373314.0  ...                    2\n",
       "2019430123473                487598.0  ...                    1\n",
       "2019010158185                513629.0  ...                    1\n",
       "2019121900317                463226.0  ...                    1\n",
       "201906N262818                381177.0  ...                    1\n",
       "2019320164883                526767.0  ...                    2\n",
       "2019430150926                486674.0  ...                    1\n",
       "\n",
       "[10 rows x 17 columns]"
      ]
     },
     "execution_count": 6,
     "metadata": {
      "tags": []
     },
     "output_type": "execute_result"
    }
   ],
   "source": [
    "#Randomly retrive ten rows from the dataset \n",
    "df.sample(10)"
   ]
  },
  {
   "cell_type": "markdown",
   "metadata": {
    "id": "UNkIcyaUTQD5"
   },
   "source": [
    "We can notice that some variables which are supposed to be categorical have been encoded as numerical. Indeed, they have got numbers rather than categorie levels. Moreover, the date feature has the object type instead of datetime. We will sort all of these things out in the next step."
   ]
  },
  {
   "cell_type": "markdown",
   "metadata": {
    "id": "5LUogk0ADoB5"
   },
   "source": [
    "## Convert Columns to Correct Datatype"
   ]
  },
  {
   "cell_type": "markdown",
   "metadata": {
    "id": "VtNkMcB3NEE6"
   },
   "source": [
    "All the categorical variables in the dataset have been stored as numerical, whereby each number corresponds to a specific category. As a first step we will then convert all these variables to their correct datatype converting each values to its corresponding category. \n",
    "\n",
    "Let's start with encoding the date variable properly using pandas. "
   ]
  },
  {
   "cell_type": "code",
   "execution_count": null,
   "metadata": {
    "colab": {
     "base_uri": "https://localhost:8080/"
    },
    "id": "EoHdtpjRF4AF",
    "outputId": "c69a1047-a456-4f54-ffc6-eef0320ff0fd"
   },
   "outputs": [
    {
     "name": "stdout",
     "output_type": "stream",
     "text": [
      "datetime64[ns]\n"
     ]
    }
   ],
   "source": [
    "#Convert the date variable \n",
    "df[\"Date\"]=pd.to_datetime(df['Date'], format=\"%d/%m/%Y\")\n",
    "\n",
    "#Check the type \n",
    "print(df[\"Date\"].dtypes)"
   ]
  },
  {
   "cell_type": "markdown",
   "metadata": {
    "id": "_ywo6biioFfW"
   },
   "source": [
    "We can go further extrapolating the month and season variable from the date feature. "
   ]
  },
  {
   "cell_type": "code",
   "execution_count": null,
   "metadata": {
    "id": "YjpAa6SQMdmR"
   },
   "outputs": [],
   "source": [
    "# Create new variable month\r\n",
    "df['month'] = df['Date'].dt.month"
   ]
  },
  {
   "cell_type": "code",
   "execution_count": null,
   "metadata": {
    "id": "kVqhjVnVMZFh"
   },
   "outputs": [],
   "source": [
    "# create a column for seasons\r\n",
    "def month_season(row):\r\n",
    "    month = row['month']\r\n",
    "    if  month==12 or month<=2 :# winter (December, January, February)\r\n",
    "        return \"Winter\"\r\n",
    "    elif month<=5:# spring (March, April, May) \r\n",
    "        return \"Spring\"\r\n",
    "    elif month<=8:# summer (June, July, August)\r\n",
    "        return \"Summer\"\r\n",
    "    elif month<=11:# autumn (September, October, November)\r\n",
    "        return \"Autumn\"\r\n",
    "\r\n",
    "df[\"season\"] = df.apply(month_season, axis=1)\r\n",
    "\r\n",
    "df.drop(\"month\", axis=1, inplace=True)"
   ]
  },
  {
   "cell_type": "markdown",
   "metadata": {
    "id": "qTj2NbH1Wb7y"
   },
   "source": [
    "The date variable has been now converted to its correct datatype. Let's now convert all the categorical variables' levels from number to its corresponding value. "
   ]
  },
  {
   "cell_type": "code",
   "execution_count": null,
   "metadata": {
    "colab": {
     "base_uri": "https://localhost:8080/"
    },
    "id": "yx6BR1_6GJ8I",
    "outputId": "75843515-55ef-4b1b-f584-826b6228274c"
   },
   "outputs": [
    {
     "data": {
      "text/plain": [
       "Fine no high winds       92316\n",
       "Raining no high winds    15294\n",
       "Other                     3043\n",
       "Raining + high winds      1430\n",
       "Fine + high winds         1230\n",
       "Fog or mist                394\n",
       "Snowing no high winds      353\n",
       "Snowing + high winds        40\n",
       "Name: Weather_Conditions, dtype: int64"
      ]
     },
     "execution_count": 10,
     "metadata": {
      "tags": []
     },
     "output_type": "execute_result"
    }
   ],
   "source": [
    "# use nominal values for Weather conditions\n",
    "replacement_dict_weather = {\n",
    "    1: \"Fine no high winds\",\n",
    "    2: \"Raining no high winds\",\n",
    "    3: \"Snowing no high winds\",\n",
    "    4: \"Fine + high winds\",\n",
    "    5: \"Raining + high winds\",\n",
    "    6: \"Snowing + high winds\",\n",
    "    7: \"Fog or mist\",\n",
    "    8: \"Other\",\n",
    "    9: np.NaN ,\n",
    "    -1: np.NaN\n",
    "}\n",
    "\n",
    "#Convert the values within the variable \n",
    "df[\"Weather_Conditions\"] = df[\"Weather_Conditions\"].map(replacement_dict_weather)\n",
    "\n",
    "#Check the values \n",
    "df[\"Weather_Conditions\"].value_counts(ascending=False)"
   ]
  },
  {
   "cell_type": "markdown",
   "metadata": {
    "id": "vrZoV_k2Oacc"
   },
   "source": [
    "We will keep converting and cleaning all the other variables in the same way. "
   ]
  },
  {
   "cell_type": "code",
   "execution_count": null,
   "metadata": {
    "colab": {
     "base_uri": "https://localhost:8080/"
    },
    "id": "7lKOZYZFKZ2m",
    "outputId": "045720e7-3117-47da-b958-1ffb57ceaaa8"
   },
   "outputs": [
    {
     "data": {
      "text/plain": [
       "Slight     92456\n",
       "Serious    23422\n",
       "Fatal       1658\n",
       "Name: Accident_Severity, dtype: int64"
      ]
     },
     "execution_count": 11,
     "metadata": {
      "tags": []
     },
     "output_type": "execute_result"
    }
   ],
   "source": [
    "# use nominal values for Accident Severity\n",
    "replacement_dict_acc_sev = {\n",
    "    1: \"Fatal\",\n",
    "    2: \"Serious\",\n",
    "    3: \"Slight\" }\n",
    "\n",
    "#Convert the values within the variable \n",
    "df['Accident_Severity'] = df['Accident_Severity'].map(replacement_dict_acc_sev)\n",
    "\n",
    "#Check the values \n",
    "df[\"Accident_Severity\"].value_counts()"
   ]
  },
  {
   "cell_type": "code",
   "execution_count": null,
   "metadata": {
    "colab": {
     "base_uri": "https://localhost:8080/"
    },
    "id": "33sHKbSMOes_",
    "outputId": "f5276118-28f9-47bc-8bf8-ec48d6fe7b88"
   },
   "outputs": [
    {
     "data": {
      "text/plain": [
       "Single carriageway    85320\n",
       "Dual carriageway      18590\n",
       "Roundabout             6880\n",
       "One way street         2664\n",
       "Slip road              1939\n",
       "Name: Road_Type, dtype: int64"
      ]
     },
     "execution_count": 12,
     "metadata": {
      "tags": []
     },
     "output_type": "execute_result"
    }
   ],
   "source": [
    "# use nominal values for Road Type \n",
    "replacement_dict_roadtype = {\n",
    "    1: \"Roundabout\",\n",
    "    2: \"One way street\",\n",
    "    3: \"Dual carriageway\",\n",
    "    6: \"Single carriageway\",\n",
    "    7: \"Slip road\",\n",
    "    9: np.NaN }\n",
    "\n",
    "#Convert the values within the variable\n",
    "df[\"Road_Type\"] = df[\"Road_Type\"].map(replacement_dict_roadtype)\n",
    "\n",
    "#Check the values \n",
    "df[\"Road_Type\"].value_counts()"
   ]
  },
  {
   "cell_type": "code",
   "execution_count": null,
   "metadata": {
    "colab": {
     "base_uri": "https://localhost:8080/"
    },
    "id": "324N1TipSr8l",
    "outputId": "19dcefdd-b47d-4248-94d1-576d66764f2c"
   },
   "outputs": [
    {
     "data": {
      "text/plain": [
       " 1    82321\n",
       " 2    32259\n",
       "-1     1349\n",
       " 4     1185\n",
       " 3      245\n",
       " 5      177\n",
       "Name: Road_Surface_Conditions, dtype: int64"
      ]
     },
     "execution_count": 13,
     "metadata": {
      "tags": []
     },
     "output_type": "execute_result"
    }
   ],
   "source": [
    "df[\"Road_Surface_Conditions\"].value_counts()"
   ]
  },
  {
   "cell_type": "code",
   "execution_count": null,
   "metadata": {
    "colab": {
     "base_uri": "https://localhost:8080/"
    },
    "id": "JIdWh0P9Qmva",
    "outputId": "a426588a-c8c9-4808-817b-624cda5cb414"
   },
   "outputs": [
    {
     "data": {
      "text/plain": [
       "Dry                     82321\n",
       "Wet or damp             32259\n",
       "Frost or ice             1185\n",
       "Snow                      245\n",
       "Flood over 3cm. deep      177\n",
       "Name: Road_Surface_Conditions, dtype: int64"
      ]
     },
     "execution_count": 14,
     "metadata": {
      "tags": []
     },
     "output_type": "execute_result"
    }
   ],
   "source": [
    "# use nominal values for Road_Surface\n",
    "replacement_dict_roadtype = {\n",
    "    1: \"Dry\",\n",
    "    2: \"Wet or damp\",\n",
    "    3: \"Snow\",\n",
    "    4: \"Frost or ice\",\n",
    "    5: \"Flood over 3cm. deep\",\n",
    "    -1: np.nan\n",
    "}\n",
    "\n",
    "#Replace the value within the variable \n",
    "df[\"Road_Surface_Conditions\"] = df[\"Road_Surface_Conditions\"].map(replacement_dict_roadtype)\n",
    "\n",
    "#Check the converted values \n",
    "df[\"Road_Surface_Conditions\"].value_counts()"
   ]
  },
  {
   "cell_type": "markdown",
   "metadata": {
    "id": "cMVuzWaiT8OQ"
   },
   "source": [
    "Let's convert 'Light_Conditions\" variable values to their corresponding conditions "
   ]
  },
  {
   "cell_type": "code",
   "execution_count": null,
   "metadata": {
    "colab": {
     "base_uri": "https://localhost:8080/"
    },
    "id": "9FXkZ6R9TloB",
    "outputId": "4c749e90-ba38-4ae8-95df-21b6e084ce79"
   },
   "outputs": [
    {
     "data": {
      "text/plain": [
       " 1    83511\n",
       " 4    24407\n",
       " 6     6092\n",
       " 7     2634\n",
       " 5      891\n",
       "-1        1\n",
       "Name: Light_Conditions, dtype: int64"
      ]
     },
     "execution_count": 15,
     "metadata": {
      "tags": []
     },
     "output_type": "execute_result"
    }
   ],
   "source": [
    "#Check the values in Light Conditions\n",
    "df[\"Light_Conditions\"].value_counts()"
   ]
  },
  {
   "cell_type": "code",
   "execution_count": null,
   "metadata": {
    "colab": {
     "base_uri": "https://localhost:8080/"
    },
    "id": "bRXl2OhyUZpS",
    "outputId": "e1822092-fd4e-4f70-8e5d-ed19ae198368"
   },
   "outputs": [
    {
     "data": {
      "text/plain": [
       "Daylight                        83511\n",
       "Darkness - lights lit           24407\n",
       "Darkness - no lighting           6092\n",
       "Darkness - lighting unknown      2634\n",
       "Darkness - lights unlit           891\n",
       "Data missing or out of range        1\n",
       "Name: Light_Conditions, dtype: int64"
      ]
     },
     "execution_count": 16,
     "metadata": {
      "tags": []
     },
     "output_type": "execute_result"
    }
   ],
   "source": [
    "# use nominal values for Light_Conditions \n",
    "replacement_LightConditions = {\n",
    "    1: \"Daylight\",\n",
    "    4: \"Darkness - lights lit\",\n",
    "    5: \"Darkness - lights unlit\",\n",
    "    6: \"Darkness - no lighting\",\n",
    "    7: \"Darkness - lighting unknown\",\n",
    "    -1: \"Data missing or out of range\"\n",
    "}\n",
    "\n",
    "#Replace the value within the dataset \n",
    "df[\"Light_Conditions\"] = df[\"Light_Conditions\"].map(replacement_LightConditions)\n",
    "\n",
    "#Check the values \n",
    "df[\"Light_Conditions\"].value_counts()"
   ]
  },
  {
   "cell_type": "markdown",
   "metadata": {
    "id": "eRsdKxAugNrg"
   },
   "source": [
    "The lighting conditions were agregated into 3 categories: Daylight, Darkness - Artificial light and Darkness - No light, in order to have an idea of the impact of lighting conditions in accident severity.\r\n",
    "\r\n",
    "NOTE: Because the lighting conditions are not known in 2634 cases, we made the assumption of adding them to the no lighting category. It was not treated as missing value, because once we used the imputer, we would lose part of the data (we know it is darkness) by using the most frequent strategy."
   ]
  },
  {
   "cell_type": "code",
   "execution_count": null,
   "metadata": {
    "colab": {
     "base_uri": "https://localhost:8080/"
    },
    "id": "1XeMuKQGV7lC",
    "outputId": "dadba207-dc52-47f9-b2b6-e7e1a51112b5"
   },
   "outputs": [
    {
     "data": {
      "text/plain": [
       "Daylight                       83511\n",
       "Darkness - Artificial light    24407\n",
       "Darkness - No lighting          9617\n",
       "Name: Light_Conditions, dtype: int64"
      ]
     },
     "execution_count": 17,
     "metadata": {
      "tags": []
     },
     "output_type": "execute_result"
    }
   ],
   "source": [
    "def replace_lightconditions(x): \n",
    "\n",
    "  #Replace all the values containg darkness in just darkness, \n",
    "  #Replace data missing or out of values in NaN \n",
    "  #Keep everithing else the same as it is \n",
    "\n",
    "  if \"Daylight\" == x[\"Light_Conditions\"]: \n",
    "    return \"Daylight\"\n",
    "  elif \"Data missing or out of range\" == x[\"Light_Conditions\"]: \n",
    "    return np.nan\n",
    "  elif \"Darkness - lights lit\" == x[\"Light_Conditions\"]: \n",
    "    return \"Darkness - Artificial light\"\n",
    "  else:\n",
    "    return \"Darkness - No lighting\"\n",
    "\n",
    "#Apply the function to the Light Condition column \n",
    "df[\"Light_Conditions\"] = df.apply(replace_lightconditions, axis = 1)  \n",
    "\n",
    "#Check the value \n",
    "df[\"Light_Conditions\"].value_counts()\n",
    "      "
   ]
  },
  {
   "cell_type": "code",
   "execution_count": null,
   "metadata": {
    "colab": {
     "base_uri": "https://localhost:8080/"
    },
    "id": "37mcmdRO5nZq",
    "outputId": "dcf5e651-55ab-4302-a992-b262511f748a"
   },
   "outputs": [
    {
     "data": {
      "text/plain": [
       " 0    113157\n",
       "-1      1819\n",
       " 4      1328\n",
       " 7       295\n",
       " 1       276\n",
       " 5       240\n",
       " 3       200\n",
       " 6       183\n",
       " 2        38\n",
       "Name: Special_Conditions_at_Site, dtype: int64"
      ]
     },
     "execution_count": 18,
     "metadata": {
      "tags": []
     },
     "output_type": "execute_result"
    }
   ],
   "source": [
    "df[\"Special_Conditions_at_Site\"].value_counts()"
   ]
  },
  {
   "cell_type": "code",
   "execution_count": null,
   "metadata": {
    "colab": {
     "base_uri": "https://localhost:8080/"
    },
    "id": "mNW2usc7-zs7",
    "outputId": "b47f15de-e62d-4e11-9c6f-0faa4ae76814"
   },
   "outputs": [
    {
     "data": {
      "text/plain": [
       "None                                          113157\n",
       "Roadworks                                       1328\n",
       "Mud                                              295\n",
       "Auto traffic signal - out                        276\n",
       "Road surface defective                           240\n",
       "Road sign or marking defective or obscured       200\n",
       "Oil or diesel                                    183\n",
       "Auto signal part defective                        38\n",
       "Name: Special_Conditions_at_Site, dtype: int64"
      ]
     },
     "execution_count": 19,
     "metadata": {
      "tags": []
     },
     "output_type": "execute_result"
    }
   ],
   "source": [
    "# use nominal values for Special conditions at site \n",
    "replacement_SpecialConditionSite = {\n",
    "    0: \"None\",\n",
    "    1: \"Auto traffic signal - out\",\n",
    "    2: \"Auto signal part defective\",\n",
    "    3: \"Road sign or marking defective or obscured\",\n",
    "    4: \"Roadworks\",\n",
    "    5: \"Road surface defective\",\n",
    "    6: \"Oil or diesel\",\n",
    "    7: \"Mud\",\n",
    "    -1: np.NaN\n",
    "}\n",
    "\n",
    "#Convert the values within the column\n",
    "df[\"Special_Conditions_at_Site\"] = df[\"Special_Conditions_at_Site\"].map(replacement_SpecialConditionSite)\n",
    "\n",
    "#Check the values \n",
    "df.Special_Conditions_at_Site.value_counts()\n"
   ]
  },
  {
   "cell_type": "code",
   "execution_count": null,
   "metadata": {
    "colab": {
     "base_uri": "https://localhost:8080/"
    },
    "id": "UWrUmt1UBIwj",
    "outputId": "ff9e87b0-b6f5-4429-818f-eca90e04ffd3"
   },
   "outputs": [
    {
     "data": {
      "text/plain": [
       " 0    113885\n",
       "-1      1556\n",
       " 2      1030\n",
       " 7       349\n",
       " 1       276\n",
       " 6       222\n",
       " 3       218\n",
       "Name: Carriageway_Hazards, dtype: int64"
      ]
     },
     "execution_count": 20,
     "metadata": {
      "tags": []
     },
     "output_type": "execute_result"
    }
   ],
   "source": [
    "df[\"Carriageway_Hazards\"].value_counts()"
   ]
  },
  {
   "cell_type": "code",
   "execution_count": null,
   "metadata": {
    "colab": {
     "base_uri": "https://localhost:8080/"
    },
    "id": "T-uIm67CBrk4",
    "outputId": "49009bf8-6df8-4160-f18e-9a322fd4bb92"
   },
   "outputs": [
    {
     "data": {
      "text/plain": [
       "None                                               113885\n",
       "Other object on road                                 1030\n",
       "Any animal in carriageway (except ridden horse)       349\n",
       "Vehicle load on road                                  276\n",
       "Pedestrian in carriageway - not injured               222\n",
       "Previous accident                                     218\n",
       "Name: Carriageway_Hazards, dtype: int64"
      ]
     },
     "execution_count": 21,
     "metadata": {
      "tags": []
     },
     "output_type": "execute_result"
    }
   ],
   "source": [
    "# use nominal values for Carriageway_Hazards\n",
    "replacement_Carriageway_Hazards = {\n",
    "    0: \"None\",\n",
    "    1: \"Vehicle load on road\",\n",
    "    2: \"Other object on road\",\n",
    "    3: \"Previous accident\",\n",
    "    6: \"Pedestrian in carriageway - not injured\",\n",
    "    7: \"Any animal in carriageway (except ridden horse)\",\n",
    "    -1: np.NaN\n",
    "}\n",
    "\n",
    "df[\"Carriageway_Hazards\"] = df[\"Carriageway_Hazards\"].map(replacement_Carriageway_Hazards)\n",
    "\n",
    "df.Carriageway_Hazards.value_counts()"
   ]
  },
  {
   "cell_type": "code",
   "execution_count": null,
   "metadata": {
    "colab": {
     "base_uri": "https://localhost:8080/"
    },
    "id": "BkKyDpdOC3Xo",
    "outputId": "b1576c98-f772-4f15-cf6c-f310f2f606db"
   },
   "outputs": [
    {
     "data": {
      "text/plain": [
       "1    79533\n",
       "2    37975\n",
       "3       28\n",
       "Name: Urban_or_Rural_Area, dtype: int64"
      ]
     },
     "execution_count": 22,
     "metadata": {
      "tags": []
     },
     "output_type": "execute_result"
    }
   ],
   "source": [
    "df[\"Urban_or_Rural_Area\"].value_counts()"
   ]
  },
  {
   "cell_type": "code",
   "execution_count": null,
   "metadata": {
    "colab": {
     "base_uri": "https://localhost:8080/"
    },
    "id": "ptCJ6pg3DAzn",
    "outputId": "66390732-83ec-4f12-9cf8-845a8e7f2880"
   },
   "outputs": [
    {
     "data": {
      "text/plain": [
       "Urban    79533\n",
       "Rural    37975\n",
       "Name: Urban_or_Rural_Area, dtype: int64"
      ]
     },
     "execution_count": 23,
     "metadata": {
      "tags": []
     },
     "output_type": "execute_result"
    }
   ],
   "source": [
    "# use nominal values for urban/rural area.\n",
    "\n",
    "replacement_Urban_or_Rural_Area = {\n",
    "    1: \"Urban\",      #\"Urban\"\n",
    "    2: \"Rural\",      #\"Rural\",\n",
    "    3: np.NaN       #\"Unallocated\"\n",
    "}\n",
    "\n",
    "df[\"Urban_or_Rural_Area\"] = df[\"Urban_or_Rural_Area\"].map(replacement_Urban_or_Rural_Area)\n",
    "\n",
    "df[\"Urban_or_Rural_Area\"].value_counts()\n"
   ]
  },
  {
   "cell_type": "code",
   "execution_count": null,
   "metadata": {
    "colab": {
     "base_uri": "https://localhost:8080/"
    },
    "id": "WAwXJ5LJDapE",
    "outputId": "54082476-e2af-4376-b56e-3f89ff0507f2"
   },
   "outputs": [
    {
     "data": {
      "text/plain": [
       "6    19056\n",
       "5    17973\n",
       "4    17775\n",
       "3    17598\n",
       "2    16643\n",
       "7    15556\n",
       "1    12935\n",
       "Name: Day_of_Week, dtype: int64"
      ]
     },
     "execution_count": 24,
     "metadata": {
      "tags": []
     },
     "output_type": "execute_result"
    }
   ],
   "source": [
    "df[\"Day_of_Week\"].value_counts()"
   ]
  },
  {
   "cell_type": "code",
   "execution_count": null,
   "metadata": {
    "colab": {
     "base_uri": "https://localhost:8080/"
    },
    "id": "GmBGFRn3FwBM",
    "outputId": "80c20d0b-57de-4891-e5b5-245f4b548ffa"
   },
   "outputs": [
    {
     "data": {
      "text/plain": [
       "Saturday    19056\n",
       "Friday      17973\n",
       "Thursday    17775\n",
       "Wednsday    17598\n",
       "Tuesday     16643\n",
       "Sunday      15556\n",
       "Monday      12935\n",
       "Name: Day_of_Week, dtype: int64"
      ]
     },
     "execution_count": 25,
     "metadata": {
      "tags": []
     },
     "output_type": "execute_result"
    }
   ],
   "source": [
    "# use nominal values for Day of Week \n",
    "replacement_DayofWeek = {\n",
    "    1: \"Monday\",\n",
    "    2: \"Tuesday\",\n",
    "    3: \"Wednsday\", \n",
    "    4: \"Thursday\",\n",
    "    5: \"Friday\",\n",
    "    6: \"Saturday\", \n",
    "    7: \"Sunday\"\n",
    "}\n",
    "\n",
    "df[\"Day_of_Week\"] = df[\"Day_of_Week\"].map(replacement_DayofWeek)\n",
    "\n",
    "df[\"Day_of_Week\"].value_counts()"
   ]
  },
  {
   "cell_type": "code",
   "execution_count": null,
   "metadata": {
    "id": "Vcyf47mnXSLS"
   },
   "outputs": [],
   "source": [
    "#Drop the missing values in the Time variable\n",
    "df = df.dropna(subset=['Time'])"
   ]
  },
  {
   "cell_type": "code",
   "execution_count": null,
   "metadata": {
    "colab": {
     "base_uri": "https://localhost:8080/"
    },
    "id": "y6Wz6LKOWnM4",
    "outputId": "f64f9982-9f54-42ae-8f92-06aa16e400c8"
   },
   "outputs": [
    {
     "data": {
      "text/plain": [
       "Afternoon    57720\n",
       "Morning      30127\n",
       "Night        29626\n",
       "Name: Time_of_the_Day, dtype: int64"
      ]
     },
     "execution_count": 27,
     "metadata": {
      "tags": []
     },
     "output_type": "execute_result"
    }
   ],
   "source": [
    "# Create categorical variable for time. Split hours and minutes based on the \":\" and create categories based on the set intervals.\n",
    "def time_split(row):\n",
    "        time_string = row['Time']\n",
    "        hours, mins = time_string.split(\":\")\n",
    "        hours = int(hours)\n",
    "        mins = int(mins)\n",
    "    \n",
    "        if (hours > 6 and hours < 12): \n",
    "            return \"Morning\"\n",
    "        elif (hours >= 12 and hours < 19): \n",
    "            return \"Afternoon\"  \n",
    "        else: \n",
    "            return \"Night\"\n",
    "             \n",
    "\n",
    "df[\"Time_of_the_Day\"] = df.apply(time_split, axis=1)\n",
    "\n",
    "df[\"Time_of_the_Day\"].value_counts()"
   ]
  },
  {
   "cell_type": "code",
   "execution_count": null,
   "metadata": {
    "id": "YHDyMgn3XSLS"
   },
   "outputs": [],
   "source": [
    "#Drop the Time column\n",
    "df.drop([\"Time\"],axis = 1, inplace=True)"
   ]
  },
  {
   "cell_type": "markdown",
   "metadata": {
    "id": "WU3Xdp9VGO1D"
   },
   "source": [
    "We can now check again the types of the variales that have been converted. "
   ]
  },
  {
   "cell_type": "code",
   "execution_count": null,
   "metadata": {
    "colab": {
     "base_uri": "https://localhost:8080/"
    },
    "id": "udmd2lQVGIs-",
    "outputId": "32856d50-c112-4752-d45d-eb22b0a571d9"
   },
   "outputs": [
    {
     "name": "stdout",
     "output_type": "stream",
     "text": [
      "<class 'pandas.core.frame.DataFrame'>\n",
      "Index: 117473 entries, 2019010128300 to 201998QC01004\n",
      "Data columns (total 18 columns):\n",
      " #   Column                      Non-Null Count   Dtype         \n",
      "---  ------                      --------------   -----         \n",
      " 0   Location_Easting_OSGR       117445 non-null  float64       \n",
      " 1   Location_Northing_OSGR      117445 non-null  float64       \n",
      " 2   Longitude                   117445 non-null  float64       \n",
      " 3   Latitude                    117445 non-null  float64       \n",
      " 4   Accident_Severity           117473 non-null  object        \n",
      " 5   Number_of_Vehicles          117473 non-null  int64         \n",
      " 6   Date                        117473 non-null  datetime64[ns]\n",
      " 7   Day_of_Week                 117473 non-null  object        \n",
      " 8   Road_Type                   115336 non-null  object        \n",
      " 9   Speed_limit                 117473 non-null  int64         \n",
      " 10  Light_Conditions            117472 non-null  object        \n",
      " 11  Weather_Conditions          114041 non-null  object        \n",
      " 12  Road_Surface_Conditions     116128 non-null  object        \n",
      " 13  Special_Conditions_at_Site  115661 non-null  object        \n",
      " 14  Carriageway_Hazards         115922 non-null  object        \n",
      " 15  Urban_or_Rural_Area         117445 non-null  object        \n",
      " 16  season                      117473 non-null  object        \n",
      " 17  Time_of_the_Day             117473 non-null  object        \n",
      "dtypes: datetime64[ns](1), float64(4), int64(2), object(11)\n",
      "memory usage: 17.0+ MB\n"
     ]
    }
   ],
   "source": [
    "#Check the types of the variables \n",
    "df.info()"
   ]
  },
  {
   "cell_type": "markdown",
   "metadata": {
    "id": "EczVGatoHJB-"
   },
   "source": [
    "Before randomly splitting the dataset into training and testing, let's have a look at the occured accidents over time in the dataset "
   ]
  },
  {
   "cell_type": "code",
   "execution_count": null,
   "metadata": {
    "colab": {
     "base_uri": "https://localhost:8080/",
     "height": 525
    },
    "id": "uQtBOgmaXSLU",
    "outputId": "b5707a10-5aa0-479b-ac90-a4d7453fc979"
   },
   "outputs": [
    {
     "data": {
      "text/plain": [
       "Text(0, 0.5, 'Number of Accidents')"
      ]
     },
     "execution_count": 30,
     "metadata": {
      "tags": []
     },
     "output_type": "execute_result"
    },
    {
     "data": {
      "image/png": "[encoded data removed]",
      "text/plain": [
       "<Figure size 1080x576 with 1 Axes>"
      ]
     },
     "metadata": {
      "needs_background": "light",
      "tags": []
     },
     "output_type": "display_data"
    }
   ],
   "source": [
    "#Count the n umber of accidents in a given moment, using a variable withou missing values (\"Acciudent Severity\")\n",
    "counts = df.groupby(df[\"Date\"]).count()[\"Accident_Severity\"]\n",
    "\n",
    "#Plot the graph\n",
    "counts.plot(figsize=(15,8))\n",
    "plt.xlabel(\"Time\")\n",
    "plt.ylabel(\"Number of Accidents\")"
   ]
  },
  {
   "cell_type": "markdown",
   "metadata": {
    "id": "mpLb7xideMll"
   },
   "source": [
    "## **Split the dataset into train and test**"
   ]
  },
  {
   "cell_type": "markdown",
   "metadata": {
    "id": "6lP273jcN0ja"
   },
   "source": [
    "Now that all the variables have been cleaned and set to their correct type, we can proceed splitting the dataset into training and testing set. Besides, as shown in both table and graph below, our target variable classes are not equally distributed, we will need to deal with imbalanced classes, indeed. Hence, when splitting the dataset we will be using the stratify argument to mantain the same class proportions of the target variable in both training and testing set. "
   ]
  },
  {
   "cell_type": "code",
   "execution_count": null,
   "metadata": {
    "colab": {
     "base_uri": "https://localhost:8080/"
    },
    "id": "EZpUiMHTCs20",
    "outputId": "466dcf99-5978-477a-f7ef-16da691e21a6"
   },
   "outputs": [
    {
     "data": {
      "text/plain": [
       "Slight     78.658926\n",
       "Serious    19.930537\n",
       "Fatal       1.410537\n",
       "Name: Accident_Severity, dtype: float64"
      ]
     },
     "execution_count": 31,
     "metadata": {
      "tags": []
     },
     "output_type": "execute_result"
    }
   ],
   "source": [
    "# Inspect if data is unbalanced, by checking the weights of each accident severity category in the data set\n",
    "df[\"Accident_Severity\"].value_counts(normalize = True)*100 "
   ]
  },
  {
   "cell_type": "code",
   "execution_count": null,
   "metadata": {
    "colab": {
     "base_uri": "https://localhost:8080/",
     "height": 282
    },
    "id": "28zTbtqFFjr1",
    "outputId": "1243c229-e178-4397-d6c1-6d33e69294fd"
   },
   "outputs": [
    {
     "data": {
      "text/plain": [
       "<matplotlib.axes._subplots.AxesSubplot at 0x7efdf2102f50>"
      ]
     },
     "execution_count": 32,
     "metadata": {
      "tags": []
     },
     "output_type": "execute_result"
    },
    {
     "data": {
      "image/png": "[encoded data removed]",
      "text/plain": [
       "<Figure size 432x288 with 1 Axes>"
      ]
     },
     "metadata": {
      "needs_background": "light",
      "tags": []
     },
     "output_type": "display_data"
    }
   ],
   "source": [
    "# Visualise this unbalance using a bar chart\n",
    "df[\"Accident_Severity\"].value_counts().plot(kind=\"bar\", rot = 0)"
   ]
  },
  {
   "cell_type": "code",
   "execution_count": null,
   "metadata": {
    "id": "GFw_ilvlrhW5"
   },
   "outputs": [],
   "source": [
    "#Split the dataset into training and testing \n",
    "train_set, test_set = train_test_split(df, stratify = df[\"Accident_Severity\"], test_size = 0.2, random_state = 42)"
   ]
  },
  {
   "cell_type": "code",
   "execution_count": null,
   "metadata": {
    "colab": {
     "base_uri": "https://localhost:8080/"
    },
    "id": "5mpL7CB1E8NR",
    "outputId": "e085955a-1948-46e8-93f9-2f17a1f69ffc"
   },
   "outputs": [
    {
     "data": {
      "text/plain": [
       "Slight     78.658835\n",
       "Serious    19.930196\n",
       "Fatal       1.410969\n",
       "Name: Accident_Severity, dtype: float64"
      ]
     },
     "execution_count": 34,
     "metadata": {
      "tags": []
     },
     "output_type": "execute_result"
    }
   ],
   "source": [
    "#Check if the split maintained the same proportion within categories for the target\n",
    "train_set[\"Accident_Severity\"].value_counts(normalize = True)*100 "
   ]
  },
  {
   "cell_type": "code",
   "execution_count": null,
   "metadata": {
    "colab": {
     "base_uri": "https://localhost:8080/"
    },
    "id": "Z59Mk7GJFIvM",
    "outputId": "263055df-7111-4cc8-da9a-92a0e1859724"
   },
   "outputs": [
    {
     "data": {
      "text/plain": [
       "Slight     78.659289\n",
       "Serious    19.931900\n",
       "Fatal       1.408810\n",
       "Name: Accident_Severity, dtype: float64"
      ]
     },
     "execution_count": 35,
     "metadata": {
      "tags": []
     },
     "output_type": "execute_result"
    }
   ],
   "source": [
    "#Check if the split maintained the same proportion within categories for the target\n",
    "test_set[\"Accident_Severity\"].value_counts(normalize = True)*100 "
   ]
  },
  {
   "cell_type": "markdown",
   "metadata": {
    "id": "eQtw7gXRGbDP"
   },
   "source": [
    "# **Exploratory Data Analysis**"
   ]
  },
  {
   "cell_type": "markdown",
   "metadata": {
    "id": "1FP3MZJvPECF"
   },
   "source": [
    "We are now going to explore the training set displaying its summary statistics and checking for missing values. The test set will be put aside in order to do not get data snooping issues afterwards.  "
   ]
  },
  {
   "cell_type": "code",
   "execution_count": null,
   "metadata": {
    "colab": {
     "base_uri": "https://localhost:8080/"
    },
    "id": "ap2zQiWBGQzu",
    "outputId": "d397f881-a8e3-4a34-e6a8-08463851db16"
   },
   "outputs": [
    {
     "name": "stdout",
     "output_type": "stream",
     "text": [
      "train_set shape: (93978, 18)\n",
      "test_set shape: (23495, 18)\n"
     ]
    }
   ],
   "source": [
    "#print the shape of both training and testing set \n",
    "print(f\"train_set shape: {train_set.shape}\")\n",
    "print(f\"test_set shape: {test_set.shape}\")"
   ]
  },
  {
   "cell_type": "code",
   "execution_count": null,
   "metadata": {
    "colab": {
     "base_uri": "https://localhost:8080/",
     "height": 297
    },
    "id": "FhWos1wUifPD",
    "outputId": "70e0d233-1e69-4580-f789-42601e65ebe1"
   },
   "outputs": [
    {
     "data": {
      "text/html": [
       "<div>\n",
       "<style scoped>\n",
       "    .dataframe tbody tr th:only-of-type {\n",
       "        vertical-align: middle;\n",
       "    }\n",
       "\n",
       "    .dataframe tbody tr th {\n",
       "        vertical-align: top;\n",
       "    }\n",
       "\n",
       "    .dataframe thead th {\n",
       "        text-align: right;\n",
       "    }\n",
       "</style>\n",
       "<table border=\"1\" class=\"dataframe\">\n",
       "  <thead>\n",
       "    <tr style=\"text-align: right;\">\n",
       "      <th></th>\n",
       "      <th>Location_Easting_OSGR</th>\n",
       "      <th>Location_Northing_OSGR</th>\n",
       "      <th>Longitude</th>\n",
       "      <th>Latitude</th>\n",
       "      <th>Number_of_Vehicles</th>\n",
       "      <th>Speed_limit</th>\n",
       "    </tr>\n",
       "  </thead>\n",
       "  <tbody>\n",
       "    <tr>\n",
       "      <th>count</th>\n",
       "      <td>93955.000000</td>\n",
       "      <td>9.395500e+04</td>\n",
       "      <td>93955.000000</td>\n",
       "      <td>93955.000000</td>\n",
       "      <td>93978.000000</td>\n",
       "      <td>93978.000000</td>\n",
       "    </tr>\n",
       "    <tr>\n",
       "      <th>mean</th>\n",
       "      <td>452303.733894</td>\n",
       "      <td>2.792356e+05</td>\n",
       "      <td>-1.250835</td>\n",
       "      <td>52.400380</td>\n",
       "      <td>1.841857</td>\n",
       "      <td>36.757933</td>\n",
       "    </tr>\n",
       "    <tr>\n",
       "      <th>std</th>\n",
       "      <td>95017.068544</td>\n",
       "      <td>1.510549e+05</td>\n",
       "      <td>1.392316</td>\n",
       "      <td>1.360583</td>\n",
       "      <td>0.708364</td>\n",
       "      <td>14.044245</td>\n",
       "    </tr>\n",
       "    <tr>\n",
       "      <th>min</th>\n",
       "      <td>64084.000000</td>\n",
       "      <td>1.081400e+04</td>\n",
       "      <td>-7.525273</td>\n",
       "      <td>49.917760</td>\n",
       "      <td>1.000000</td>\n",
       "      <td>-1.000000</td>\n",
       "    </tr>\n",
       "    <tr>\n",
       "      <th>25%</th>\n",
       "      <td>387950.000000</td>\n",
       "      <td>1.756070e+05</td>\n",
       "      <td>-2.182060</td>\n",
       "      <td>51.466992</td>\n",
       "      <td>1.000000</td>\n",
       "      <td>30.000000</td>\n",
       "    </tr>\n",
       "    <tr>\n",
       "      <th>50%</th>\n",
       "      <td>459068.000000</td>\n",
       "      <td>2.199750e+05</td>\n",
       "      <td>-1.127875</td>\n",
       "      <td>51.864348</td>\n",
       "      <td>2.000000</td>\n",
       "      <td>30.000000</td>\n",
       "    </tr>\n",
       "    <tr>\n",
       "      <th>75%</th>\n",
       "      <td>529379.500000</td>\n",
       "      <td>3.853335e+05</td>\n",
       "      <td>-0.135500</td>\n",
       "      <td>53.362047</td>\n",
       "      <td>2.000000</td>\n",
       "      <td>40.000000</td>\n",
       "    </tr>\n",
       "    <tr>\n",
       "      <th>max</th>\n",
       "      <td>655244.000000</td>\n",
       "      <td>1.167366e+06</td>\n",
       "      <td>1.757476</td>\n",
       "      <td>60.388637</td>\n",
       "      <td>17.000000</td>\n",
       "      <td>70.000000</td>\n",
       "    </tr>\n",
       "  </tbody>\n",
       "</table>\n",
       "</div>"
      ],
      "text/plain": [
       "       Location_Easting_OSGR  ...   Speed_limit\n",
       "count           93955.000000  ...  93978.000000\n",
       "mean           452303.733894  ...     36.757933\n",
       "std             95017.068544  ...     14.044245\n",
       "min             64084.000000  ...     -1.000000\n",
       "25%            387950.000000  ...     30.000000\n",
       "50%            459068.000000  ...     30.000000\n",
       "75%            529379.500000  ...     40.000000\n",
       "max            655244.000000  ...     70.000000\n",
       "\n",
       "[8 rows x 6 columns]"
      ]
     },
     "execution_count": 37,
     "metadata": {
      "tags": []
     },
     "output_type": "execute_result"
    }
   ],
   "source": [
    "#descriptive statistics for the train set numerical variables \n",
    "train_set.describe()"
   ]
  },
  {
   "cell_type": "code",
   "execution_count": null,
   "metadata": {
    "colab": {
     "base_uri": "https://localhost:8080/",
     "height": 210
    },
    "id": "M2Jbm-4vG9bX",
    "outputId": "b8437830-feaa-49bd-d7ab-d34c0c727cee"
   },
   "outputs": [
    {
     "data": {
      "text/html": [
       "<div>\n",
       "<style scoped>\n",
       "    .dataframe tbody tr th:only-of-type {\n",
       "        vertical-align: middle;\n",
       "    }\n",
       "\n",
       "    .dataframe tbody tr th {\n",
       "        vertical-align: top;\n",
       "    }\n",
       "\n",
       "    .dataframe thead th {\n",
       "        text-align: right;\n",
       "    }\n",
       "</style>\n",
       "<table border=\"1\" class=\"dataframe\">\n",
       "  <thead>\n",
       "    <tr style=\"text-align: right;\">\n",
       "      <th></th>\n",
       "      <th>Accident_Severity</th>\n",
       "      <th>Day_of_Week</th>\n",
       "      <th>Road_Type</th>\n",
       "      <th>Light_Conditions</th>\n",
       "      <th>Weather_Conditions</th>\n",
       "      <th>Road_Surface_Conditions</th>\n",
       "      <th>Special_Conditions_at_Site</th>\n",
       "      <th>Carriageway_Hazards</th>\n",
       "      <th>Urban_or_Rural_Area</th>\n",
       "      <th>season</th>\n",
       "      <th>Time_of_the_Day</th>\n",
       "    </tr>\n",
       "  </thead>\n",
       "  <tbody>\n",
       "    <tr>\n",
       "      <th>count</th>\n",
       "      <td>93978</td>\n",
       "      <td>93978</td>\n",
       "      <td>92270</td>\n",
       "      <td>93977</td>\n",
       "      <td>91250</td>\n",
       "      <td>92919</td>\n",
       "      <td>92586</td>\n",
       "      <td>92774</td>\n",
       "      <td>93955</td>\n",
       "      <td>93978</td>\n",
       "      <td>93978</td>\n",
       "    </tr>\n",
       "    <tr>\n",
       "      <th>unique</th>\n",
       "      <td>3</td>\n",
       "      <td>7</td>\n",
       "      <td>5</td>\n",
       "      <td>3</td>\n",
       "      <td>8</td>\n",
       "      <td>5</td>\n",
       "      <td>8</td>\n",
       "      <td>6</td>\n",
       "      <td>2</td>\n",
       "      <td>4</td>\n",
       "      <td>3</td>\n",
       "    </tr>\n",
       "    <tr>\n",
       "      <th>top</th>\n",
       "      <td>Slight</td>\n",
       "      <td>Saturday</td>\n",
       "      <td>Single carriageway</td>\n",
       "      <td>Daylight</td>\n",
       "      <td>Fine no high winds</td>\n",
       "      <td>Dry</td>\n",
       "      <td>None</td>\n",
       "      <td>None</td>\n",
       "      <td>Urban</td>\n",
       "      <td>Autumn</td>\n",
       "      <td>Afternoon</td>\n",
       "    </tr>\n",
       "    <tr>\n",
       "      <th>freq</th>\n",
       "      <td>73922</td>\n",
       "      <td>15118</td>\n",
       "      <td>68210</td>\n",
       "      <td>66806</td>\n",
       "      <td>73894</td>\n",
       "      <td>65887</td>\n",
       "      <td>90554</td>\n",
       "      <td>91110</td>\n",
       "      <td>63662</td>\n",
       "      <td>25021</td>\n",
       "      <td>46248</td>\n",
       "    </tr>\n",
       "  </tbody>\n",
       "</table>\n",
       "</div>"
      ],
      "text/plain": [
       "       Accident_Severity Day_of_Week  ...  season Time_of_the_Day\n",
       "count              93978       93978  ...   93978           93978\n",
       "unique                 3           7  ...       4               3\n",
       "top               Slight    Saturday  ...  Autumn       Afternoon\n",
       "freq               73922       15118  ...   25021           46248\n",
       "\n",
       "[4 rows x 11 columns]"
      ]
     },
     "execution_count": 38,
     "metadata": {
      "tags": []
     },
     "output_type": "execute_result"
    }
   ],
   "source": [
    "#descriptive statistics for the train set categorical variables \n",
    "train_set.describe(include=[\"O\"])"
   ]
  },
  {
   "cell_type": "code",
   "execution_count": null,
   "metadata": {
    "colab": {
     "base_uri": "https://localhost:8080/"
    },
    "id": "k93W8uYseS98",
    "outputId": "e8d8e438-ea1e-4bf0-dbc2-5628e5370cdf"
   },
   "outputs": [
    {
     "data": {
      "text/plain": [
       "Location_Easting_OSGR           23\n",
       "Location_Northing_OSGR          23\n",
       "Longitude                       23\n",
       "Latitude                        23\n",
       "Accident_Severity                0\n",
       "Number_of_Vehicles               0\n",
       "Date                             0\n",
       "Day_of_Week                      0\n",
       "Road_Type                     1708\n",
       "Speed_limit                      0\n",
       "Light_Conditions                 1\n",
       "Weather_Conditions            2728\n",
       "Road_Surface_Conditions       1059\n",
       "Special_Conditions_at_Site    1392\n",
       "Carriageway_Hazards           1204\n",
       "Urban_or_Rural_Area             23\n",
       "season                           0\n",
       "Time_of_the_Day                  0\n",
       "dtype: int64"
      ]
     },
     "execution_count": 39,
     "metadata": {
      "tags": []
     },
     "output_type": "execute_result"
    }
   ],
   "source": [
    "#Check for missing values in train set\n",
    "train_set.isnull().sum()"
   ]
  },
  {
   "cell_type": "code",
   "execution_count": null,
   "metadata": {
    "colab": {
     "base_uri": "https://localhost:8080/"
    },
    "id": "xydRvZ3zGrGt",
    "outputId": "adb68587-a11c-4e0d-fd63-95d7986c1cdb"
   },
   "outputs": [
    {
     "data": {
      "text/plain": [
       "Location_Easting_OSGR           5\n",
       "Location_Northing_OSGR          5\n",
       "Longitude                       5\n",
       "Latitude                        5\n",
       "Accident_Severity               0\n",
       "Number_of_Vehicles              0\n",
       "Date                            0\n",
       "Day_of_Week                     0\n",
       "Road_Type                     429\n",
       "Speed_limit                     0\n",
       "Light_Conditions                0\n",
       "Weather_Conditions            704\n",
       "Road_Surface_Conditions       286\n",
       "Special_Conditions_at_Site    420\n",
       "Carriageway_Hazards           347\n",
       "Urban_or_Rural_Area             5\n",
       "season                          0\n",
       "Time_of_the_Day                 0\n",
       "dtype: int64"
      ]
     },
     "execution_count": 40,
     "metadata": {
      "tags": []
     },
     "output_type": "execute_result"
    }
   ],
   "source": [
    "#Check for missing values in test set\n",
    "test_set.isnull().sum()"
   ]
  },
  {
   "cell_type": "markdown",
   "metadata": {
    "id": "GBCByLiOxG_p"
   },
   "source": [
    "## Univariate Analysis "
   ]
  },
  {
   "cell_type": "markdown",
   "metadata": {
    "id": "6Zqjj0e7op2i"
   },
   "source": [
    "Now that we have a general idea of the data, let's focus on the training set. First, we can analyse the distribution of the numerical variables. Doing so, we can also double check for outliers or some sort of missing values that might have been annotated as \"99\" (common in statistics), \"0\", etc. "
   ]
  },
  {
   "cell_type": "code",
   "execution_count": null,
   "metadata": {
    "colab": {
     "base_uri": "https://localhost:8080/",
     "height": 944
    },
    "id": "9rtwJGPTegF8",
    "outputId": "623fe6cd-911f-4f65-e8a1-89af4c2cc395"
   },
   "outputs": [
    {
     "data": {
      "text/plain": [
       "array([[<matplotlib.axes._subplots.AxesSubplot object at 0x7efdf13c61d0>,\n",
       "        <matplotlib.axes._subplots.AxesSubplot object at 0x7efdf13e2ed0>],\n",
       "       [<matplotlib.axes._subplots.AxesSubplot object at 0x7efdf139f590>,\n",
       "        <matplotlib.axes._subplots.AxesSubplot object at 0x7efdf1350c10>],\n",
       "       [<matplotlib.axes._subplots.AxesSubplot object at 0x7efdf130e2d0>,\n",
       "        <matplotlib.axes._subplots.AxesSubplot object at 0x7efdf12c1950>]],\n",
       "      dtype=object)"
      ]
     },
     "execution_count": 41,
     "metadata": {
      "tags": []
     },
     "output_type": "execute_result"
    },
    {
     "data": {
      "image/png": "[encoded data removed]",
      "text/plain": [
       "<Figure size 1152x1008 with 6 Axes>"
      ]
     },
     "metadata": {
      "needs_background": "light",
      "tags": []
     },
     "output_type": "display_data"
    }
   ],
   "source": [
    "#Histograms for numerical variables\n",
    "train_set.hist(bins = 50, figsize = [16, 14])"
   ]
  },
  {
   "cell_type": "markdown",
   "metadata": {
    "id": "Gk1lSfc6pSCI"
   },
   "source": [
    "We can now do the same for the categorical variables in the training set. "
   ]
  },
  {
   "cell_type": "code",
   "execution_count": null,
   "metadata": {
    "colab": {
     "base_uri": "https://localhost:8080/",
     "height": 1000
    },
    "id": "ZZhVPwXZNELE",
    "outputId": "5a490b88-0e8b-4486-95cc-f4a6cf42be89"
   },
   "outputs": [
    {
     "data": {
      "image/png": "[encoded data removed]",
      "text/plain": [
       "<Figure size 720x576 with 1 Axes>"
      ]
     },
     "metadata": {
      "needs_background": "light",
      "tags": []
     },
     "output_type": "display_data"
    },
    {
     "name": "stdout",
     "output_type": "stream",
     "text": [
      "\n",
      "\n"
     ]
    },
    {
     "data": {
      "image/png": "[encoded data removed]",
      "text/plain": [
       "<Figure size 720x576 with 1 Axes>"
      ]
     },
     "metadata": {
      "needs_background": "light",
      "tags": []
     },
     "output_type": "display_data"
    },
    {
     "name": "stdout",
     "output_type": "stream",
     "text": [
      "\n",
      "\n"
     ]
    },
    {
     "data": {
      "image/png": "[encoded data removed]",
      "text/plain": [
       "<Figure size 720x576 with 1 Axes>"
      ]
     },
     "metadata": {
      "needs_background": "light",
      "tags": []
     },
     "output_type": "display_data"
    },
    {
     "name": "stdout",
     "output_type": "stream",
     "text": [
      "\n",
      "\n"
     ]
    },
    {
     "data": {
      "image/png": "[encoded data removed]",
      "text/plain": [
       "<Figure size 720x576 with 1 Axes>"
      ]
     },
     "metadata": {
      "needs_background": "light",
      "tags": []
     },
     "output_type": "display_data"
    },
    {
     "name": "stdout",
     "output_type": "stream",
     "text": [
      "\n",
      "\n"
     ]
    },
    {
     "data": {
      "image/png": "[encoded data removed]",
      "text/plain": [
       "<Figure size 720x576 with 1 Axes>"
      ]
     },
     "metadata": {
      "needs_background": "light",
      "tags": []
     },
     "output_type": "display_data"
    },
    {
     "name": "stdout",
     "output_type": "stream",
     "text": [
      "\n",
      "\n"
     ]
    },
    {
     "data": {
      "image/png": "[encoded data removed]",
      "text/plain": [
       "<Figure size 720x576 with 1 Axes>"
      ]
     },
     "metadata": {
      "needs_background": "light",
      "tags": []
     },
     "output_type": "display_data"
    },
    {
     "name": "stdout",
     "output_type": "stream",
     "text": [
      "\n",
      "\n"
     ]
    },
    {
     "data": {
      "image/png": "[encoded data removed]",
      "text/plain": [
       "<Figure size 720x576 with 1 Axes>"
      ]
     },
     "metadata": {
      "needs_background": "light",
      "tags": []
     },
     "output_type": "display_data"
    },
    {
     "name": "stdout",
     "output_type": "stream",
     "text": [
      "\n",
      "\n"
     ]
    },
    {
     "data": {
      "image/png": "[encoded data removed]",
      "text/plain": [
       "<Figure size 720x576 with 1 Axes>"
      ]
     },
     "metadata": {
      "needs_background": "light",
      "tags": []
     },
     "output_type": "display_data"
    },
    {
     "name": "stdout",
     "output_type": "stream",
     "text": [
      "\n",
      "\n"
     ]
    },
    {
     "data": {
      "image/png": "[encoded data removed]",
      "text/plain": [
       "<Figure size 720x576 with 1 Axes>"
      ]
     },
     "metadata": {
      "needs_background": "light",
      "tags": []
     },
     "output_type": "display_data"
    },
    {
     "name": "stdout",
     "output_type": "stream",
     "text": [
      "\n",
      "\n"
     ]
    },
    {
     "data": {
      "image/png": "[encoded data removed]",
      "text/plain": [
       "<Figure size 720x576 with 1 Axes>"
      ]
     },
     "metadata": {
      "needs_background": "light",
      "tags": []
     },
     "output_type": "display_data"
    },
    {
     "name": "stdout",
     "output_type": "stream",
     "text": [
      "\n",
      "\n"
     ]
    },
    {
     "data": {
      "image/png": "[encoded data removed]",
      "text/plain": [
       "<Figure size 720x576 with 1 Axes>"
      ]
     },
     "metadata": {
      "needs_background": "light",
      "tags": []
     },
     "output_type": "display_data"
    },
    {
     "name": "stdout",
     "output_type": "stream",
     "text": [
      "\n",
      "\n"
     ]
    }
   ],
   "source": [
    "#Create a new subset with the categorical variables we want plot \n",
    "categorical_features = [col for col in train_set.columns if train_set[col].dtypes == \"O\"]\n",
    "    \n",
    "#Iterate over the dataset variables and plot each of them \n",
    "for x in categorical_features: \n",
    "    train_set[x].value_counts().plot(kind=\"bar\", color = \"b\", rot=45, figsize=(10,8))\n",
    "    plt.xlabel(x)\n",
    "    plt.show()\n",
    "    print(\"\")\n",
    "    print(\"\")"
   ]
  },
  {
   "cell_type": "markdown",
   "metadata": {
    "id": "wKBUwDdZgEfF"
   },
   "source": [
    "Based on the distribution of the variables, we can conclude the following: \r\n",
    " \r\n",
    "*   The number of accidents during the day of the weeks are equivalent, except for Monday where there are less accidents than any other days.\r\n",
    "*   The majority of the accidents : \r\n",
    " *  are slight accidents\r\n",
    " *  happened on single carriageway and on daylight\r\n",
    " *  happened when there were no high winds\r\n",
    " *  happened on dry or wet road.\r\n",
    "\r\n",
    "\r\n",
    "\r\n"
   ]
  },
  {
   "cell_type": "markdown",
   "metadata": {
    "id": "3cSGFhWexQDT"
   },
   "source": [
    "## Multivariate Analysis "
   ]
  },
  {
   "cell_type": "markdown",
   "metadata": {
    "id": "2r0-dlnipe3f"
   },
   "source": [
    "From the bar charts we can see how a few variables have got quite unbalanced classes, thereby we might want to merge some classes to create a more useful feautre. Let's go a bit deeper, explorying the contingency tables between those variables and our target variable. "
   ]
  },
  {
   "cell_type": "code",
   "execution_count": null,
   "metadata": {
    "id": "_X0XgxJxXSLV"
   },
   "outputs": [],
   "source": [
    "#Create a function to analyse how the different categorical variables relate to the target variable \"Accident Severity\"\n",
    "def cont_table(x,y):\n",
    "    \n",
    "    cont_table = pd.crosstab(train_set[x],train_set[y])\n",
    "    \n",
    "    return cont_table"
   ]
  },
  {
   "cell_type": "code",
   "execution_count": null,
   "metadata": {
    "colab": {
     "base_uri": "https://localhost:8080/",
     "height": 190
    },
    "id": "RWQHjhbbXSLV",
    "outputId": "cbc8de01-ffbf-4bf8-8a92-16a2dbcb6a5a"
   },
   "outputs": [
    {
     "data": {
      "text/html": [
       "<div>\n",
       "<style scoped>\n",
       "    .dataframe tbody tr th:only-of-type {\n",
       "        vertical-align: middle;\n",
       "    }\n",
       "\n",
       "    .dataframe tbody tr th {\n",
       "        vertical-align: top;\n",
       "    }\n",
       "\n",
       "    .dataframe thead th {\n",
       "        text-align: right;\n",
       "    }\n",
       "</style>\n",
       "<table border=\"1\" class=\"dataframe\">\n",
       "  <thead>\n",
       "    <tr style=\"text-align: right;\">\n",
       "      <th>Special_Conditions_at_Site</th>\n",
       "      <th>Auto signal part defective</th>\n",
       "      <th>Auto traffic signal - out</th>\n",
       "      <th>Mud</th>\n",
       "      <th>None</th>\n",
       "      <th>Oil or diesel</th>\n",
       "      <th>Road sign or marking defective or obscured</th>\n",
       "      <th>Road surface defective</th>\n",
       "      <th>Roadworks</th>\n",
       "    </tr>\n",
       "    <tr>\n",
       "      <th>Accident_Severity</th>\n",
       "      <th></th>\n",
       "      <th></th>\n",
       "      <th></th>\n",
       "      <th></th>\n",
       "      <th></th>\n",
       "      <th></th>\n",
       "      <th></th>\n",
       "      <th></th>\n",
       "    </tr>\n",
       "  </thead>\n",
       "  <tbody>\n",
       "    <tr>\n",
       "      <th>Fatal</th>\n",
       "      <td>0</td>\n",
       "      <td>4</td>\n",
       "      <td>2</td>\n",
       "      <td>1302</td>\n",
       "      <td>3</td>\n",
       "      <td>2</td>\n",
       "      <td>2</td>\n",
       "      <td>11</td>\n",
       "    </tr>\n",
       "    <tr>\n",
       "      <th>Serious</th>\n",
       "      <td>7</td>\n",
       "      <td>40</td>\n",
       "      <td>50</td>\n",
       "      <td>18206</td>\n",
       "      <td>38</td>\n",
       "      <td>25</td>\n",
       "      <td>67</td>\n",
       "      <td>172</td>\n",
       "    </tr>\n",
       "    <tr>\n",
       "      <th>Slight</th>\n",
       "      <td>25</td>\n",
       "      <td>176</td>\n",
       "      <td>176</td>\n",
       "      <td>71046</td>\n",
       "      <td>104</td>\n",
       "      <td>126</td>\n",
       "      <td>124</td>\n",
       "      <td>878</td>\n",
       "    </tr>\n",
       "  </tbody>\n",
       "</table>\n",
       "</div>"
      ],
      "text/plain": [
       "Special_Conditions_at_Site  Auto signal part defective  ...  Roadworks\n",
       "Accident_Severity                                       ...           \n",
       "Fatal                                                0  ...         11\n",
       "Serious                                              7  ...        172\n",
       "Slight                                              25  ...        878\n",
       "\n",
       "[3 rows x 8 columns]"
      ]
     },
     "execution_count": 44,
     "metadata": {
      "tags": []
     },
     "output_type": "execute_result"
    }
   ],
   "source": [
    "cont_table(\"Accident_Severity\",\"Special_Conditions_at_Site\")"
   ]
  },
  {
   "cell_type": "code",
   "execution_count": null,
   "metadata": {
    "colab": {
     "base_uri": "https://localhost:8080/",
     "height": 190
    },
    "id": "91B-ss31XSLV",
    "outputId": "76fe3b6d-13b2-4335-f672-e896b0f43e45"
   },
   "outputs": [
    {
     "data": {
      "text/html": [
       "<div>\n",
       "<style scoped>\n",
       "    .dataframe tbody tr th:only-of-type {\n",
       "        vertical-align: middle;\n",
       "    }\n",
       "\n",
       "    .dataframe tbody tr th {\n",
       "        vertical-align: top;\n",
       "    }\n",
       "\n",
       "    .dataframe thead th {\n",
       "        text-align: right;\n",
       "    }\n",
       "</style>\n",
       "<table border=\"1\" class=\"dataframe\">\n",
       "  <thead>\n",
       "    <tr style=\"text-align: right;\">\n",
       "      <th>Carriageway_Hazards</th>\n",
       "      <th>Any animal in carriageway (except ridden horse)</th>\n",
       "      <th>None</th>\n",
       "      <th>Other object on road</th>\n",
       "      <th>Pedestrian in carriageway - not injured</th>\n",
       "      <th>Previous accident</th>\n",
       "      <th>Vehicle load on road</th>\n",
       "    </tr>\n",
       "    <tr>\n",
       "      <th>Accident_Severity</th>\n",
       "      <th></th>\n",
       "      <th></th>\n",
       "      <th></th>\n",
       "      <th></th>\n",
       "      <th></th>\n",
       "      <th></th>\n",
       "    </tr>\n",
       "  </thead>\n",
       "  <tbody>\n",
       "    <tr>\n",
       "      <th>Fatal</th>\n",
       "      <td>4</td>\n",
       "      <td>1301</td>\n",
       "      <td>10</td>\n",
       "      <td>4</td>\n",
       "      <td>5</td>\n",
       "      <td>2</td>\n",
       "    </tr>\n",
       "    <tr>\n",
       "      <th>Serious</th>\n",
       "      <td>66</td>\n",
       "      <td>18233</td>\n",
       "      <td>205</td>\n",
       "      <td>30</td>\n",
       "      <td>38</td>\n",
       "      <td>51</td>\n",
       "    </tr>\n",
       "    <tr>\n",
       "      <th>Slight</th>\n",
       "      <td>210</td>\n",
       "      <td>71576</td>\n",
       "      <td>601</td>\n",
       "      <td>132</td>\n",
       "      <td>131</td>\n",
       "      <td>175</td>\n",
       "    </tr>\n",
       "  </tbody>\n",
       "</table>\n",
       "</div>"
      ],
      "text/plain": [
       "Carriageway_Hazards  Any animal in carriageway (except ridden horse)  ...  Vehicle load on road\n",
       "Accident_Severity                                                     ...                      \n",
       "Fatal                                                              4  ...                     2\n",
       "Serious                                                           66  ...                    51\n",
       "Slight                                                           210  ...                   175\n",
       "\n",
       "[3 rows x 6 columns]"
      ]
     },
     "execution_count": 45,
     "metadata": {
      "tags": []
     },
     "output_type": "execute_result"
    }
   ],
   "source": [
    "cont_table(\"Accident_Severity\",\"Carriageway_Hazards\")"
   ]
  },
  {
   "cell_type": "markdown",
   "metadata": {
    "id": "NrLXfkCjxee-"
   },
   "source": []
  },
  {
   "cell_type": "code",
   "execution_count": null,
   "metadata": {
    "colab": {
     "base_uri": "https://localhost:8080/",
     "height": 190
    },
    "id": "O19mIPoFXSLV",
    "outputId": "e1ae72de-a32f-4cf9-fc0f-8d4fea2b50e7"
   },
   "outputs": [
    {
     "data": {
      "text/html": [
       "<div>\n",
       "<style scoped>\n",
       "    .dataframe tbody tr th:only-of-type {\n",
       "        vertical-align: middle;\n",
       "    }\n",
       "\n",
       "    .dataframe tbody tr th {\n",
       "        vertical-align: top;\n",
       "    }\n",
       "\n",
       "    .dataframe thead th {\n",
       "        text-align: right;\n",
       "    }\n",
       "</style>\n",
       "<table border=\"1\" class=\"dataframe\">\n",
       "  <thead>\n",
       "    <tr style=\"text-align: right;\">\n",
       "      <th>Weather_Conditions</th>\n",
       "      <th>Fine + high winds</th>\n",
       "      <th>Fine no high winds</th>\n",
       "      <th>Fog or mist</th>\n",
       "      <th>Other</th>\n",
       "      <th>Raining + high winds</th>\n",
       "      <th>Raining no high winds</th>\n",
       "      <th>Snowing + high winds</th>\n",
       "      <th>Snowing no high winds</th>\n",
       "    </tr>\n",
       "    <tr>\n",
       "      <th>Accident_Severity</th>\n",
       "      <th></th>\n",
       "      <th></th>\n",
       "      <th></th>\n",
       "      <th></th>\n",
       "      <th></th>\n",
       "      <th></th>\n",
       "      <th></th>\n",
       "      <th></th>\n",
       "    </tr>\n",
       "  </thead>\n",
       "  <tbody>\n",
       "    <tr>\n",
       "      <th>Fatal</th>\n",
       "      <td>27</td>\n",
       "      <td>1063</td>\n",
       "      <td>14</td>\n",
       "      <td>18</td>\n",
       "      <td>24</td>\n",
       "      <td>147</td>\n",
       "      <td>0</td>\n",
       "      <td>5</td>\n",
       "    </tr>\n",
       "    <tr>\n",
       "      <th>Serious</th>\n",
       "      <td>229</td>\n",
       "      <td>15070</td>\n",
       "      <td>58</td>\n",
       "      <td>357</td>\n",
       "      <td>264</td>\n",
       "      <td>2327</td>\n",
       "      <td>5</td>\n",
       "      <td>48</td>\n",
       "    </tr>\n",
       "    <tr>\n",
       "      <th>Slight</th>\n",
       "      <td>737</td>\n",
       "      <td>57761</td>\n",
       "      <td>245</td>\n",
       "      <td>2063</td>\n",
       "      <td>871</td>\n",
       "      <td>9656</td>\n",
       "      <td>24</td>\n",
       "      <td>237</td>\n",
       "    </tr>\n",
       "  </tbody>\n",
       "</table>\n",
       "</div>"
      ],
      "text/plain": [
       "Weather_Conditions  Fine + high winds  ...  Snowing no high winds\n",
       "Accident_Severity                      ...                       \n",
       "Fatal                              27  ...                      5\n",
       "Serious                           229  ...                     48\n",
       "Slight                            737  ...                    237\n",
       "\n",
       "[3 rows x 8 columns]"
      ]
     },
     "execution_count": 46,
     "metadata": {
      "tags": []
     },
     "output_type": "execute_result"
    }
   ],
   "source": [
    "cont_table(\"Accident_Severity\",\"Weather_Conditions\")"
   ]
  },
  {
   "cell_type": "code",
   "execution_count": null,
   "metadata": {
    "colab": {
     "base_uri": "https://localhost:8080/",
     "height": 173
    },
    "id": "00cbzbnfXSLW",
    "outputId": "5e258db9-ff97-42f0-faf7-81900ff6ba46"
   },
   "outputs": [
    {
     "data": {
      "text/html": [
       "<div>\n",
       "<style scoped>\n",
       "    .dataframe tbody tr th:only-of-type {\n",
       "        vertical-align: middle;\n",
       "    }\n",
       "\n",
       "    .dataframe tbody tr th {\n",
       "        vertical-align: top;\n",
       "    }\n",
       "\n",
       "    .dataframe thead th {\n",
       "        text-align: right;\n",
       "    }\n",
       "</style>\n",
       "<table border=\"1\" class=\"dataframe\">\n",
       "  <thead>\n",
       "    <tr style=\"text-align: right;\">\n",
       "      <th>Road_Surface_Conditions</th>\n",
       "      <th>Dry</th>\n",
       "      <th>Flood over 3cm. deep</th>\n",
       "      <th>Frost or ice</th>\n",
       "      <th>Snow</th>\n",
       "      <th>Wet or damp</th>\n",
       "    </tr>\n",
       "    <tr>\n",
       "      <th>Accident_Severity</th>\n",
       "      <th></th>\n",
       "      <th></th>\n",
       "      <th></th>\n",
       "      <th></th>\n",
       "      <th></th>\n",
       "    </tr>\n",
       "  </thead>\n",
       "  <tbody>\n",
       "    <tr>\n",
       "      <th>Fatal</th>\n",
       "      <td>909</td>\n",
       "      <td>3</td>\n",
       "      <td>11</td>\n",
       "      <td>2</td>\n",
       "      <td>401</td>\n",
       "    </tr>\n",
       "    <tr>\n",
       "      <th>Serious</th>\n",
       "      <td>13091</td>\n",
       "      <td>32</td>\n",
       "      <td>203</td>\n",
       "      <td>30</td>\n",
       "      <td>5279</td>\n",
       "    </tr>\n",
       "    <tr>\n",
       "      <th>Slight</th>\n",
       "      <td>51887</td>\n",
       "      <td>104</td>\n",
       "      <td>745</td>\n",
       "      <td>161</td>\n",
       "      <td>20061</td>\n",
       "    </tr>\n",
       "  </tbody>\n",
       "</table>\n",
       "</div>"
      ],
      "text/plain": [
       "Road_Surface_Conditions    Dry  Flood over 3cm. deep  ...  Snow  Wet or damp\n",
       "Accident_Severity                                     ...                   \n",
       "Fatal                      909                     3  ...     2          401\n",
       "Serious                  13091                    32  ...    30         5279\n",
       "Slight                   51887                   104  ...   161        20061\n",
       "\n",
       "[3 rows x 5 columns]"
      ]
     },
     "execution_count": 47,
     "metadata": {
      "tags": []
     },
     "output_type": "execute_result"
    }
   ],
   "source": [
    "cont_table(\"Accident_Severity\",\"Road_Surface_Conditions\")"
   ]
  },
  {
   "cell_type": "code",
   "execution_count": null,
   "metadata": {
    "colab": {
     "base_uri": "https://localhost:8080/",
     "height": 386
    },
    "id": "oBJy786xMxhQ",
    "outputId": "fc143fc5-ea9e-4cc0-a71e-01b8c45d79cd"
   },
   "outputs": [
    {
     "data": {
      "text/plain": [
       "<seaborn.axisgrid.FacetGrid at 0x7efdef93c250>"
      ]
     },
     "execution_count": 48,
     "metadata": {
      "tags": []
     },
     "output_type": "execute_result"
    },
    {
     "data": {
      "image/png": "[encoded data removed]",
      "text/plain": [
       "<Figure size 426.25x360 with 1 Axes>"
      ]
     },
     "metadata": {
      "needs_background": "light",
      "tags": []
     },
     "output_type": "display_data"
    }
   ],
   "source": [
    "sns.displot(train_set,x=\"Accident_Severity\",hue=\"Speed_limit\",shrink=.8, multiple=\"dodge\")"
   ]
  },
  {
   "cell_type": "markdown",
   "metadata": {
    "id": "PnPagzvAikmn"
   },
   "source": [
    "Authority usually emphasis on how the speeds increases the likelihood of having an accident. \r\n",
    "Here we can see that the majority of the slight and serious accidents are when the speed limit is 30 mph. \r\n",
    "For the fatal accident the two dominant speed limits are 30 mph and 60 mph.\r\n"
   ]
  },
  {
   "cell_type": "code",
   "execution_count": null,
   "metadata": {
    "colab": {
     "base_uri": "https://localhost:8080/",
     "height": 386
    },
    "id": "ganrXuduM71y",
    "outputId": "8a18d5f8-2ec1-41dc-b7db-093d513d79b7"
   },
   "outputs": [
    {
     "data": {
      "text/plain": [
       "<seaborn.axisgrid.FacetGrid at 0x7efdf7b02ad0>"
      ]
     },
     "execution_count": 49,
     "metadata": {
      "tags": []
     },
     "output_type": "execute_result"
    },
    {
     "data": {
      "image/png": "[encoded data removed]",
      "text/plain": [
       "<Figure size 519.75x360 with 1 Axes>"
      ]
     },
     "metadata": {
      "needs_background": "light",
      "tags": []
     },
     "output_type": "display_data"
    }
   ],
   "source": [
    "sns.displot(train_set,x=\"Accident_Severity\", hue=\"Light_Conditions\",multiple=\"stack\",stat=\"probability\")"
   ]
  },
  {
   "cell_type": "markdown",
   "metadata": {
    "id": "JQq_ZH4sijz5"
   },
   "source": [
    "Nearly 80% of the accidents are slight, 20% of them are serious and the rest if fatal. Most of the accidents appear in daylight and the second most probable case is during darkness when the lights are lit. This means that when there is no light along the road, it does not imply that there will be more road accidents.\r\n"
   ]
  },
  {
   "cell_type": "code",
   "execution_count": null,
   "metadata": {
    "colab": {
     "base_uri": "https://localhost:8080/",
     "height": 386
    },
    "id": "U-j1etTdMyjt",
    "outputId": "5b223e2a-7250-4009-80fc-252710a23865"
   },
   "outputs": [
    {
     "data": {
      "text/plain": [
       "<seaborn.axisgrid.FacetGrid at 0x7efdf05d4a10>"
      ]
     },
     "execution_count": 50,
     "metadata": {
      "tags": []
     },
     "output_type": "execute_result"
    },
    {
     "data": {
      "image/png": "[encoded data removed]",
      "text/plain": [
       "<Figure size 504x360 with 1 Axes>"
      ]
     },
     "metadata": {
      "needs_background": "light",
      "tags": []
     },
     "output_type": "display_data"
    }
   ],
   "source": [
    "sns.displot(data = train_set[train_set.Accident_Severity==\"Fatal\"],x=\"Accident_Severity\",hue=\"Road_Surface_Conditions\",shrink=.8, multiple=\"dodge\")"
   ]
  },
  {
   "cell_type": "markdown",
   "metadata": {
    "id": "Uq9e6rV4ilLG"
   },
   "source": [
    "This graph tells us how the conditions of the road surface impact the amount of fatal accidents. It appears that fatal accidents occur mostly on dry and wet roads and in rare cases on frost or ice. This information can be useful for the authorities as they may want to put effort into signals for slippery wet roads. "
   ]
  },
  {
   "cell_type": "code",
   "execution_count": null,
   "metadata": {
    "colab": {
     "base_uri": "https://localhost:8080/",
     "height": 386
    },
    "id": "ItCg-kTrMyrK",
    "outputId": "0a9eaac2-b499-4ce5-9b96-a89a77f246aa"
   },
   "outputs": [
    {
     "data": {
      "text/plain": [
       "<seaborn.axisgrid.FacetGrid at 0x7efdef9369d0>"
      ]
     },
     "execution_count": 51,
     "metadata": {
      "tags": []
     },
     "output_type": "execute_result"
    },
    {
     "data": {
      "image/png": "[encoded data removed]",
      "text/plain": [
       "<Figure size 438.125x360 with 1 Axes>"
      ]
     },
     "metadata": {
      "needs_background": "light",
      "tags": []
     },
     "output_type": "display_data"
    }
   ],
   "source": [
    "sns.displot(data = train_set,x=\"Accident_Severity\",hue=\"season\",shrink=.8, multiple=\"dodge\")"
   ]
  },
  {
   "cell_type": "markdown",
   "metadata": {
    "id": "mcheGm6YilgP"
   },
   "source": [
    "There are not so many differences between seasons but Autumn is the season that has the largest number of accidents among others. "
   ]
  },
  {
   "cell_type": "markdown",
   "metadata": {
    "id": "mXbvIBqcrxLv"
   },
   "source": [
    "We can also investigate the relationship between the accident severity and both the speed limit and road surface condition when the accident occured. "
   ]
  },
  {
   "cell_type": "code",
   "execution_count": null,
   "metadata": {
    "colab": {
     "base_uri": "https://localhost:8080/",
     "height": 472
    },
    "id": "3em1xTXUo4JW",
    "outputId": "9c82d44d-2aca-40e4-b083-64977770259e"
   },
   "outputs": [
    {
     "data": {
      "text/plain": [
       "<seaborn.axisgrid.FacetGrid at 0x7efdf02d7050>"
      ]
     },
     "execution_count": 52,
     "metadata": {
      "tags": []
     },
     "output_type": "execute_result"
    },
    {
     "data": {
      "image/png": "[encoded data removed]",
      "text/plain": [
       "<Figure size 576x432 with 1 Axes>"
      ]
     },
     "metadata": {
      "needs_background": "light",
      "tags": []
     },
     "output_type": "display_data"
    }
   ],
   "source": [
    "# Draw a nested barplot to show survival for class and sex\n",
    "g = sns.catplot(data=train_set, x=\"Accident_Severity\", y=\"Speed_limit\", hue=\"Road_Surface_Conditions\",\n",
    "                height=6, kind=\"bar\", ci=None)\n",
    "\n",
    "g.despine(left=True)\n",
    "g.set_ylabels(\"Speed Limit\")\n",
    "g.set_xlabels(\"Accident Severity\")"
   ]
  },
  {
   "cell_type": "markdown",
   "metadata": {
    "id": "_XOJQxxisAH8"
   },
   "source": [
    "Generally, it appears that all the three different types of accident severity follow the same path. On the x-axes we have got the accident severity classes and on the y-axes the speed limit. Besides, the bars' colour represents the five different road surface conditions at the moment when the accident occured. Interestingly, we can see how on average accidents occured at a lower speed limit when there is  a better road surface condition such as dry or wet. Instead, when there is flood or snow accidents occured on a higher average speed limit. "
   ]
  },
  {
   "cell_type": "markdown",
   "metadata": {
    "id": "Je4KZzreviZ8"
   },
   "source": [
    "Since our business objective is to create a model that aims to help the UK government in better adressing the road safety in the country. It would be interesting to get a better idea on where the most accidents occur and we are able to do so with the Urban_or_Rural_Area variable. However, we will need to convert it as a numerical variable again in order to achieve our goal. Lastly, we will just eliminate the numerical version of the variable. "
   ]
  },
  {
   "cell_type": "code",
   "execution_count": null,
   "metadata": {
    "colab": {
     "base_uri": "https://localhost:8080/",
     "height": 675
    },
    "id": "sEjl_CjVXSLW",
    "outputId": "2a64f736-2ea5-4586-f73b-11bb376cc7fe"
   },
   "outputs": [
    {
     "name": "stderr",
     "output_type": "stream",
     "text": [
      "/usr/local/lib/python3.7/dist-packages/ipykernel_launcher.py:3: SettingWithCopyWarning: \n",
      "A value is trying to be set on a copy of a slice from a DataFrame.\n",
      "Try using .loc[row_indexer,col_indexer] = value instead\n",
      "\n",
      "See the caveats in the documentation: https://pandas.pydata.org/pandas-docs/stable/user_guide/indexing.html#returning-a-view-versus-a-copy\n",
      "  This is separate from the ipykernel package so we can avoid doing imports until\n"
     ]
    },
    {
     "data": {
      "image/png": "[encoded data removed]",
      "text/plain": [
       "<Figure size 720x576 with 2 Axes>"
      ]
     },
     "metadata": {
      "needs_background": "light",
      "tags": []
     },
     "output_type": "display_data"
    },
    {
     "name": "stderr",
     "output_type": "stream",
     "text": [
      "/usr/local/lib/python3.7/dist-packages/pandas/core/frame.py:4174: SettingWithCopyWarning: \n",
      "A value is trying to be set on a copy of a slice from a DataFrame\n",
      "\n",
      "See the caveats in the documentation: https://pandas.pydata.org/pandas-docs/stable/user_guide/indexing.html#returning-a-view-versus-a-copy\n",
      "  errors=errors,\n"
     ]
    }
   ],
   "source": [
    "#Creating a Urban_Rural_Area variable whihc is numerical \n",
    "dict = {\"Urban\": 1, \"Rural\":2}\n",
    "train_set[\"Urban_Rural_Numerical\"] = train_set[\"Urban_or_Rural_Area\"].map(dict)\n",
    "\n",
    "#Display a scatter plots to to see where the majority of accidents occure\n",
    "train_set.plot(kind=\"scatter\",\n",
    "            x=\"Longitude\",\n",
    "            y=\"Latitude\", \n",
    "            alpha=0.8,                              # transparency\n",
    "            s=\"Urban_Rural_Numerical\",\n",
    "            c=\"Urban_Rural_Numerical\",                # colour of the dot: house value\n",
    "            cmap=plt.get_cmap(\"jet\"),               # colour map to use\n",
    "            colorbar=True,                          # show the color map\n",
    "            figsize=[10,8]\n",
    ")\n",
    "\n",
    "plt.title(\"Where the most accidents in the UK occur\")\n",
    "plt.ylabel(\"\")\n",
    "plt.show()\n",
    "\n",
    "#drop the Urban_Rural_Numerical variable \n",
    "train_set.drop(\"Urban_Rural_Numerical\", axis = 1, inplace=True)"
   ]
  },
  {
   "cell_type": "markdown",
   "metadata": {
    "id": "-gUrBGnGyds-"
   },
   "source": [
    "The graph clearly represents the UK. Besides, the blue dots represents the urban areas and the red dots the rural areas in the island. The higher the dots' density, the higher the number of accidents occured in that area. "
   ]
  },
  {
   "cell_type": "markdown",
   "metadata": {
    "id": "Rbx-TekF8T5c"
   },
   "source": [
    "We can now exploring some relationships between our target variable and two other variables such as the Speed_limit and the Number_of_Vehicles "
   ]
  },
  {
   "cell_type": "code",
   "execution_count": null,
   "metadata": {
    "colab": {
     "base_uri": "https://localhost:8080/",
     "height": 692
    },
    "id": "0AKhVIa8XSLW",
    "outputId": "4ca90cd4-1a4e-4233-c3da-53762e7f3db9"
   },
   "outputs": [
    {
     "data": {
      "text/plain": [
       "array([[<matplotlib.axes._subplots.AxesSubplot object at 0x7efdf04f5ad0>,\n",
       "        <matplotlib.axes._subplots.AxesSubplot object at 0x7efdef7f3910>],\n",
       "       [<matplotlib.axes._subplots.AxesSubplot object at 0x7efdef7a8f90>,\n",
       "        <matplotlib.axes._subplots.AxesSubplot object at 0x7efde6ea9650>]],\n",
       "      dtype=object)"
      ]
     },
     "execution_count": 54,
     "metadata": {
      "tags": []
     },
     "output_type": "execute_result"
    },
    {
     "data": {
      "image/png": "[encoded data removed]",
      "text/plain": [
       "<Figure size 720x720 with 4 Axes>"
      ]
     },
     "metadata": {
      "needs_background": "light",
      "tags": []
     },
     "output_type": "display_data"
    }
   ],
   "source": [
    "train_set[\"Speed_limit\"].hist(by = train_set[\"Accident_Severity\"], figsize=(10,10))"
   ]
  },
  {
   "cell_type": "code",
   "execution_count": null,
   "metadata": {
    "colab": {
     "base_uri": "https://localhost:8080/",
     "height": 692
    },
    "id": "Qm1P0LzYXSLW",
    "outputId": "81f984ca-df05-4332-a91e-e82aea1dcc94"
   },
   "outputs": [
    {
     "data": {
      "text/plain": [
       "array([[<matplotlib.axes._subplots.AxesSubplot object at 0x7efdf0377990>,\n",
       "        <matplotlib.axes._subplots.AxesSubplot object at 0x7efdf040c690>],\n",
       "       [<matplotlib.axes._subplots.AxesSubplot object at 0x7efde6dfe250>,\n",
       "        <matplotlib.axes._subplots.AxesSubplot object at 0x7efde6daf8d0>]],\n",
       "      dtype=object)"
      ]
     },
     "execution_count": 55,
     "metadata": {
      "tags": []
     },
     "output_type": "execute_result"
    },
    {
     "data": {
      "image/png": "[encoded data removed]",
      "text/plain": [
       "<Figure size 720x720 with 4 Axes>"
      ]
     },
     "metadata": {
      "needs_background": "light",
      "tags": []
     },
     "output_type": "display_data"
    }
   ],
   "source": [
    "train_set[\"Number_of_Vehicles\"].hist(by = train_set[\"Accident_Severity\"], figsize=(10,10))"
   ]
  },
  {
   "cell_type": "markdown",
   "metadata": {
    "id": "omR4kaVjjdZj"
   },
   "source": [
    "Lastly, we can analyse the correlation between the numerical features in the training set to get an even better idea to what is relationships amongst those variables. This information might be useful later on in the analysis when we will build the models. "
   ]
  },
  {
   "cell_type": "code",
   "execution_count": null,
   "metadata": {
    "colab": {
     "base_uri": "https://localhost:8080/",
     "height": 723
    },
    "id": "-LRb4_QVigYG",
    "outputId": "b4338fae-b8a1-4094-ad16-3c2fd8fd4317"
   },
   "outputs": [
    {
     "data": {
      "text/plain": [
       "<matplotlib.axes._subplots.AxesSubplot at 0x7efde6b54a90>"
      ]
     },
     "execution_count": 57,
     "metadata": {
      "tags": []
     },
     "output_type": "execute_result"
    },
    {
     "data": {
      "image/png": "[encoded data removed]",
      "text/plain": [
       "<Figure size 1152x720 with 2 Axes>"
      ]
     },
     "metadata": {
      "needs_background": "light",
      "tags": []
     },
     "output_type": "display_data"
    }
   ],
   "source": [
    "#correlation matrix \n",
    "corr = train_set.corr()\n",
    "\n",
    "# Generate a mask for the upper triangle\n",
    "mask = np.triu(np.ones_like(corr, dtype=bool))\n",
    "\n",
    "# Set up the matplotlib figure\n",
    "f, ax = plt.subplots(figsize=(16, 10))\n",
    "\n",
    "# Generate a custom diverging colormap\n",
    "cmap = sns.diverging_palette(230, 20, as_cmap=True)\n",
    "\n",
    "# Draw the heatmap with the mask and correct aspect ratio\n",
    "sns.heatmap(corr, mask=mask, cmap=cmap, vmax=.3, center=0,\n",
    "            square=True, linewidths=.5, cbar_kws={\"shrink\": .5})"
   ]
  },
  {
   "cell_type": "markdown",
   "metadata": {
    "id": "IQnfr991kEkU"
   },
   "source": [
    "The detacted correlation range goes from -0.4 up to 0.3, thereby we can state that there is no multicollinearity amonsgt our numerical features. Though, we can see that there is a correlation between the Logitute and Latitute with Location Easting and Location Northing, this is probably due to the fact that those variables measure a position of one point in the world, hence the higer the Longitute the higher the Location  Easting, and the higher the Latitute the higher the Location Northing, and viceversa. "
   ]
  },
  {
   "cell_type": "markdown",
   "metadata": {
    "id": "C9jOKh9FXv8T"
   },
   "source": [
    "# **Data preprocessing** "
   ]
  },
  {
   "cell_type": "markdown",
   "metadata": {
    "id": "ZaqnhBt-X-kc"
   },
   "source": [
    "## Imputing the Missing Values "
   ]
  },
  {
   "cell_type": "markdown",
   "metadata": {
    "id": "3D2Y5rdMS5UB"
   },
   "source": [
    "It is now necessary to address missing values. The way to go, is using simple imputer. Because we have numeric and categorical variables, we have to impute missing values based on two different approaches. For numeric ones, the median was used to impute values, this way we get a more robust analysis against possible outliers, while making sure that no decimal nuumbers are added to all ordinal variables; For categorical, we will use the most common observation to impute values.\r\n",
    "For the process to become smoother, a list with nimerical and categorical variables was used to iterate over them."
   ]
  },
  {
   "cell_type": "code",
   "execution_count": null,
   "metadata": {
    "colab": {
     "base_uri": "https://localhost:8080/"
    },
    "id": "sZZEB6EuJgjS",
    "outputId": "3e959d53-57da-42d0-db7a-3d601597902f"
   },
   "outputs": [
    {
     "data": {
      "text/plain": [
       "['Location_Easting_OSGR',\n",
       " 'Location_Northing_OSGR',\n",
       " 'Longitude',\n",
       " 'Latitude',\n",
       " 'Number_of_Vehicles',\n",
       " 'Speed_limit']"
      ]
     },
     "execution_count": 56,
     "metadata": {
      "tags": []
     },
     "output_type": "execute_result"
    }
   ],
   "source": [
    "# date should be excluded from the numerical features\n",
    "numerical_features = [col for col in train_set.columns if (train_set[col].dtypes != \"O\")  & (col != \"Date\")]\n",
    "\n",
    "numerical_features"
   ]
  },
  {
   "cell_type": "code",
   "execution_count": null,
   "metadata": {
    "colab": {
     "base_uri": "https://localhost:8080/",
     "height": 235
    },
    "id": "kUSHSze8XSLY",
    "outputId": "5e811751-3a53-44c8-c0bf-bd5f32bba511"
   },
   "outputs": [
    {
     "data": {
      "text/html": [
       "<div>\n",
       "<style scoped>\n",
       "    .dataframe tbody tr th:only-of-type {\n",
       "        vertical-align: middle;\n",
       "    }\n",
       "\n",
       "    .dataframe tbody tr th {\n",
       "        vertical-align: top;\n",
       "    }\n",
       "\n",
       "    .dataframe thead th {\n",
       "        text-align: right;\n",
       "    }\n",
       "</style>\n",
       "<table border=\"1\" class=\"dataframe\">\n",
       "  <thead>\n",
       "    <tr style=\"text-align: right;\">\n",
       "      <th></th>\n",
       "      <th>Location_Easting_OSGR</th>\n",
       "      <th>Location_Northing_OSGR</th>\n",
       "      <th>Longitude</th>\n",
       "      <th>Latitude</th>\n",
       "      <th>Number_of_Vehicles</th>\n",
       "      <th>Speed_limit</th>\n",
       "    </tr>\n",
       "    <tr>\n",
       "      <th>Accident_Index</th>\n",
       "      <th></th>\n",
       "      <th></th>\n",
       "      <th></th>\n",
       "      <th></th>\n",
       "      <th></th>\n",
       "      <th></th>\n",
       "    </tr>\n",
       "  </thead>\n",
       "  <tbody>\n",
       "    <tr>\n",
       "      <th>2019970907872</th>\n",
       "      <td>255074.0</td>\n",
       "      <td>656065.0</td>\n",
       "      <td>-4.312110</td>\n",
       "      <td>55.776124</td>\n",
       "      <td>1</td>\n",
       "      <td>30</td>\n",
       "    </tr>\n",
       "    <tr>\n",
       "      <th>2019160875736</th>\n",
       "      <td>511401.0</td>\n",
       "      <td>430798.0</td>\n",
       "      <td>-0.311609</td>\n",
       "      <td>53.761655</td>\n",
       "      <td>1</td>\n",
       "      <td>20</td>\n",
       "    </tr>\n",
       "    <tr>\n",
       "      <th>2019521902855</th>\n",
       "      <td>360255.0</td>\n",
       "      <td>177516.0</td>\n",
       "      <td>-2.573907</td>\n",
       "      <td>51.495178</td>\n",
       "      <td>1</td>\n",
       "      <td>30</td>\n",
       "    </tr>\n",
       "    <tr>\n",
       "      <th>2019010198994</th>\n",
       "      <td>538322.0</td>\n",
       "      <td>172703.0</td>\n",
       "      <td>-0.011353</td>\n",
       "      <td>51.436445</td>\n",
       "      <td>3</td>\n",
       "      <td>20</td>\n",
       "    </tr>\n",
       "    <tr>\n",
       "      <th>2019320299438</th>\n",
       "      <td>511833.0</td>\n",
       "      <td>371473.0</td>\n",
       "      <td>-0.326174</td>\n",
       "      <td>53.228558</td>\n",
       "      <td>1</td>\n",
       "      <td>60</td>\n",
       "    </tr>\n",
       "  </tbody>\n",
       "</table>\n",
       "</div>"
      ],
      "text/plain": [
       "                Location_Easting_OSGR  ...  Speed_limit\n",
       "Accident_Index                         ...             \n",
       "2019970907872                255074.0  ...           30\n",
       "2019160875736                511401.0  ...           20\n",
       "2019521902855                360255.0  ...           30\n",
       "2019010198994                538322.0  ...           20\n",
       "2019320299438                511833.0  ...           60\n",
       "\n",
       "[5 rows x 6 columns]"
      ]
     },
     "execution_count": 57,
     "metadata": {
      "tags": []
     },
     "output_type": "execute_result"
    }
   ],
   "source": [
    "#Check if numerical features were correctly selected\n",
    "train_set[numerical_features].head()"
   ]
  },
  {
   "cell_type": "code",
   "execution_count": null,
   "metadata": {
    "colab": {
     "base_uri": "https://localhost:8080/"
    },
    "id": "XXKf6yqaXSLY",
    "outputId": "860953e5-0c99-4c45-a9a4-6d59b1e1b44c"
   },
   "outputs": [
    {
     "data": {
      "text/plain": [
       "['Day_of_Week',\n",
       " 'Road_Type',\n",
       " 'Light_Conditions',\n",
       " 'Weather_Conditions',\n",
       " 'Road_Surface_Conditions',\n",
       " 'Special_Conditions_at_Site',\n",
       " 'Carriageway_Hazards',\n",
       " 'Urban_or_Rural_Area',\n",
       " 'season',\n",
       " 'Time_of_the_Day']"
      ]
     },
     "execution_count": 58,
     "metadata": {
      "tags": []
     },
     "output_type": "execute_result"
    }
   ],
   "source": [
    "#Create list with categorical variables, excluding the target variable \"Accident Severity\"\n",
    "categorical_features = [col for col in train_set.columns if (train_set[col].dtypes == \"O\") & (col != \"Accident_Severity\")]\n",
    "categorical_features"
   ]
  },
  {
   "cell_type": "code",
   "execution_count": null,
   "metadata": {
    "colab": {
     "base_uri": "https://localhost:8080/",
     "height": 340
    },
    "id": "U-gRkdaxXSLY",
    "outputId": "9bef79a2-888d-4625-b723-00804cabe869"
   },
   "outputs": [
    {
     "data": {
      "text/html": [
       "<div>\n",
       "<style scoped>\n",
       "    .dataframe tbody tr th:only-of-type {\n",
       "        vertical-align: middle;\n",
       "    }\n",
       "\n",
       "    .dataframe tbody tr th {\n",
       "        vertical-align: top;\n",
       "    }\n",
       "\n",
       "    .dataframe thead th {\n",
       "        text-align: right;\n",
       "    }\n",
       "</style>\n",
       "<table border=\"1\" class=\"dataframe\">\n",
       "  <thead>\n",
       "    <tr style=\"text-align: right;\">\n",
       "      <th></th>\n",
       "      <th>Day_of_Week</th>\n",
       "      <th>Road_Type</th>\n",
       "      <th>Light_Conditions</th>\n",
       "      <th>Weather_Conditions</th>\n",
       "      <th>Road_Surface_Conditions</th>\n",
       "      <th>Special_Conditions_at_Site</th>\n",
       "      <th>Carriageway_Hazards</th>\n",
       "      <th>Urban_or_Rural_Area</th>\n",
       "      <th>season</th>\n",
       "      <th>Time_of_the_Day</th>\n",
       "    </tr>\n",
       "    <tr>\n",
       "      <th>Accident_Index</th>\n",
       "      <th></th>\n",
       "      <th></th>\n",
       "      <th></th>\n",
       "      <th></th>\n",
       "      <th></th>\n",
       "      <th></th>\n",
       "      <th></th>\n",
       "      <th></th>\n",
       "      <th></th>\n",
       "      <th></th>\n",
       "    </tr>\n",
       "  </thead>\n",
       "  <tbody>\n",
       "    <tr>\n",
       "      <th>2019970907872</th>\n",
       "      <td>Wednsday</td>\n",
       "      <td>Single carriageway</td>\n",
       "      <td>Darkness - No lighting</td>\n",
       "      <td>Raining + high winds</td>\n",
       "      <td>Wet or damp</td>\n",
       "      <td>None</td>\n",
       "      <td>None</td>\n",
       "      <td>Urban</td>\n",
       "      <td>Winter</td>\n",
       "      <td>Morning</td>\n",
       "    </tr>\n",
       "    <tr>\n",
       "      <th>2019160875736</th>\n",
       "      <td>Saturday</td>\n",
       "      <td>Single carriageway</td>\n",
       "      <td>Darkness - Artificial light</td>\n",
       "      <td>Fine no high winds</td>\n",
       "      <td>Dry</td>\n",
       "      <td>None</td>\n",
       "      <td>None</td>\n",
       "      <td>Urban</td>\n",
       "      <td>Summer</td>\n",
       "      <td>Night</td>\n",
       "    </tr>\n",
       "    <tr>\n",
       "      <th>2019521902855</th>\n",
       "      <td>Wednsday</td>\n",
       "      <td>Single carriageway</td>\n",
       "      <td>Daylight</td>\n",
       "      <td>Fine no high winds</td>\n",
       "      <td>Dry</td>\n",
       "      <td>None</td>\n",
       "      <td>None</td>\n",
       "      <td>Urban</td>\n",
       "      <td>Winter</td>\n",
       "      <td>Morning</td>\n",
       "    </tr>\n",
       "    <tr>\n",
       "      <th>2019010198994</th>\n",
       "      <td>Monday</td>\n",
       "      <td>Single carriageway</td>\n",
       "      <td>Daylight</td>\n",
       "      <td>Fine no high winds</td>\n",
       "      <td>Dry</td>\n",
       "      <td>None</td>\n",
       "      <td>None</td>\n",
       "      <td>Urban</td>\n",
       "      <td>Summer</td>\n",
       "      <td>Afternoon</td>\n",
       "    </tr>\n",
       "    <tr>\n",
       "      <th>2019320299438</th>\n",
       "      <td>Tuesday</td>\n",
       "      <td>Single carriageway</td>\n",
       "      <td>Daylight</td>\n",
       "      <td>Raining no high winds</td>\n",
       "      <td>Wet or damp</td>\n",
       "      <td>None</td>\n",
       "      <td>None</td>\n",
       "      <td>Rural</td>\n",
       "      <td>Summer</td>\n",
       "      <td>Afternoon</td>\n",
       "    </tr>\n",
       "  </tbody>\n",
       "</table>\n",
       "</div>"
      ],
      "text/plain": [
       "               Day_of_Week           Road_Type  ...  season Time_of_the_Day\n",
       "Accident_Index                                  ...                        \n",
       "2019970907872     Wednsday  Single carriageway  ...  Winter         Morning\n",
       "2019160875736     Saturday  Single carriageway  ...  Summer           Night\n",
       "2019521902855     Wednsday  Single carriageway  ...  Winter         Morning\n",
       "2019010198994       Monday  Single carriageway  ...  Summer       Afternoon\n",
       "2019320299438      Tuesday  Single carriageway  ...  Summer       Afternoon\n",
       "\n",
       "[5 rows x 10 columns]"
      ]
     },
     "execution_count": 59,
     "metadata": {
      "tags": []
     },
     "output_type": "execute_result"
    }
   ],
   "source": [
    "#Check if categorical features were correctly selected\n",
    "train_set[categorical_features].head()"
   ]
  },
  {
   "cell_type": "markdown",
   "metadata": {
    "id": "3fFilKA6XSLY"
   },
   "source": [
    "Check for missing values in the entire train set "
   ]
  },
  {
   "cell_type": "code",
   "execution_count": null,
   "metadata": {
    "colab": {
     "base_uri": "https://localhost:8080/"
    },
    "id": "ZvLEF-xHXSLY",
    "outputId": "3504d96b-2e12-4a40-f5a1-607a63082c59"
   },
   "outputs": [
    {
     "data": {
      "text/plain": [
       "Location_Easting_OSGR           23\n",
       "Location_Northing_OSGR          23\n",
       "Longitude                       23\n",
       "Latitude                        23\n",
       "Accident_Severity                0\n",
       "Number_of_Vehicles               0\n",
       "Date                             0\n",
       "Day_of_Week                      0\n",
       "Road_Type                     1708\n",
       "Speed_limit                      0\n",
       "Light_Conditions                 1\n",
       "Weather_Conditions            2728\n",
       "Road_Surface_Conditions       1059\n",
       "Special_Conditions_at_Site    1392\n",
       "Carriageway_Hazards           1204\n",
       "Urban_or_Rural_Area             23\n",
       "season                           0\n",
       "Time_of_the_Day                  0\n",
       "dtype: int64"
      ]
     },
     "execution_count": 60,
     "metadata": {
      "tags": []
     },
     "output_type": "execute_result"
    }
   ],
   "source": [
    "train_set.isnull().sum()"
   ]
  },
  {
   "cell_type": "code",
   "execution_count": null,
   "metadata": {
    "id": "Y09PwZ-QXSLY"
   },
   "outputs": [],
   "source": [
    "# we create a temporary subset with only numerical columns, \n",
    "# but keep the categorical columns in a separate variable\n",
    "\n",
    "trainset_categorical = train_set[categorical_features]\n",
    "trainset_numerical = train_set[numerical_features]\n",
    "\n",
    "testset_categorical = test_set[categorical_features]\n",
    "testset_numerical = test_set[numerical_features]"
   ]
  },
  {
   "cell_type": "code",
   "execution_count": null,
   "metadata": {
    "id": "diBC91KtXSLZ"
   },
   "outputs": [],
   "source": [
    "#Instatiate two different imputer, one for categorical features and the other for numerical features \n",
    "cat_imputer = SimpleImputer(strategy=\"most_frequent\") \n",
    "num_imputer = SimpleImputer(strategy=\"median\")"
   ]
  },
  {
   "cell_type": "code",
   "execution_count": null,
   "metadata": {
    "id": "zKOmVJqxXSLZ"
   },
   "outputs": [],
   "source": [
    "#Fit and tranform the two imputer on the train set \n",
    "train_cat_transformed = cat_imputer.fit_transform(trainset_categorical)\n",
    "train_num_transformed = num_imputer.fit_transform(trainset_numerical)\n",
    "\n",
    "#Transorm the test set \n",
    "test_cat_transformed = cat_imputer.transform(testset_categorical)\n",
    "test_num_transformed = num_imputer.transform(testset_numerical)"
   ]
  },
  {
   "cell_type": "code",
   "execution_count": null,
   "metadata": {
    "id": "dbpkXgHSXSLZ"
   },
   "outputs": [],
   "source": [
    "#Create the dataframes with the categorical and numerical variables with no missing values: both for train and test sets\n",
    "trainset_categorical = pd.DataFrame(train_cat_transformed, columns=categorical_features)\n",
    "trainset_numerical = pd.DataFrame(train_num_transformed, columns=numerical_features)\n",
    "\n",
    "testset_categorical = pd.DataFrame(test_cat_transformed , columns=categorical_features)\n",
    "testset_numerical = pd.DataFrame(test_num_transformed, columns=numerical_features)"
   ]
  },
  {
   "cell_type": "code",
   "execution_count": null,
   "metadata": {
    "colab": {
     "base_uri": "https://localhost:8080/"
    },
    "id": "5V3sKeZ-XSLZ",
    "outputId": "35d721ee-d506-4ac1-9749-2b87284fd5ad"
   },
   "outputs": [
    {
     "data": {
      "text/plain": [
       "Day_of_Week                   0\n",
       "Road_Type                     0\n",
       "Light_Conditions              0\n",
       "Weather_Conditions            0\n",
       "Road_Surface_Conditions       0\n",
       "Special_Conditions_at_Site    0\n",
       "Carriageway_Hazards           0\n",
       "Urban_or_Rural_Area           0\n",
       "season                        0\n",
       "Time_of_the_Day               0\n",
       "dtype: int64"
      ]
     },
     "execution_count": 65,
     "metadata": {
      "tags": []
     },
     "output_type": "execute_result"
    }
   ],
   "source": [
    "#Check nulls in the categorical train dataset\n",
    "trainset_categorical.isnull().sum() "
   ]
  },
  {
   "cell_type": "code",
   "execution_count": null,
   "metadata": {
    "colab": {
     "base_uri": "https://localhost:8080/"
    },
    "id": "_MsfwnlkXSLZ",
    "outputId": "964c9427-fe94-4e4f-9234-9d677dcbe252"
   },
   "outputs": [
    {
     "data": {
      "text/plain": [
       "Location_Easting_OSGR     0\n",
       "Location_Northing_OSGR    0\n",
       "Longitude                 0\n",
       "Latitude                  0\n",
       "Number_of_Vehicles        0\n",
       "Speed_limit               0\n",
       "dtype: int64"
      ]
     },
     "execution_count": 66,
     "metadata": {
      "tags": []
     },
     "output_type": "execute_result"
    }
   ],
   "source": [
    "#Check nulls in the numerical train dataset\n",
    "trainset_numerical.isnull().sum() "
   ]
  },
  {
   "cell_type": "markdown",
   "metadata": {
    "id": "5knBLh9tXSLZ"
   },
   "source": [
    "## Feature Engineering "
   ]
  },
  {
   "cell_type": "markdown",
   "metadata": {
    "id": "m58VpCcRUQ77"
   },
   "source": [
    "As concluded in the DEA part, some variables do not portray useful information to withdraw conclusions on the specific business problem being addressed here. This way, the following code will allow us to create variables and merge categories within variables to make sure any conclusions taken are more significant and sound."
   ]
  },
  {
   "cell_type": "markdown",
   "metadata": {
    "id": "hD5RplC1U2Ga"
   },
   "source": [
    "Starting with Carriageway Hazards. Create two new categories: Road Hazard and Carriageway Hazard to discern between specific conditions in either one of the categories. Each of them will include all the considerations encountered either in road or carriageway. This was, it is possible to outline focus areas to act upon and see their relevance to accident severity."
   ]
  },
  {
   "cell_type": "code",
   "execution_count": null,
   "metadata": {
    "colab": {
     "base_uri": "https://localhost:8080/"
    },
    "id": "edGorz7IXSLZ",
    "outputId": "5a6199f8-bbe2-4b4b-bf6b-26367f4b3ff3"
   },
   "outputs": [
    {
     "data": {
      "text/plain": [
       "None                                               92314\n",
       "Other object on road                                 816\n",
       "Any animal in carriageway (except ridden horse)      280\n",
       "Vehicle load on road                                 228\n",
       "Previous accident                                    174\n",
       "Pedestrian in carriageway - not injured              166\n",
       "Name: Carriageway_Hazards, dtype: int64"
      ]
     },
     "execution_count": 67,
     "metadata": {
      "tags": []
     },
     "output_type": "execute_result"
    }
   ],
   "source": [
    "#Check categories in the carriageway hazards variable\n",
    "trainset_categorical[\"Carriageway_Hazards\"].value_counts()"
   ]
  },
  {
   "cell_type": "code",
   "execution_count": null,
   "metadata": {
    "colab": {
     "base_uri": "https://localhost:8080/"
    },
    "id": "z6F0H30IVOe3",
    "outputId": "6be53c26-6395-4426-8f0e-d1661030a94b"
   },
   "outputs": [
    {
     "name": "stdout",
     "output_type": "stream",
     "text": [
      "train: None                  92488\n",
      "Road Hazard            1044\n",
      "Carriegeway Hazard      446\n",
      "Name: Hazards, dtype: int64\n",
      "\n",
      "\n",
      "test: None                  23110\n",
      "Road Hazard             261\n",
      "Carriegeway Hazard      124\n",
      "Name: Hazards, dtype: int64\n"
     ]
    }
   ],
   "source": [
    "def replace_Carriageway_Hazards(x): \n",
    "\n",
    "  #Replace all the values containg road with road hazard, \n",
    "  #Replace all the values containing carriegeway with carriegeway hazard\n",
    "  #Replace none to no \n",
    "    if (\"road\" or \"previous accident\") in x[\"Carriageway_Hazards\"]: \n",
    "        return \"Road Hazard\" \n",
    "    elif \"carriageway\" in x[\"Carriageway_Hazards\"]: \n",
    "        return \"Carriegeway Hazard\"\n",
    "    else: \n",
    "        return \"None\"\n",
    "\n",
    "#Apply the function to the Light Condition column \n",
    "trainset_categorical[\"Hazards\"] = trainset_categorical.apply(replace_Carriageway_Hazards, axis = 1)  \n",
    "testset_categorical[\"Hazards\"] = testset_categorical.apply(replace_Carriageway_Hazards, axis = 1)  \n",
    "\n",
    "\n",
    "#Check the train value \n",
    "print(f\"train: {trainset_categorical.Hazards.value_counts()}\")\n",
    "\n",
    "print(\"\")\n",
    "print(\"\")\n",
    "\n",
    "#Check the test value \n",
    "print(f\"test: {testset_categorical.Hazards.value_counts()}\")"
   ]
  },
  {
   "cell_type": "code",
   "execution_count": null,
   "metadata": {
    "id": "BuOG6CKyXSLa"
   },
   "outputs": [],
   "source": [
    "#Drop the carriageway hazards variable from both datasets\n",
    "trainset_categorical.drop([\"Carriageway_Hazards\"], axis = 1, inplace = True) \n",
    "testset_categorical.drop([\"Carriageway_Hazards\"], axis = 1, inplace = True) "
   ]
  },
  {
   "cell_type": "markdown",
   "metadata": {
    "id": "aoGm7flHU8_I"
   },
   "source": [
    "Weather conditions. Create two variables: one for winds and another for any kind of precipitation, rather than having everything mixed together. This gives us a real understanding of weather conditions at site and if they are related to accidents occuring as well as their severity."
   ]
  },
  {
   "cell_type": "code",
   "execution_count": null,
   "metadata": {
    "colab": {
     "base_uri": "https://localhost:8080/"
    },
    "id": "74sHZADbLuFn",
    "outputId": "21972d55-286e-4d3c-b0ce-a2484cf358c3"
   },
   "outputs": [
    {
     "data": {
      "text/plain": [
       "False    22980\n",
       "True       515\n",
       "Name: high_winds, dtype: int64"
      ]
     },
     "execution_count": 70,
     "metadata": {
      "tags": []
     },
     "output_type": "execute_result"
    }
   ],
   "source": [
    "# create a column called high winds\n",
    "def highwinds_converter(row):\n",
    "    \"\"\"      \n",
    "    Return True is high winds, False otherwise\n",
    "    \"\"\"\n",
    "    if (\"no high winds\" not in row[\"Weather_Conditions\"] and \"high winds\" in row[\"Weather_Conditions\"]): \n",
    "        return \"True\"\n",
    "    else: \n",
    "        return \"False\"\n",
    "\n",
    "#Apply the func on high winds \n",
    "trainset_categorical[\"high_winds\"] = trainset_categorical.apply(highwinds_converter, axis = 1)  \n",
    "testset_categorical[\"high_winds\"] = testset_categorical.apply(highwinds_converter, axis = 1)  \n",
    "\n",
    "#Check the values within high winds \n",
    "trainset_categorical[\"high_winds\"].value_counts()\n",
    "testset_categorical[\"high_winds\"].value_counts()"
   ]
  },
  {
   "cell_type": "code",
   "execution_count": null,
   "metadata": {
    "id": "oePMQiteLuY4"
   },
   "outputs": [],
   "source": [
    "# remove \"high winds\" from Weather_Conditions\n",
    "trainset_categorical[\"Weather_Conditions\"] = trainset_categorical[\"Weather_Conditions\"].str.replace(\" no high winds\", \"\")\n",
    "trainset_categorical[\"Weather_Conditions\"] = trainset_categorical[\"Weather_Conditions\"].str.replace(\" \\+ high winds\", \"\")\n",
    "\n",
    "testset_categorical[\"Weather_Conditions\"] = testset_categorical[\"Weather_Conditions\"].str.replace(\" no high winds\", \"\")\n",
    "testset_categorical[\"Weather_Conditions\"] = testset_categorical[\"Weather_Conditions\"].str.replace(\" \\+ high winds\", \"\")\n",
    "\n",
    "# rename Weather_Conditions to \"precipitation\"\n",
    "trainset_categorical= trainset_categorical.rename(columns={\"Weather_Conditions\": \"precipitation\"})\n",
    "testset_categorical= testset_categorical.rename(columns={\"Weather_Conditions\": \"precipitation\"})"
   ]
  },
  {
   "cell_type": "code",
   "execution_count": null,
   "metadata": {
    "colab": {
     "base_uri": "https://localhost:8080/"
    },
    "id": "ptue0JsmLuou",
    "outputId": "98c15416-2718-4f18-87cb-1dfc86c94955"
   },
   "outputs": [
    {
     "name": "stdout",
     "output_type": "stream",
     "text": [
      "<class 'pandas.core.frame.DataFrame'>\n",
      "RangeIndex: 93978 entries, 0 to 93977\n",
      "Data columns (total 11 columns):\n",
      " #   Column                      Non-Null Count  Dtype \n",
      "---  ------                      --------------  ----- \n",
      " 0   Day_of_Week                 93978 non-null  object\n",
      " 1   Road_Type                   93978 non-null  object\n",
      " 2   Light_Conditions            93978 non-null  object\n",
      " 3   precipitation               93978 non-null  object\n",
      " 4   Road_Surface_Conditions     93978 non-null  object\n",
      " 5   Special_Conditions_at_Site  93978 non-null  object\n",
      " 6   Urban_or_Rural_Area         93978 non-null  object\n",
      " 7   season                      93978 non-null  object\n",
      " 8   Time_of_the_Day             93978 non-null  object\n",
      " 9   Hazards                     93978 non-null  object\n",
      " 10  high_winds                  93978 non-null  object\n",
      "dtypes: object(11)\n",
      "memory usage: 7.9+ MB\n"
     ]
    }
   ],
   "source": [
    "#Check if changes were correctly accomplished\n",
    "trainset_categorical.info()"
   ]
  },
  {
   "cell_type": "markdown",
   "metadata": {
    "id": "gLGHN5ElVDNO"
   },
   "source": [
    "Special Conditions at site. Split into road defects and oil/mud. Regardless of the defect, we are interested in knowing if accidents are cause by road related conditions that are preventable, or other conditions that are out of the agency's control (like petro on the road)."
   ]
  },
  {
   "cell_type": "code",
   "execution_count": null,
   "metadata": {
    "colab": {
     "base_uri": "https://localhost:8080/"
    },
    "id": "bHl79PMdXSLa",
    "outputId": "f4c3c72f-9499-4d7f-aefb-0374eb729bc7"
   },
   "outputs": [
    {
     "data": {
      "text/plain": [
       "None                                          91946\n",
       "Roadworks                                      1061\n",
       "Mud                                             228\n",
       "Auto traffic signal - out                       220\n",
       "Road surface defective                          193\n",
       "Road sign or marking defective or obscured      153\n",
       "Oil or diesel                                   145\n",
       "Auto signal part defective                       32\n",
       "Name: Special_Conditions_at_Site, dtype: int64"
      ]
     },
     "execution_count": 73,
     "metadata": {
      "tags": []
     },
     "output_type": "execute_result"
    }
   ],
   "source": [
    "#Check categories in the special conditions at site variable\n",
    "trainset_categorical[\"Special_Conditions_at_Site\"].value_counts()"
   ]
  },
  {
   "cell_type": "code",
   "execution_count": null,
   "metadata": {
    "colab": {
     "base_uri": "https://localhost:8080/"
    },
    "id": "AC9Mmqn8XSLa",
    "outputId": "25c70f51-b53a-4a5f-8e40-65eb3c147adb"
   },
   "outputs": [
    {
     "name": "stdout",
     "output_type": "stream",
     "text": [
      "train: None             91946\n",
      "Road Defect       1804\n",
      "Mud or Petrol      228\n",
      "Name: Special_Conditions_at_Site, dtype: int64\n",
      "\n",
      "\n",
      "test: None             22970\n",
      "Road Defect        458\n",
      "Mud or Petrol       67\n",
      "Name: Special_Conditions_at_Site, dtype: int64\n"
     ]
    }
   ],
   "source": [
    "def replace_Special_Conditions_at_Site(x): \n",
    "\n",
    "  #Replace all the values containing mud or oil and diesel in mud or petrol  \n",
    "  #Replace all the values related to road defect in road defect \n",
    "  #Keep everithing else the same as it is \n",
    "\n",
    "    if \"None\" in x[\"Special_Conditions_at_Site\"]: \n",
    "        return \"None\" \n",
    "    elif (\"Mud\" or \"Oil or Diesel\") in x[\"Special_Conditions_at_Site\"]: \n",
    "        return \"Mud or Petrol\"\n",
    "    else: \n",
    "        return \"Road Defect\"\n",
    "\n",
    "#Apply the function to the Light Condition column \n",
    "trainset_categorical[\"Special_Conditions_at_Site\"] = trainset_categorical.apply(replace_Special_Conditions_at_Site, axis = 1)  \n",
    "testset_categorical[\"Special_Conditions_at_Site\"] = testset_categorical.apply(replace_Special_Conditions_at_Site, axis = 1)  \n",
    "\n",
    "\n",
    "#Check the value \n",
    "print(f\"train: {trainset_categorical.Special_Conditions_at_Site.value_counts()}\")\n",
    "\n",
    "print(\"\")\n",
    "print(\"\")\n",
    "\n",
    "print(f\"test: {testset_categorical.Special_Conditions_at_Site.value_counts()}\")\n"
   ]
  },
  {
   "cell_type": "markdown",
   "metadata": {
    "id": "Un3yKdNeVG_x"
   },
   "source": [
    "Road Surface conditions. More concised categories were created. Water includes flooding (as this is quite neglectable within the dataset) and wet and snow will include frost and snow due to their similarity."
   ]
  },
  {
   "cell_type": "code",
   "execution_count": null,
   "metadata": {
    "colab": {
     "base_uri": "https://localhost:8080/"
    },
    "id": "K479JA7kXSLa",
    "outputId": "43fee5dc-ac21-44e2-cc92-fc37484d4bbc"
   },
   "outputs": [
    {
     "data": {
      "text/plain": [
       "Dry                     0.712358\n",
       "Wet or damp             0.273905\n",
       "Frost or ice            0.010205\n",
       "Snow                    0.002054\n",
       "Flood over 3cm. deep    0.001479\n",
       "Name: Road_Surface_Conditions, dtype: float64"
      ]
     },
     "execution_count": 75,
     "metadata": {
      "tags": []
     },
     "output_type": "execute_result"
    }
   ],
   "source": [
    "#Check categories in the road surface conditions variable\n",
    "trainset_categorical[\"Road_Surface_Conditions\"].value_counts(normalize=True)"
   ]
  },
  {
   "cell_type": "code",
   "execution_count": null,
   "metadata": {
    "colab": {
     "base_uri": "https://localhost:8080/"
    },
    "id": "yueGggoVXSLb",
    "outputId": "e387847c-91ca-49a2-d2e8-0b08cde7d273"
   },
   "outputs": [
    {
     "name": "stdout",
     "output_type": "stream",
     "text": [
      "train: Dry      68044\n",
      "Water    25741\n",
      "Snow       193\n",
      "Name: Road_Surface_Conditions, dtype: int64\n",
      "\n",
      "\n",
      "test: Dry      16943\n",
      "Water     6500\n",
      "Snow        52\n",
      "Name: Road_Surface_Conditions, dtype: int64\n"
     ]
    }
   ],
   "source": [
    "def replace_Road_Surface_Conditions(x): \n",
    "\n",
    "  #Replace all the values containing mud or oil and diesel in mud or petrol  \n",
    "  #Replace all the values related to road defect in road defect \n",
    "  #Keep everithing else the same as it is \n",
    "\n",
    "    if (\"Wet\" or \"Flood\") in x[\"Road_Surface_Conditions\"]: \n",
    "        return \"Water\" \n",
    "    elif (\"Snow\" or \"Frost\") in x[\"Road_Surface_Conditions\"]: \n",
    "        return \"Snow\"\n",
    "    else: \n",
    "        return \"Dry\"\n",
    "\n",
    "#Apply the function to the Light Condition column \n",
    "trainset_categorical[\"Road_Surface_Conditions\"] = trainset_categorical.apply(replace_Road_Surface_Conditions, axis = 1)  \n",
    "testset_categorical[\"Road_Surface_Conditions\"] = testset_categorical.apply(replace_Road_Surface_Conditions, axis = 1)  \n",
    "\n",
    "\n",
    "#Check the value \n",
    "print(f\"train: {trainset_categorical.Road_Surface_Conditions.value_counts()}\")\n",
    "\n",
    "print(\"\")\n",
    "print(\"\")\n",
    "\n",
    "print(f\"test: {testset_categorical.Road_Surface_Conditions.value_counts()}\")\n"
   ]
  },
  {
   "cell_type": "markdown",
   "metadata": {
    "id": "8p3ft2DiXSLb"
   },
   "source": [
    "## One Hot Encoding "
   ]
  },
  {
   "cell_type": "markdown",
   "metadata": {
    "id": "gfAYZf_CXIZa"
   },
   "source": [
    "Once the data is all cleaned and ready for model creation, it is necessary to make one extra step: Creating dummis for all the categorical variables to be used in the modeling part of the work. One Hot Encoder will be used to generate those dummy variables.\r\n",
    "Note: Because some variables were created previously and others were dropped, the list of categorical features was updated to include these changes."
   ]
  },
  {
   "cell_type": "code",
   "execution_count": null,
   "metadata": {
    "id": "NyuQ6dDYXSLb"
   },
   "outputs": [],
   "source": [
    "#Add Hazards to the categorical features list \n",
    "categorical_features.append(\"Hazards\")\n",
    "categorical_features.append(\"precipitation\")\n",
    "\n",
    "#Remove Carriageway Hazards from the list \n",
    "categorical_features.remove(\"Carriageway_Hazards\")\n",
    "categorical_features.remove(\"Weather_Conditions\")"
   ]
  },
  {
   "cell_type": "code",
   "execution_count": null,
   "metadata": {
    "colab": {
     "base_uri": "https://localhost:8080/"
    },
    "id": "Bord716pXSLb",
    "outputId": "10774cc8-f488-4bdc-f6d4-8481391fd512"
   },
   "outputs": [
    {
     "data": {
      "text/plain": [
       "['Day_of_Week',\n",
       " 'Road_Type',\n",
       " 'Light_Conditions',\n",
       " 'Road_Surface_Conditions',\n",
       " 'Special_Conditions_at_Site',\n",
       " 'Urban_or_Rural_Area',\n",
       " 'season',\n",
       " 'Time_of_the_Day',\n",
       " 'Hazards',\n",
       " 'precipitation']"
      ]
     },
     "execution_count": 78,
     "metadata": {
      "tags": []
     },
     "output_type": "execute_result"
    }
   ],
   "source": [
    "#Check if the list was updated\r\n",
    "categorical_features"
   ]
  },
  {
   "cell_type": "code",
   "execution_count": null,
   "metadata": {
    "id": "lqGxBfyyXSLb"
   },
   "outputs": [],
   "source": [
    "def get_dummies(train_set, test_set, old_col_name):\n",
    "    \"\"\"Given a trainset, a testset, and the name of a column holding a \n",
    "    categorical variable, fit an encoder on the trainset, and use the \n",
    "    encoder to add dummy columns into the trainset and testset\n",
    "    \"\"\"\n",
    "    # To avoid multicollinearity, use drop=\"first\"\n",
    "    one_hot_encoder = OneHotEncoder(drop=\"first\", sparse=False)\n",
    "    \n",
    "    # the input to the encoder must be a 2-d numpy array,\n",
    "    # so we take the column, extract their values and reshape the array to be 2-d\n",
    "    cat_vals = train_set[old_col_name].values.reshape(-1,1)\n",
    "\n",
    "    # fit an encoder and transform the **trainset**\n",
    "    \n",
    "    # the output is a new numpy array\n",
    "    transformed = one_hot_encoder.fit_transform(cat_vals)\n",
    "    \n",
    "    # in the list of new columns, convert numpy array to a list and\n",
    "    # drop the first column, because we requested \"drop='first'\"\n",
    "    new_col_names = one_hot_encoder.categories_[0].tolist()[1:]\n",
    "    \n",
    "    for i, new_col_name in enumerate(new_col_names):\n",
    "        \n",
    "        # put the transformed data as columns in the trainset dataframe\n",
    "        train_set[new_col_name] = transformed[:,i]\n",
    "    \n",
    "    # transform the **testset** using the fitted encoder\n",
    "    \n",
    "    cat_vals = test_set[old_col_name].values.reshape(-1,1)\n",
    "    transformed = one_hot_encoder.transform(cat_vals)\n",
    "\n",
    "    for i, new_col_name in enumerate(new_col_names):\n",
    "        \n",
    "        # put the transformed data as columns in the trainset dataframe\n",
    "        test_set[new_col_name] = transformed[:,i]\n",
    "    \n",
    "    return train_set, test_set"
   ]
  },
  {
   "cell_type": "code",
   "execution_count": null,
   "metadata": {
    "id": "ry40e6IuXSLb"
   },
   "outputs": [],
   "source": [
    "#apply the one hot encoder to every categorical variable in the dataset to get dummies\n",
    "for variable in categorical_features:\n",
    "    train_cat_dummy, test_cat_dummy =  get_dummies(trainset_categorical, testset_categorical, variable)"
   ]
  },
  {
   "cell_type": "code",
   "execution_count": null,
   "metadata": {
    "id": "8Wn4XfgkXSLb"
   },
   "outputs": [],
   "source": [
    "#Delete the original categorical variable columns\n",
    "for col_name in categorical_features:\n",
    "    del train_cat_dummy[col_name]\n",
    "    del test_cat_dummy[col_name]"
   ]
  },
  {
   "cell_type": "code",
   "execution_count": null,
   "metadata": {
    "colab": {
     "base_uri": "https://localhost:8080/",
     "height": 258
    },
    "id": "_1FZREEaXSLc",
    "outputId": "90f78474-a025-4fab-d30e-deec9e8ebcab"
   },
   "outputs": [
    {
     "data": {
      "text/html": [
       "<div>\n",
       "<style scoped>\n",
       "    .dataframe tbody tr th:only-of-type {\n",
       "        vertical-align: middle;\n",
       "    }\n",
       "\n",
       "    .dataframe tbody tr th {\n",
       "        vertical-align: top;\n",
       "    }\n",
       "\n",
       "    .dataframe thead th {\n",
       "        text-align: right;\n",
       "    }\n",
       "</style>\n",
       "<table border=\"1\" class=\"dataframe\">\n",
       "  <thead>\n",
       "    <tr style=\"text-align: right;\">\n",
       "      <th></th>\n",
       "      <th>high_winds</th>\n",
       "      <th>Monday</th>\n",
       "      <th>Saturday</th>\n",
       "      <th>Sunday</th>\n",
       "      <th>Thursday</th>\n",
       "      <th>Tuesday</th>\n",
       "      <th>Wednsday</th>\n",
       "      <th>One way street</th>\n",
       "      <th>Roundabout</th>\n",
       "      <th>Single carriageway</th>\n",
       "      <th>Slip road</th>\n",
       "      <th>Darkness - No lighting</th>\n",
       "      <th>Daylight</th>\n",
       "      <th>Snow</th>\n",
       "      <th>Water</th>\n",
       "      <th>None</th>\n",
       "      <th>Road Defect</th>\n",
       "      <th>Urban</th>\n",
       "      <th>Spring</th>\n",
       "      <th>Summer</th>\n",
       "      <th>Winter</th>\n",
       "      <th>Morning</th>\n",
       "      <th>Night</th>\n",
       "      <th>Road Hazard</th>\n",
       "      <th>Fog or mist</th>\n",
       "      <th>Other</th>\n",
       "      <th>Raining</th>\n",
       "      <th>Snowing</th>\n",
       "    </tr>\n",
       "  </thead>\n",
       "  <tbody>\n",
       "    <tr>\n",
       "      <th>0</th>\n",
       "      <td>True</td>\n",
       "      <td>0.0</td>\n",
       "      <td>0.0</td>\n",
       "      <td>0.0</td>\n",
       "      <td>0.0</td>\n",
       "      <td>0.0</td>\n",
       "      <td>1.0</td>\n",
       "      <td>0.0</td>\n",
       "      <td>0.0</td>\n",
       "      <td>1.0</td>\n",
       "      <td>0.0</td>\n",
       "      <td>1.0</td>\n",
       "      <td>0.0</td>\n",
       "      <td>0.0</td>\n",
       "      <td>1.0</td>\n",
       "      <td>1.0</td>\n",
       "      <td>0.0</td>\n",
       "      <td>1.0</td>\n",
       "      <td>0.0</td>\n",
       "      <td>0.0</td>\n",
       "      <td>1.0</td>\n",
       "      <td>1.0</td>\n",
       "      <td>0.0</td>\n",
       "      <td>0.0</td>\n",
       "      <td>0.0</td>\n",
       "      <td>0.0</td>\n",
       "      <td>1.0</td>\n",
       "      <td>0.0</td>\n",
       "    </tr>\n",
       "    <tr>\n",
       "      <th>1</th>\n",
       "      <td>False</td>\n",
       "      <td>0.0</td>\n",
       "      <td>1.0</td>\n",
       "      <td>0.0</td>\n",
       "      <td>0.0</td>\n",
       "      <td>0.0</td>\n",
       "      <td>0.0</td>\n",
       "      <td>0.0</td>\n",
       "      <td>0.0</td>\n",
       "      <td>1.0</td>\n",
       "      <td>0.0</td>\n",
       "      <td>0.0</td>\n",
       "      <td>0.0</td>\n",
       "      <td>0.0</td>\n",
       "      <td>0.0</td>\n",
       "      <td>1.0</td>\n",
       "      <td>0.0</td>\n",
       "      <td>1.0</td>\n",
       "      <td>0.0</td>\n",
       "      <td>1.0</td>\n",
       "      <td>0.0</td>\n",
       "      <td>0.0</td>\n",
       "      <td>1.0</td>\n",
       "      <td>0.0</td>\n",
       "      <td>0.0</td>\n",
       "      <td>0.0</td>\n",
       "      <td>0.0</td>\n",
       "      <td>0.0</td>\n",
       "    </tr>\n",
       "    <tr>\n",
       "      <th>2</th>\n",
       "      <td>False</td>\n",
       "      <td>0.0</td>\n",
       "      <td>0.0</td>\n",
       "      <td>0.0</td>\n",
       "      <td>0.0</td>\n",
       "      <td>0.0</td>\n",
       "      <td>1.0</td>\n",
       "      <td>0.0</td>\n",
       "      <td>0.0</td>\n",
       "      <td>1.0</td>\n",
       "      <td>0.0</td>\n",
       "      <td>0.0</td>\n",
       "      <td>1.0</td>\n",
       "      <td>0.0</td>\n",
       "      <td>0.0</td>\n",
       "      <td>1.0</td>\n",
       "      <td>0.0</td>\n",
       "      <td>1.0</td>\n",
       "      <td>0.0</td>\n",
       "      <td>0.0</td>\n",
       "      <td>1.0</td>\n",
       "      <td>1.0</td>\n",
       "      <td>0.0</td>\n",
       "      <td>0.0</td>\n",
       "      <td>0.0</td>\n",
       "      <td>0.0</td>\n",
       "      <td>0.0</td>\n",
       "      <td>0.0</td>\n",
       "    </tr>\n",
       "    <tr>\n",
       "      <th>3</th>\n",
       "      <td>False</td>\n",
       "      <td>1.0</td>\n",
       "      <td>0.0</td>\n",
       "      <td>0.0</td>\n",
       "      <td>0.0</td>\n",
       "      <td>0.0</td>\n",
       "      <td>0.0</td>\n",
       "      <td>0.0</td>\n",
       "      <td>0.0</td>\n",
       "      <td>1.0</td>\n",
       "      <td>0.0</td>\n",
       "      <td>0.0</td>\n",
       "      <td>1.0</td>\n",
       "      <td>0.0</td>\n",
       "      <td>0.0</td>\n",
       "      <td>1.0</td>\n",
       "      <td>0.0</td>\n",
       "      <td>1.0</td>\n",
       "      <td>0.0</td>\n",
       "      <td>1.0</td>\n",
       "      <td>0.0</td>\n",
       "      <td>0.0</td>\n",
       "      <td>0.0</td>\n",
       "      <td>0.0</td>\n",
       "      <td>0.0</td>\n",
       "      <td>0.0</td>\n",
       "      <td>0.0</td>\n",
       "      <td>0.0</td>\n",
       "    </tr>\n",
       "    <tr>\n",
       "      <th>4</th>\n",
       "      <td>False</td>\n",
       "      <td>0.0</td>\n",
       "      <td>0.0</td>\n",
       "      <td>0.0</td>\n",
       "      <td>0.0</td>\n",
       "      <td>1.0</td>\n",
       "      <td>0.0</td>\n",
       "      <td>0.0</td>\n",
       "      <td>0.0</td>\n",
       "      <td>1.0</td>\n",
       "      <td>0.0</td>\n",
       "      <td>0.0</td>\n",
       "      <td>1.0</td>\n",
       "      <td>0.0</td>\n",
       "      <td>1.0</td>\n",
       "      <td>1.0</td>\n",
       "      <td>0.0</td>\n",
       "      <td>0.0</td>\n",
       "      <td>0.0</td>\n",
       "      <td>1.0</td>\n",
       "      <td>0.0</td>\n",
       "      <td>0.0</td>\n",
       "      <td>0.0</td>\n",
       "      <td>0.0</td>\n",
       "      <td>0.0</td>\n",
       "      <td>0.0</td>\n",
       "      <td>1.0</td>\n",
       "      <td>0.0</td>\n",
       "    </tr>\n",
       "  </tbody>\n",
       "</table>\n",
       "</div>"
      ],
      "text/plain": [
       "  high_winds  Monday  Saturday  Sunday  ...  Fog or mist  Other  Raining  Snowing\n",
       "0       True     0.0       0.0     0.0  ...          0.0    0.0      1.0      0.0\n",
       "1      False     0.0       1.0     0.0  ...          0.0    0.0      0.0      0.0\n",
       "2      False     0.0       0.0     0.0  ...          0.0    0.0      0.0      0.0\n",
       "3      False     1.0       0.0     0.0  ...          0.0    0.0      0.0      0.0\n",
       "4      False     0.0       0.0     0.0  ...          0.0    0.0      1.0      0.0\n",
       "\n",
       "[5 rows x 28 columns]"
      ]
     },
     "execution_count": 82,
     "metadata": {
      "tags": []
     },
     "output_type": "execute_result"
    }
   ],
   "source": [
    "#Check if dummies were corrctly obtained\r\n",
    "train_cat_dummy.head()"
   ]
  },
  {
   "cell_type": "markdown",
   "metadata": {
    "id": "xiuQhPu7XSLc"
   },
   "source": [
    "## Scaling Numerical Features"
   ]
  },
  {
   "cell_type": "markdown",
   "metadata": {
    "id": "I8VqUV3Sufq8"
   },
   "source": [
    "The last preprocessing technique we will need to apply would be to scaling the features. Indeed, we have seen in the EDA section the wideness on the minumum and maximum values of our numerical features. Hence, it will be beneficial for our model to recscale those features. "
   ]
  },
  {
   "cell_type": "code",
   "execution_count": null,
   "metadata": {
    "id": "_k8P5DDhXSLc"
   },
   "outputs": [],
   "source": [
    "#Instantiate the scaler \n",
    "robust_scaler = RobustScaler()"
   ]
  },
  {
   "cell_type": "code",
   "execution_count": null,
   "metadata": {
    "id": "2NGoUdtSXSLc"
   },
   "outputs": [],
   "source": [
    "#Fit and tranform the two imputer on the train set \n",
    "train_num_scaled = robust_scaler.fit_transform(trainset_numerical)\n",
    "\n",
    "#Transorm the test set \n",
    "test_num_scaled = robust_scaler.transform(testset_numerical)"
   ]
  },
  {
   "cell_type": "markdown",
   "metadata": {
    "id": "3cTEMB2aXQBv"
   },
   "source": [
    "## Final Training and Testing set "
   ]
  },
  {
   "cell_type": "markdown",
   "metadata": {
    "id": "_mEbmx2Zzgeg"
   },
   "source": [
    "At this point, we will join the variables (categorical and numerical) into two datasets: final_trainset and final_testset."
   ]
  },
  {
   "cell_type": "code",
   "execution_count": null,
   "metadata": {
    "id": "jlMvPxM8XSLc"
   },
   "outputs": [],
   "source": [
    "# Get the final train and test sets for numerical variables\n",
    "trainset_numerical = pd.DataFrame(train_num_scaled, columns= numerical_features)\n",
    "\n",
    "testset_numerical = pd.DataFrame(test_num_scaled, columns= numerical_features)"
   ]
  },
  {
   "cell_type": "code",
   "execution_count": null,
   "metadata": {
    "id": "vJ6CtMXuXSLc"
   },
   "outputs": [],
   "source": [
    "# Get the final train and test sets by joining the numerical and categorical sets of data fully transformed\n",
    "final_trainset_transormed = pd.concat([trainset_numerical, train_cat_dummy], axis = 1) \n",
    "\n",
    "final_testset_transormed = pd.concat([testset_numerical, test_cat_dummy], axis = 1) "
   ]
  },
  {
   "cell_type": "code",
   "execution_count": null,
   "metadata": {
    "colab": {
     "base_uri": "https://localhost:8080/",
     "height": 258
    },
    "id": "LIdagE9MXSLc",
    "outputId": "f014a9b9-d5e2-4a0a-ff35-e5d054c67002"
   },
   "outputs": [
    {
     "data": {
      "text/html": [
       "<div>\n",
       "<style scoped>\n",
       "    .dataframe tbody tr th:only-of-type {\n",
       "        vertical-align: middle;\n",
       "    }\n",
       "\n",
       "    .dataframe tbody tr th {\n",
       "        vertical-align: top;\n",
       "    }\n",
       "\n",
       "    .dataframe thead th {\n",
       "        text-align: right;\n",
       "    }\n",
       "</style>\n",
       "<table border=\"1\" class=\"dataframe\">\n",
       "  <thead>\n",
       "    <tr style=\"text-align: right;\">\n",
       "      <th></th>\n",
       "      <th>Location_Easting_OSGR</th>\n",
       "      <th>Location_Northing_OSGR</th>\n",
       "      <th>Longitude</th>\n",
       "      <th>Latitude</th>\n",
       "      <th>Number_of_Vehicles</th>\n",
       "      <th>Speed_limit</th>\n",
       "      <th>high_winds</th>\n",
       "      <th>Monday</th>\n",
       "      <th>Saturday</th>\n",
       "      <th>Sunday</th>\n",
       "      <th>Thursday</th>\n",
       "      <th>Tuesday</th>\n",
       "      <th>Wednsday</th>\n",
       "      <th>One way street</th>\n",
       "      <th>Roundabout</th>\n",
       "      <th>Single carriageway</th>\n",
       "      <th>Slip road</th>\n",
       "      <th>Darkness - No lighting</th>\n",
       "      <th>Daylight</th>\n",
       "      <th>Snow</th>\n",
       "      <th>Water</th>\n",
       "      <th>None</th>\n",
       "      <th>Road Defect</th>\n",
       "      <th>Urban</th>\n",
       "      <th>Spring</th>\n",
       "      <th>Summer</th>\n",
       "      <th>Winter</th>\n",
       "      <th>Morning</th>\n",
       "      <th>Night</th>\n",
       "      <th>Road Hazard</th>\n",
       "      <th>Fog or mist</th>\n",
       "      <th>Other</th>\n",
       "      <th>Raining</th>\n",
       "      <th>Snowing</th>\n",
       "    </tr>\n",
       "  </thead>\n",
       "  <tbody>\n",
       "    <tr>\n",
       "      <th>0</th>\n",
       "      <td>-1.442574</td>\n",
       "      <td>2.079796</td>\n",
       "      <td>-1.556315</td>\n",
       "      <td>2.064596</td>\n",
       "      <td>-1.0</td>\n",
       "      <td>0.0</td>\n",
       "      <td>True</td>\n",
       "      <td>0.0</td>\n",
       "      <td>0.0</td>\n",
       "      <td>0.0</td>\n",
       "      <td>0.0</td>\n",
       "      <td>0.0</td>\n",
       "      <td>1.0</td>\n",
       "      <td>0.0</td>\n",
       "      <td>0.0</td>\n",
       "      <td>1.0</td>\n",
       "      <td>0.0</td>\n",
       "      <td>1.0</td>\n",
       "      <td>0.0</td>\n",
       "      <td>0.0</td>\n",
       "      <td>1.0</td>\n",
       "      <td>1.0</td>\n",
       "      <td>0.0</td>\n",
       "      <td>1.0</td>\n",
       "      <td>0.0</td>\n",
       "      <td>0.0</td>\n",
       "      <td>1.0</td>\n",
       "      <td>1.0</td>\n",
       "      <td>0.0</td>\n",
       "      <td>0.0</td>\n",
       "      <td>0.0</td>\n",
       "      <td>0.0</td>\n",
       "      <td>1.0</td>\n",
       "      <td>0.0</td>\n",
       "    </tr>\n",
       "    <tr>\n",
       "      <th>1</th>\n",
       "      <td>0.370081</td>\n",
       "      <td>1.005455</td>\n",
       "      <td>0.398955</td>\n",
       "      <td>1.001380</td>\n",
       "      <td>-1.0</td>\n",
       "      <td>-1.0</td>\n",
       "      <td>False</td>\n",
       "      <td>0.0</td>\n",
       "      <td>1.0</td>\n",
       "      <td>0.0</td>\n",
       "      <td>0.0</td>\n",
       "      <td>0.0</td>\n",
       "      <td>0.0</td>\n",
       "      <td>0.0</td>\n",
       "      <td>0.0</td>\n",
       "      <td>1.0</td>\n",
       "      <td>0.0</td>\n",
       "      <td>0.0</td>\n",
       "      <td>0.0</td>\n",
       "      <td>0.0</td>\n",
       "      <td>0.0</td>\n",
       "      <td>1.0</td>\n",
       "      <td>0.0</td>\n",
       "      <td>1.0</td>\n",
       "      <td>0.0</td>\n",
       "      <td>1.0</td>\n",
       "      <td>0.0</td>\n",
       "      <td>0.0</td>\n",
       "      <td>1.0</td>\n",
       "      <td>0.0</td>\n",
       "      <td>0.0</td>\n",
       "      <td>0.0</td>\n",
       "      <td>0.0</td>\n",
       "      <td>0.0</td>\n",
       "    </tr>\n",
       "    <tr>\n",
       "      <th>2</th>\n",
       "      <td>-0.698771</td>\n",
       "      <td>-0.202495</td>\n",
       "      <td>-0.706757</td>\n",
       "      <td>-0.194844</td>\n",
       "      <td>-1.0</td>\n",
       "      <td>0.0</td>\n",
       "      <td>False</td>\n",
       "      <td>0.0</td>\n",
       "      <td>0.0</td>\n",
       "      <td>0.0</td>\n",
       "      <td>0.0</td>\n",
       "      <td>0.0</td>\n",
       "      <td>1.0</td>\n",
       "      <td>0.0</td>\n",
       "      <td>0.0</td>\n",
       "      <td>1.0</td>\n",
       "      <td>0.0</td>\n",
       "      <td>0.0</td>\n",
       "      <td>1.0</td>\n",
       "      <td>0.0</td>\n",
       "      <td>0.0</td>\n",
       "      <td>1.0</td>\n",
       "      <td>0.0</td>\n",
       "      <td>1.0</td>\n",
       "      <td>0.0</td>\n",
       "      <td>0.0</td>\n",
       "      <td>1.0</td>\n",
       "      <td>1.0</td>\n",
       "      <td>0.0</td>\n",
       "      <td>0.0</td>\n",
       "      <td>0.0</td>\n",
       "      <td>0.0</td>\n",
       "      <td>0.0</td>\n",
       "      <td>0.0</td>\n",
       "    </tr>\n",
       "    <tr>\n",
       "      <th>3</th>\n",
       "      <td>0.560456</td>\n",
       "      <td>-0.225449</td>\n",
       "      <td>0.545707</td>\n",
       "      <td>-0.225843</td>\n",
       "      <td>1.0</td>\n",
       "      <td>-1.0</td>\n",
       "      <td>False</td>\n",
       "      <td>1.0</td>\n",
       "      <td>0.0</td>\n",
       "      <td>0.0</td>\n",
       "      <td>0.0</td>\n",
       "      <td>0.0</td>\n",
       "      <td>0.0</td>\n",
       "      <td>0.0</td>\n",
       "      <td>0.0</td>\n",
       "      <td>1.0</td>\n",
       "      <td>0.0</td>\n",
       "      <td>0.0</td>\n",
       "      <td>1.0</td>\n",
       "      <td>0.0</td>\n",
       "      <td>0.0</td>\n",
       "      <td>1.0</td>\n",
       "      <td>0.0</td>\n",
       "      <td>1.0</td>\n",
       "      <td>0.0</td>\n",
       "      <td>1.0</td>\n",
       "      <td>0.0</td>\n",
       "      <td>0.0</td>\n",
       "      <td>0.0</td>\n",
       "      <td>0.0</td>\n",
       "      <td>0.0</td>\n",
       "      <td>0.0</td>\n",
       "      <td>0.0</td>\n",
       "      <td>0.0</td>\n",
       "    </tr>\n",
       "    <tr>\n",
       "      <th>4</th>\n",
       "      <td>0.373136</td>\n",
       "      <td>0.722523</td>\n",
       "      <td>0.391836</td>\n",
       "      <td>0.720016</td>\n",
       "      <td>-1.0</td>\n",
       "      <td>3.0</td>\n",
       "      <td>False</td>\n",
       "      <td>0.0</td>\n",
       "      <td>0.0</td>\n",
       "      <td>0.0</td>\n",
       "      <td>0.0</td>\n",
       "      <td>1.0</td>\n",
       "      <td>0.0</td>\n",
       "      <td>0.0</td>\n",
       "      <td>0.0</td>\n",
       "      <td>1.0</td>\n",
       "      <td>0.0</td>\n",
       "      <td>0.0</td>\n",
       "      <td>1.0</td>\n",
       "      <td>0.0</td>\n",
       "      <td>1.0</td>\n",
       "      <td>1.0</td>\n",
       "      <td>0.0</td>\n",
       "      <td>0.0</td>\n",
       "      <td>0.0</td>\n",
       "      <td>1.0</td>\n",
       "      <td>0.0</td>\n",
       "      <td>0.0</td>\n",
       "      <td>0.0</td>\n",
       "      <td>0.0</td>\n",
       "      <td>0.0</td>\n",
       "      <td>0.0</td>\n",
       "      <td>1.0</td>\n",
       "      <td>0.0</td>\n",
       "    </tr>\n",
       "  </tbody>\n",
       "</table>\n",
       "</div>"
      ],
      "text/plain": [
       "   Location_Easting_OSGR  Location_Northing_OSGR  ...  Raining  Snowing\n",
       "0              -1.442574                2.079796  ...      1.0      0.0\n",
       "1               0.370081                1.005455  ...      0.0      0.0\n",
       "2              -0.698771               -0.202495  ...      0.0      0.0\n",
       "3               0.560456               -0.225449  ...      0.0      0.0\n",
       "4               0.373136                0.722523  ...      1.0      0.0\n",
       "\n",
       "[5 rows x 34 columns]"
      ]
     },
     "execution_count": 87,
     "metadata": {
      "tags": []
     },
     "output_type": "execute_result"
    }
   ],
   "source": [
    "# Check if the final trainset is fully operational\r\n",
    "final_trainset_transormed.head()"
   ]
  },
  {
   "cell_type": "code",
   "execution_count": null,
   "metadata": {
    "colab": {
     "base_uri": "https://localhost:8080/",
     "height": 258
    },
    "id": "Kgrp-hvbXSLc",
    "outputId": "0685d9ce-677b-4a9e-9b77-3f7ac281ead0"
   },
   "outputs": [
    {
     "data": {
      "text/html": [
       "<div>\n",
       "<style scoped>\n",
       "    .dataframe tbody tr th:only-of-type {\n",
       "        vertical-align: middle;\n",
       "    }\n",
       "\n",
       "    .dataframe tbody tr th {\n",
       "        vertical-align: top;\n",
       "    }\n",
       "\n",
       "    .dataframe thead th {\n",
       "        text-align: right;\n",
       "    }\n",
       "</style>\n",
       "<table border=\"1\" class=\"dataframe\">\n",
       "  <thead>\n",
       "    <tr style=\"text-align: right;\">\n",
       "      <th></th>\n",
       "      <th>Location_Easting_OSGR</th>\n",
       "      <th>Location_Northing_OSGR</th>\n",
       "      <th>Longitude</th>\n",
       "      <th>Latitude</th>\n",
       "      <th>Number_of_Vehicles</th>\n",
       "      <th>Speed_limit</th>\n",
       "      <th>high_winds</th>\n",
       "      <th>Monday</th>\n",
       "      <th>Saturday</th>\n",
       "      <th>Sunday</th>\n",
       "      <th>Thursday</th>\n",
       "      <th>Tuesday</th>\n",
       "      <th>Wednsday</th>\n",
       "      <th>One way street</th>\n",
       "      <th>Roundabout</th>\n",
       "      <th>Single carriageway</th>\n",
       "      <th>Slip road</th>\n",
       "      <th>Darkness - No lighting</th>\n",
       "      <th>Daylight</th>\n",
       "      <th>Snow</th>\n",
       "      <th>Water</th>\n",
       "      <th>None</th>\n",
       "      <th>Road Defect</th>\n",
       "      <th>Urban</th>\n",
       "      <th>Spring</th>\n",
       "      <th>Summer</th>\n",
       "      <th>Winter</th>\n",
       "      <th>Morning</th>\n",
       "      <th>Night</th>\n",
       "      <th>Road Hazard</th>\n",
       "      <th>Fog or mist</th>\n",
       "      <th>Other</th>\n",
       "      <th>Raining</th>\n",
       "      <th>Snowing</th>\n",
       "    </tr>\n",
       "  </thead>\n",
       "  <tbody>\n",
       "    <tr>\n",
       "      <th>0</th>\n",
       "      <td>0.551709</td>\n",
       "      <td>-0.174657</td>\n",
       "      <td>0.539034</td>\n",
       "      <td>-0.175172</td>\n",
       "      <td>0.0</td>\n",
       "      <td>-1.0</td>\n",
       "      <td>False</td>\n",
       "      <td>0.0</td>\n",
       "      <td>0.0</td>\n",
       "      <td>1.0</td>\n",
       "      <td>0.0</td>\n",
       "      <td>0.0</td>\n",
       "      <td>0.0</td>\n",
       "      <td>0.0</td>\n",
       "      <td>0.0</td>\n",
       "      <td>1.0</td>\n",
       "      <td>0.0</td>\n",
       "      <td>0.0</td>\n",
       "      <td>0.0</td>\n",
       "      <td>0.0</td>\n",
       "      <td>1.0</td>\n",
       "      <td>1.0</td>\n",
       "      <td>0.0</td>\n",
       "      <td>1.0</td>\n",
       "      <td>0.0</td>\n",
       "      <td>0.0</td>\n",
       "      <td>1.0</td>\n",
       "      <td>0.0</td>\n",
       "      <td>1.0</td>\n",
       "      <td>0.0</td>\n",
       "      <td>0.0</td>\n",
       "      <td>0.0</td>\n",
       "      <td>0.0</td>\n",
       "      <td>0.0</td>\n",
       "    </tr>\n",
       "    <tr>\n",
       "      <th>1</th>\n",
       "      <td>-0.020105</td>\n",
       "      <td>0.371138</td>\n",
       "      <td>-0.021451</td>\n",
       "      <td>0.375125</td>\n",
       "      <td>-1.0</td>\n",
       "      <td>0.0</td>\n",
       "      <td>False</td>\n",
       "      <td>0.0</td>\n",
       "      <td>0.0</td>\n",
       "      <td>0.0</td>\n",
       "      <td>0.0</td>\n",
       "      <td>1.0</td>\n",
       "      <td>0.0</td>\n",
       "      <td>0.0</td>\n",
       "      <td>0.0</td>\n",
       "      <td>0.0</td>\n",
       "      <td>0.0</td>\n",
       "      <td>0.0</td>\n",
       "      <td>1.0</td>\n",
       "      <td>0.0</td>\n",
       "      <td>0.0</td>\n",
       "      <td>1.0</td>\n",
       "      <td>0.0</td>\n",
       "      <td>0.0</td>\n",
       "      <td>0.0</td>\n",
       "      <td>0.0</td>\n",
       "      <td>1.0</td>\n",
       "      <td>0.0</td>\n",
       "      <td>0.0</td>\n",
       "      <td>0.0</td>\n",
       "      <td>0.0</td>\n",
       "      <td>0.0</td>\n",
       "      <td>0.0</td>\n",
       "      <td>0.0</td>\n",
       "    </tr>\n",
       "    <tr>\n",
       "      <th>2</th>\n",
       "      <td>-0.901458</td>\n",
       "      <td>0.802979</td>\n",
       "      <td>-0.929677</td>\n",
       "      <td>0.803902</td>\n",
       "      <td>0.0</td>\n",
       "      <td>0.0</td>\n",
       "      <td>False</td>\n",
       "      <td>0.0</td>\n",
       "      <td>0.0</td>\n",
       "      <td>0.0</td>\n",
       "      <td>0.0</td>\n",
       "      <td>1.0</td>\n",
       "      <td>0.0</td>\n",
       "      <td>0.0</td>\n",
       "      <td>0.0</td>\n",
       "      <td>1.0</td>\n",
       "      <td>0.0</td>\n",
       "      <td>0.0</td>\n",
       "      <td>1.0</td>\n",
       "      <td>0.0</td>\n",
       "      <td>0.0</td>\n",
       "      <td>1.0</td>\n",
       "      <td>0.0</td>\n",
       "      <td>1.0</td>\n",
       "      <td>0.0</td>\n",
       "      <td>0.0</td>\n",
       "      <td>0.0</td>\n",
       "      <td>1.0</td>\n",
       "      <td>0.0</td>\n",
       "      <td>0.0</td>\n",
       "      <td>0.0</td>\n",
       "      <td>0.0</td>\n",
       "      <td>0.0</td>\n",
       "      <td>0.0</td>\n",
       "    </tr>\n",
       "    <tr>\n",
       "      <th>3</th>\n",
       "      <td>0.463066</td>\n",
       "      <td>-0.270284</td>\n",
       "      <td>0.447309</td>\n",
       "      <td>-0.268751</td>\n",
       "      <td>0.0</td>\n",
       "      <td>0.0</td>\n",
       "      <td>False</td>\n",
       "      <td>0.0</td>\n",
       "      <td>0.0</td>\n",
       "      <td>0.0</td>\n",
       "      <td>0.0</td>\n",
       "      <td>1.0</td>\n",
       "      <td>0.0</td>\n",
       "      <td>0.0</td>\n",
       "      <td>0.0</td>\n",
       "      <td>1.0</td>\n",
       "      <td>0.0</td>\n",
       "      <td>0.0</td>\n",
       "      <td>1.0</td>\n",
       "      <td>0.0</td>\n",
       "      <td>0.0</td>\n",
       "      <td>1.0</td>\n",
       "      <td>0.0</td>\n",
       "      <td>1.0</td>\n",
       "      <td>0.0</td>\n",
       "      <td>1.0</td>\n",
       "      <td>0.0</td>\n",
       "      <td>0.0</td>\n",
       "      <td>0.0</td>\n",
       "      <td>0.0</td>\n",
       "      <td>0.0</td>\n",
       "      <td>0.0</td>\n",
       "      <td>0.0</td>\n",
       "      <td>0.0</td>\n",
       "    </tr>\n",
       "    <tr>\n",
       "      <th>4</th>\n",
       "      <td>0.474161</td>\n",
       "      <td>-0.393658</td>\n",
       "      <td>0.453869</td>\n",
       "      <td>-0.391643</td>\n",
       "      <td>0.0</td>\n",
       "      <td>0.0</td>\n",
       "      <td>False</td>\n",
       "      <td>0.0</td>\n",
       "      <td>0.0</td>\n",
       "      <td>0.0</td>\n",
       "      <td>0.0</td>\n",
       "      <td>1.0</td>\n",
       "      <td>0.0</td>\n",
       "      <td>0.0</td>\n",
       "      <td>1.0</td>\n",
       "      <td>0.0</td>\n",
       "      <td>0.0</td>\n",
       "      <td>0.0</td>\n",
       "      <td>1.0</td>\n",
       "      <td>0.0</td>\n",
       "      <td>0.0</td>\n",
       "      <td>1.0</td>\n",
       "      <td>0.0</td>\n",
       "      <td>1.0</td>\n",
       "      <td>0.0</td>\n",
       "      <td>1.0</td>\n",
       "      <td>0.0</td>\n",
       "      <td>0.0</td>\n",
       "      <td>0.0</td>\n",
       "      <td>0.0</td>\n",
       "      <td>0.0</td>\n",
       "      <td>0.0</td>\n",
       "      <td>0.0</td>\n",
       "      <td>0.0</td>\n",
       "    </tr>\n",
       "  </tbody>\n",
       "</table>\n",
       "</div>"
      ],
      "text/plain": [
       "   Location_Easting_OSGR  Location_Northing_OSGR  ...  Raining  Snowing\n",
       "0               0.551709               -0.174657  ...      0.0      0.0\n",
       "1              -0.020105                0.371138  ...      0.0      0.0\n",
       "2              -0.901458                0.802979  ...      0.0      0.0\n",
       "3               0.463066               -0.270284  ...      0.0      0.0\n",
       "4               0.474161               -0.393658  ...      0.0      0.0\n",
       "\n",
       "[5 rows x 34 columns]"
      ]
     },
     "execution_count": 88,
     "metadata": {
      "tags": []
     },
     "output_type": "execute_result"
    }
   ],
   "source": [
    "# Check if the final testset is fully operational\r\n",
    "final_testset_transormed.head()"
   ]
  },
  {
   "cell_type": "code",
   "execution_count": null,
   "metadata": {
    "id": "9W43kkjTXSLd"
   },
   "outputs": [],
   "source": [
    "#Adding the target variable to the transformed train set \n",
    "final_trainset = pd.concat([final_trainset_transormed, train_set[\"Accident_Severity\"].reset_index().drop(\"Accident_Index\", axis = 1)], axis = 1)\n",
    "\n",
    "#Adding the target variable to the transformed test set \n",
    "final_testset = pd.concat([final_testset_transormed, test_set[\"Accident_Severity\"].reset_index().drop(\"Accident_Index\", axis = 1)], axis = 1)"
   ]
  },
  {
   "cell_type": "code",
   "execution_count": null,
   "metadata": {
    "colab": {
     "base_uri": "https://localhost:8080/"
    },
    "id": "E3rslRllOL5K",
    "outputId": "db06957e-c9c5-44a6-b3eb-98c86d171d09"
   },
   "outputs": [
    {
     "data": {
      "text/plain": [
       "(93978, 35)"
      ]
     },
     "execution_count": 90,
     "metadata": {
      "tags": []
     },
     "output_type": "execute_result"
    }
   ],
   "source": [
    "#Check trainset shape\r\n",
    "final_trainset.shape"
   ]
  },
  {
   "cell_type": "code",
   "execution_count": null,
   "metadata": {
    "colab": {
     "base_uri": "https://localhost:8080/"
    },
    "id": "l8KzvPJfOdVm",
    "outputId": "595a764e-59ff-4fab-9f0e-cac262ac29d2"
   },
   "outputs": [
    {
     "data": {
      "text/plain": [
       "(23495, 35)"
      ]
     },
     "execution_count": 91,
     "metadata": {
      "tags": []
     },
     "output_type": "execute_result"
    }
   ],
   "source": [
    "#Check testset shape\r\n",
    "final_testset.shape"
   ]
  },
  {
   "cell_type": "code",
   "execution_count": null,
   "metadata": {
    "colab": {
     "base_uri": "https://localhost:8080/",
     "height": 258
    },
    "id": "khvAWoAZao14",
    "outputId": "5b35bfad-f7ea-42f8-ec59-0c63de1c7ee8"
   },
   "outputs": [
    {
     "data": {
      "text/html": [
       "<div>\n",
       "<style scoped>\n",
       "    .dataframe tbody tr th:only-of-type {\n",
       "        vertical-align: middle;\n",
       "    }\n",
       "\n",
       "    .dataframe tbody tr th {\n",
       "        vertical-align: top;\n",
       "    }\n",
       "\n",
       "    .dataframe thead th {\n",
       "        text-align: right;\n",
       "    }\n",
       "</style>\n",
       "<table border=\"1\" class=\"dataframe\">\n",
       "  <thead>\n",
       "    <tr style=\"text-align: right;\">\n",
       "      <th></th>\n",
       "      <th>Location_Easting_OSGR</th>\n",
       "      <th>Location_Northing_OSGR</th>\n",
       "      <th>Longitude</th>\n",
       "      <th>Latitude</th>\n",
       "      <th>Number_of_Vehicles</th>\n",
       "      <th>Speed_limit</th>\n",
       "      <th>high_winds</th>\n",
       "      <th>Monday</th>\n",
       "      <th>Saturday</th>\n",
       "      <th>Sunday</th>\n",
       "      <th>Thursday</th>\n",
       "      <th>Tuesday</th>\n",
       "      <th>Wednsday</th>\n",
       "      <th>One way street</th>\n",
       "      <th>Roundabout</th>\n",
       "      <th>Single carriageway</th>\n",
       "      <th>Slip road</th>\n",
       "      <th>Darkness - No lighting</th>\n",
       "      <th>Daylight</th>\n",
       "      <th>Snow</th>\n",
       "      <th>Water</th>\n",
       "      <th>None</th>\n",
       "      <th>Road Defect</th>\n",
       "      <th>Urban</th>\n",
       "      <th>Spring</th>\n",
       "      <th>Summer</th>\n",
       "      <th>Winter</th>\n",
       "      <th>Morning</th>\n",
       "      <th>Night</th>\n",
       "      <th>Road Hazard</th>\n",
       "      <th>Fog or mist</th>\n",
       "      <th>Other</th>\n",
       "      <th>Raining</th>\n",
       "      <th>Snowing</th>\n",
       "      <th>Accident_Severity</th>\n",
       "    </tr>\n",
       "  </thead>\n",
       "  <tbody>\n",
       "    <tr>\n",
       "      <th>0</th>\n",
       "      <td>-1.442574</td>\n",
       "      <td>2.079796</td>\n",
       "      <td>-1.556315</td>\n",
       "      <td>2.064596</td>\n",
       "      <td>-1.0</td>\n",
       "      <td>0.0</td>\n",
       "      <td>True</td>\n",
       "      <td>0.0</td>\n",
       "      <td>0.0</td>\n",
       "      <td>0.0</td>\n",
       "      <td>0.0</td>\n",
       "      <td>0.0</td>\n",
       "      <td>1.0</td>\n",
       "      <td>0.0</td>\n",
       "      <td>0.0</td>\n",
       "      <td>1.0</td>\n",
       "      <td>0.0</td>\n",
       "      <td>1.0</td>\n",
       "      <td>0.0</td>\n",
       "      <td>0.0</td>\n",
       "      <td>1.0</td>\n",
       "      <td>1.0</td>\n",
       "      <td>0.0</td>\n",
       "      <td>1.0</td>\n",
       "      <td>0.0</td>\n",
       "      <td>0.0</td>\n",
       "      <td>1.0</td>\n",
       "      <td>1.0</td>\n",
       "      <td>0.0</td>\n",
       "      <td>0.0</td>\n",
       "      <td>0.0</td>\n",
       "      <td>0.0</td>\n",
       "      <td>1.0</td>\n",
       "      <td>0.0</td>\n",
       "      <td>Slight</td>\n",
       "    </tr>\n",
       "    <tr>\n",
       "      <th>1</th>\n",
       "      <td>0.370081</td>\n",
       "      <td>1.005455</td>\n",
       "      <td>0.398955</td>\n",
       "      <td>1.001380</td>\n",
       "      <td>-1.0</td>\n",
       "      <td>-1.0</td>\n",
       "      <td>False</td>\n",
       "      <td>0.0</td>\n",
       "      <td>1.0</td>\n",
       "      <td>0.0</td>\n",
       "      <td>0.0</td>\n",
       "      <td>0.0</td>\n",
       "      <td>0.0</td>\n",
       "      <td>0.0</td>\n",
       "      <td>0.0</td>\n",
       "      <td>1.0</td>\n",
       "      <td>0.0</td>\n",
       "      <td>0.0</td>\n",
       "      <td>0.0</td>\n",
       "      <td>0.0</td>\n",
       "      <td>0.0</td>\n",
       "      <td>1.0</td>\n",
       "      <td>0.0</td>\n",
       "      <td>1.0</td>\n",
       "      <td>0.0</td>\n",
       "      <td>1.0</td>\n",
       "      <td>0.0</td>\n",
       "      <td>0.0</td>\n",
       "      <td>1.0</td>\n",
       "      <td>0.0</td>\n",
       "      <td>0.0</td>\n",
       "      <td>0.0</td>\n",
       "      <td>0.0</td>\n",
       "      <td>0.0</td>\n",
       "      <td>Slight</td>\n",
       "    </tr>\n",
       "    <tr>\n",
       "      <th>2</th>\n",
       "      <td>-0.698771</td>\n",
       "      <td>-0.202495</td>\n",
       "      <td>-0.706757</td>\n",
       "      <td>-0.194844</td>\n",
       "      <td>-1.0</td>\n",
       "      <td>0.0</td>\n",
       "      <td>False</td>\n",
       "      <td>0.0</td>\n",
       "      <td>0.0</td>\n",
       "      <td>0.0</td>\n",
       "      <td>0.0</td>\n",
       "      <td>0.0</td>\n",
       "      <td>1.0</td>\n",
       "      <td>0.0</td>\n",
       "      <td>0.0</td>\n",
       "      <td>1.0</td>\n",
       "      <td>0.0</td>\n",
       "      <td>0.0</td>\n",
       "      <td>1.0</td>\n",
       "      <td>0.0</td>\n",
       "      <td>0.0</td>\n",
       "      <td>1.0</td>\n",
       "      <td>0.0</td>\n",
       "      <td>1.0</td>\n",
       "      <td>0.0</td>\n",
       "      <td>0.0</td>\n",
       "      <td>1.0</td>\n",
       "      <td>1.0</td>\n",
       "      <td>0.0</td>\n",
       "      <td>0.0</td>\n",
       "      <td>0.0</td>\n",
       "      <td>0.0</td>\n",
       "      <td>0.0</td>\n",
       "      <td>0.0</td>\n",
       "      <td>Slight</td>\n",
       "    </tr>\n",
       "    <tr>\n",
       "      <th>3</th>\n",
       "      <td>0.560456</td>\n",
       "      <td>-0.225449</td>\n",
       "      <td>0.545707</td>\n",
       "      <td>-0.225843</td>\n",
       "      <td>1.0</td>\n",
       "      <td>-1.0</td>\n",
       "      <td>False</td>\n",
       "      <td>1.0</td>\n",
       "      <td>0.0</td>\n",
       "      <td>0.0</td>\n",
       "      <td>0.0</td>\n",
       "      <td>0.0</td>\n",
       "      <td>0.0</td>\n",
       "      <td>0.0</td>\n",
       "      <td>0.0</td>\n",
       "      <td>1.0</td>\n",
       "      <td>0.0</td>\n",
       "      <td>0.0</td>\n",
       "      <td>1.0</td>\n",
       "      <td>0.0</td>\n",
       "      <td>0.0</td>\n",
       "      <td>1.0</td>\n",
       "      <td>0.0</td>\n",
       "      <td>1.0</td>\n",
       "      <td>0.0</td>\n",
       "      <td>1.0</td>\n",
       "      <td>0.0</td>\n",
       "      <td>0.0</td>\n",
       "      <td>0.0</td>\n",
       "      <td>0.0</td>\n",
       "      <td>0.0</td>\n",
       "      <td>0.0</td>\n",
       "      <td>0.0</td>\n",
       "      <td>0.0</td>\n",
       "      <td>Slight</td>\n",
       "    </tr>\n",
       "    <tr>\n",
       "      <th>4</th>\n",
       "      <td>0.373136</td>\n",
       "      <td>0.722523</td>\n",
       "      <td>0.391836</td>\n",
       "      <td>0.720016</td>\n",
       "      <td>-1.0</td>\n",
       "      <td>3.0</td>\n",
       "      <td>False</td>\n",
       "      <td>0.0</td>\n",
       "      <td>0.0</td>\n",
       "      <td>0.0</td>\n",
       "      <td>0.0</td>\n",
       "      <td>1.0</td>\n",
       "      <td>0.0</td>\n",
       "      <td>0.0</td>\n",
       "      <td>0.0</td>\n",
       "      <td>1.0</td>\n",
       "      <td>0.0</td>\n",
       "      <td>0.0</td>\n",
       "      <td>1.0</td>\n",
       "      <td>0.0</td>\n",
       "      <td>1.0</td>\n",
       "      <td>1.0</td>\n",
       "      <td>0.0</td>\n",
       "      <td>0.0</td>\n",
       "      <td>0.0</td>\n",
       "      <td>1.0</td>\n",
       "      <td>0.0</td>\n",
       "      <td>0.0</td>\n",
       "      <td>0.0</td>\n",
       "      <td>0.0</td>\n",
       "      <td>0.0</td>\n",
       "      <td>0.0</td>\n",
       "      <td>1.0</td>\n",
       "      <td>0.0</td>\n",
       "      <td>Slight</td>\n",
       "    </tr>\n",
       "  </tbody>\n",
       "</table>\n",
       "</div>"
      ],
      "text/plain": [
       "   Location_Easting_OSGR  Location_Northing_OSGR  ...  Snowing  Accident_Severity\n",
       "0              -1.442574                2.079796  ...      0.0             Slight\n",
       "1               0.370081                1.005455  ...      0.0             Slight\n",
       "2              -0.698771               -0.202495  ...      0.0             Slight\n",
       "3               0.560456               -0.225449  ...      0.0             Slight\n",
       "4               0.373136                0.722523  ...      0.0             Slight\n",
       "\n",
       "[5 rows x 35 columns]"
      ]
     },
     "execution_count": 92,
     "metadata": {
      "tags": []
     },
     "output_type": "execute_result"
    }
   ],
   "source": [
    "final_trainset.head()"
   ]
  },
  {
   "cell_type": "code",
   "execution_count": null,
   "metadata": {
    "colab": {
     "base_uri": "https://localhost:8080/",
     "height": 258
    },
    "id": "MUZ3XJgzA49D",
    "outputId": "087e7077-c2ad-476a-9d57-92ef8fc0eb24"
   },
   "outputs": [
    {
     "data": {
      "text/html": [
       "<div>\n",
       "<style scoped>\n",
       "    .dataframe tbody tr th:only-of-type {\n",
       "        vertical-align: middle;\n",
       "    }\n",
       "\n",
       "    .dataframe tbody tr th {\n",
       "        vertical-align: top;\n",
       "    }\n",
       "\n",
       "    .dataframe thead th {\n",
       "        text-align: right;\n",
       "    }\n",
       "</style>\n",
       "<table border=\"1\" class=\"dataframe\">\n",
       "  <thead>\n",
       "    <tr style=\"text-align: right;\">\n",
       "      <th></th>\n",
       "      <th>Location_Easting_OSGR</th>\n",
       "      <th>Location_Northing_OSGR</th>\n",
       "      <th>Longitude</th>\n",
       "      <th>Latitude</th>\n",
       "      <th>Number_of_Vehicles</th>\n",
       "      <th>Speed_limit</th>\n",
       "      <th>high_winds</th>\n",
       "      <th>Monday</th>\n",
       "      <th>Saturday</th>\n",
       "      <th>Sunday</th>\n",
       "      <th>Thursday</th>\n",
       "      <th>Tuesday</th>\n",
       "      <th>Wednsday</th>\n",
       "      <th>One way street</th>\n",
       "      <th>Roundabout</th>\n",
       "      <th>Single carriageway</th>\n",
       "      <th>Slip road</th>\n",
       "      <th>Darkness - No lighting</th>\n",
       "      <th>Daylight</th>\n",
       "      <th>Snow</th>\n",
       "      <th>Water</th>\n",
       "      <th>None</th>\n",
       "      <th>Road Defect</th>\n",
       "      <th>Urban</th>\n",
       "      <th>Spring</th>\n",
       "      <th>Summer</th>\n",
       "      <th>Winter</th>\n",
       "      <th>Morning</th>\n",
       "      <th>Night</th>\n",
       "      <th>Road Hazard</th>\n",
       "      <th>Fog or mist</th>\n",
       "      <th>Other</th>\n",
       "      <th>Raining</th>\n",
       "      <th>Snowing</th>\n",
       "      <th>Accident_Severity</th>\n",
       "    </tr>\n",
       "  </thead>\n",
       "  <tbody>\n",
       "    <tr>\n",
       "      <th>0</th>\n",
       "      <td>0.551709</td>\n",
       "      <td>-0.174657</td>\n",
       "      <td>0.539034</td>\n",
       "      <td>-0.175172</td>\n",
       "      <td>0.0</td>\n",
       "      <td>-1.0</td>\n",
       "      <td>False</td>\n",
       "      <td>0.0</td>\n",
       "      <td>0.0</td>\n",
       "      <td>1.0</td>\n",
       "      <td>0.0</td>\n",
       "      <td>0.0</td>\n",
       "      <td>0.0</td>\n",
       "      <td>0.0</td>\n",
       "      <td>0.0</td>\n",
       "      <td>1.0</td>\n",
       "      <td>0.0</td>\n",
       "      <td>0.0</td>\n",
       "      <td>0.0</td>\n",
       "      <td>0.0</td>\n",
       "      <td>1.0</td>\n",
       "      <td>1.0</td>\n",
       "      <td>0.0</td>\n",
       "      <td>1.0</td>\n",
       "      <td>0.0</td>\n",
       "      <td>0.0</td>\n",
       "      <td>1.0</td>\n",
       "      <td>0.0</td>\n",
       "      <td>1.0</td>\n",
       "      <td>0.0</td>\n",
       "      <td>0.0</td>\n",
       "      <td>0.0</td>\n",
       "      <td>0.0</td>\n",
       "      <td>0.0</td>\n",
       "      <td>Slight</td>\n",
       "    </tr>\n",
       "    <tr>\n",
       "      <th>1</th>\n",
       "      <td>-0.020105</td>\n",
       "      <td>0.371138</td>\n",
       "      <td>-0.021451</td>\n",
       "      <td>0.375125</td>\n",
       "      <td>-1.0</td>\n",
       "      <td>0.0</td>\n",
       "      <td>False</td>\n",
       "      <td>0.0</td>\n",
       "      <td>0.0</td>\n",
       "      <td>0.0</td>\n",
       "      <td>0.0</td>\n",
       "      <td>1.0</td>\n",
       "      <td>0.0</td>\n",
       "      <td>0.0</td>\n",
       "      <td>0.0</td>\n",
       "      <td>0.0</td>\n",
       "      <td>0.0</td>\n",
       "      <td>0.0</td>\n",
       "      <td>1.0</td>\n",
       "      <td>0.0</td>\n",
       "      <td>0.0</td>\n",
       "      <td>1.0</td>\n",
       "      <td>0.0</td>\n",
       "      <td>0.0</td>\n",
       "      <td>0.0</td>\n",
       "      <td>0.0</td>\n",
       "      <td>1.0</td>\n",
       "      <td>0.0</td>\n",
       "      <td>0.0</td>\n",
       "      <td>0.0</td>\n",
       "      <td>0.0</td>\n",
       "      <td>0.0</td>\n",
       "      <td>0.0</td>\n",
       "      <td>0.0</td>\n",
       "      <td>Serious</td>\n",
       "    </tr>\n",
       "    <tr>\n",
       "      <th>2</th>\n",
       "      <td>-0.901458</td>\n",
       "      <td>0.802979</td>\n",
       "      <td>-0.929677</td>\n",
       "      <td>0.803902</td>\n",
       "      <td>0.0</td>\n",
       "      <td>0.0</td>\n",
       "      <td>False</td>\n",
       "      <td>0.0</td>\n",
       "      <td>0.0</td>\n",
       "      <td>0.0</td>\n",
       "      <td>0.0</td>\n",
       "      <td>1.0</td>\n",
       "      <td>0.0</td>\n",
       "      <td>0.0</td>\n",
       "      <td>0.0</td>\n",
       "      <td>1.0</td>\n",
       "      <td>0.0</td>\n",
       "      <td>0.0</td>\n",
       "      <td>1.0</td>\n",
       "      <td>0.0</td>\n",
       "      <td>0.0</td>\n",
       "      <td>1.0</td>\n",
       "      <td>0.0</td>\n",
       "      <td>1.0</td>\n",
       "      <td>0.0</td>\n",
       "      <td>0.0</td>\n",
       "      <td>0.0</td>\n",
       "      <td>1.0</td>\n",
       "      <td>0.0</td>\n",
       "      <td>0.0</td>\n",
       "      <td>0.0</td>\n",
       "      <td>0.0</td>\n",
       "      <td>0.0</td>\n",
       "      <td>0.0</td>\n",
       "      <td>Slight</td>\n",
       "    </tr>\n",
       "    <tr>\n",
       "      <th>3</th>\n",
       "      <td>0.463066</td>\n",
       "      <td>-0.270284</td>\n",
       "      <td>0.447309</td>\n",
       "      <td>-0.268751</td>\n",
       "      <td>0.0</td>\n",
       "      <td>0.0</td>\n",
       "      <td>False</td>\n",
       "      <td>0.0</td>\n",
       "      <td>0.0</td>\n",
       "      <td>0.0</td>\n",
       "      <td>0.0</td>\n",
       "      <td>1.0</td>\n",
       "      <td>0.0</td>\n",
       "      <td>0.0</td>\n",
       "      <td>0.0</td>\n",
       "      <td>1.0</td>\n",
       "      <td>0.0</td>\n",
       "      <td>0.0</td>\n",
       "      <td>1.0</td>\n",
       "      <td>0.0</td>\n",
       "      <td>0.0</td>\n",
       "      <td>1.0</td>\n",
       "      <td>0.0</td>\n",
       "      <td>1.0</td>\n",
       "      <td>0.0</td>\n",
       "      <td>1.0</td>\n",
       "      <td>0.0</td>\n",
       "      <td>0.0</td>\n",
       "      <td>0.0</td>\n",
       "      <td>0.0</td>\n",
       "      <td>0.0</td>\n",
       "      <td>0.0</td>\n",
       "      <td>0.0</td>\n",
       "      <td>0.0</td>\n",
       "      <td>Slight</td>\n",
       "    </tr>\n",
       "    <tr>\n",
       "      <th>4</th>\n",
       "      <td>0.474161</td>\n",
       "      <td>-0.393658</td>\n",
       "      <td>0.453869</td>\n",
       "      <td>-0.391643</td>\n",
       "      <td>0.0</td>\n",
       "      <td>0.0</td>\n",
       "      <td>False</td>\n",
       "      <td>0.0</td>\n",
       "      <td>0.0</td>\n",
       "      <td>0.0</td>\n",
       "      <td>0.0</td>\n",
       "      <td>1.0</td>\n",
       "      <td>0.0</td>\n",
       "      <td>0.0</td>\n",
       "      <td>1.0</td>\n",
       "      <td>0.0</td>\n",
       "      <td>0.0</td>\n",
       "      <td>0.0</td>\n",
       "      <td>1.0</td>\n",
       "      <td>0.0</td>\n",
       "      <td>0.0</td>\n",
       "      <td>1.0</td>\n",
       "      <td>0.0</td>\n",
       "      <td>1.0</td>\n",
       "      <td>0.0</td>\n",
       "      <td>1.0</td>\n",
       "      <td>0.0</td>\n",
       "      <td>0.0</td>\n",
       "      <td>0.0</td>\n",
       "      <td>0.0</td>\n",
       "      <td>0.0</td>\n",
       "      <td>0.0</td>\n",
       "      <td>0.0</td>\n",
       "      <td>0.0</td>\n",
       "      <td>Slight</td>\n",
       "    </tr>\n",
       "  </tbody>\n",
       "</table>\n",
       "</div>"
      ],
      "text/plain": [
       "   Location_Easting_OSGR  Location_Northing_OSGR  ...  Snowing  Accident_Severity\n",
       "0               0.551709               -0.174657  ...      0.0             Slight\n",
       "1              -0.020105                0.371138  ...      0.0            Serious\n",
       "2              -0.901458                0.802979  ...      0.0             Slight\n",
       "3               0.463066               -0.270284  ...      0.0             Slight\n",
       "4               0.474161               -0.393658  ...      0.0             Slight\n",
       "\n",
       "[5 rows x 35 columns]"
      ]
     },
     "execution_count": 93,
     "metadata": {
      "tags": []
     },
     "output_type": "execute_result"
    }
   ],
   "source": [
    "final_testset.head()"
   ]
  },
  {
   "cell_type": "code",
   "execution_count": null,
   "metadata": {
    "colab": {
     "base_uri": "https://localhost:8080/",
     "height": 209
    },
    "id": "16-neYcQ0YUM",
    "outputId": "bea54176-fc2d-4665-ef0e-cb831eab6919"
   },
   "outputs": [
    {
     "ename": "NameError",
     "evalue": "ignored",
     "output_type": "error",
     "traceback": [
      "\u001b[0;31m---------------------------------------------------------------------------\u001b[0m",
      "\u001b[0;31mNameError\u001b[0m                                 Traceback (most recent call last)",
      "\u001b[0;32m<ipython-input-1-56fdb60b0ea1>\u001b[0m in \u001b[0;36m<module>\u001b[0;34m()\u001b[0m\n\u001b[1;32m      1\u001b[0m \u001b[0;31m# Export the datasets\u001b[0m\u001b[0;34m\u001b[0m\u001b[0;34m\u001b[0m\u001b[0;34m\u001b[0m\u001b[0m\n\u001b[0;32m----> 2\u001b[0;31m \u001b[0mfinal_testset\u001b[0m\u001b[0;34m.\u001b[0m\u001b[0mto_csv\u001b[0m\u001b[0;34m(\u001b[0m\u001b[0;34m'final_testset.csv'\u001b[0m\u001b[0;34m,\u001b[0m \u001b[0mindex\u001b[0m\u001b[0;34m=\u001b[0m\u001b[0;32mFalse\u001b[0m\u001b[0;34m)\u001b[0m\u001b[0;34m\u001b[0m\u001b[0;34m\u001b[0m\u001b[0m\n\u001b[0m\u001b[1;32m      3\u001b[0m \u001b[0mfinal_trainset\u001b[0m\u001b[0;34m.\u001b[0m\u001b[0mto_csv\u001b[0m\u001b[0;34m(\u001b[0m\u001b[0;34m'final_trainset.csv'\u001b[0m\u001b[0;34m,\u001b[0m \u001b[0mindex\u001b[0m\u001b[0;34m=\u001b[0m\u001b[0;32mFalse\u001b[0m\u001b[0;34m)\u001b[0m\u001b[0;34m\u001b[0m\u001b[0;34m\u001b[0m\u001b[0m\n",
      "\u001b[0;31mNameError\u001b[0m: name 'final_testset' is not defined"
     ]
    }
   ],
   "source": [
    "# Export the datasets\r\n",
    "final_testset.to_csv('final_testset.csv', index=False)\r\n",
    "final_trainset.to_csv('final_trainset.csv', index=False) "
   ]
  }
 ],
 "metadata": {
  "accelerator": "GPU",
  "colab": {
   "collapsed_sections": [],
   "name": "BigData_Coursework_Group.ipynb",
   "provenance": [],
   "toc_visible": true
  },
  "kernelspec": {
   "display_name": "Python 3",
   "language": "python",
   "name": "python3"
  },
  "language_info": {
   "codemirror_mode": {
    "name": "ipython",
    "version": 3
   },
   "file_extension": ".py",
   "mimetype": "text/x-python",
   "name": "python",
   "nbconvert_exporter": "python",
   "pygments_lexer": "ipython3",
   "version": "3.7.10"
  }
 },
 "nbformat": 4,
 "nbformat_minor": 4
}
